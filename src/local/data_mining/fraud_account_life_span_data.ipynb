{
 "cells": [
  {
   "cell_type": "markdown",
   "metadata": {
    "pycharm": {
     "name": "#%% md\n"
    }
   },
   "source": [
    "# Fraud Accounts Life Span Data Collection"
   ]
  },
  {
   "cell_type": "code",
   "execution_count": 2,
   "metadata": {
    "pycharm": {
     "name": "#%%\n"
    }
   },
   "outputs": [],
   "source": [
    "import pandas as pd\n",
    "import numpy as np\n",
    "import matplotlib.pyplot as plt\n",
    "import seaborn as sns\n",
    "import matplotlib.pyplot as plt\n",
    "plt.style.use('ggplot')\n",
    "from scipy import stats\n",
    "get_ipython().magic(u'config IPCompleter.greedy=True')\n",
    "\n",
    "sns.set(color_codes=True)"
   ]
  },
  {
   "cell_type": "code",
   "execution_count": 3,
   "metadata": {
    "pycharm": {
     "name": "#%%\n"
    }
   },
   "outputs": [],
   "source": [
    "## Amazon AWS Redshift Connection\n",
    "from contextlib import closing\n",
    "\n",
    "\n",
    "import psycopg2\n",
    "import pandas as pd\n",
    "import simplejson\n",
    "\n",
    "DEFAULT_DB = 'data_depot'\n",
    "DEFAULT_HOST = 'freshbooks-data.c8exzn6geij3.us-east-1.redshift.amazonaws.com'\n",
    "DEFAULT_PORT = 5439\n",
    "\n",
    "\n",
    "class PsycopgConnector:\n",
    "    '''\n",
    "    A database connector that uses Psycopg to connect to Redshift.\n",
    "\n",
    "    How to play:\n",
    "\n",
    "        psy_conn = PsycopgConnector(username, password)\n",
    "        df = psy_conn.run_query(sql=sql, return_data=True)\n",
    "\n",
    "    NOTE: This class commits queries to redshift if return_data=False.\n",
    "    This means INSERT, DROP, TRUNCATE, etc. all work against the DB.\n",
    "    '''\n",
    "\n",
    "    def __init__(\n",
    "        self,\n",
    "        username=None,\n",
    "        password=None,\n",
    "        db=DEFAULT_DB,\n",
    "        host=DEFAULT_HOST,\n",
    "        port=DEFAULT_PORT,\n",
    "    ):\n",
    "\n",
    "        self.db = DEFAULT_DB\n",
    "        self.host = DEFAULT_HOST\n",
    "        self.port = DEFAULT_PORT\n",
    "\n",
    "        self.username = username\n",
    "        self.password = password\n",
    "\n",
    "    def _get_connection(self):\n",
    "\n",
    "        self.conn = psycopg2.connect(\n",
    "            dbname=self.db,\n",
    "            user=self.username,\n",
    "            password=self.password,\n",
    "            host=self.host,\n",
    "            port=self.port\n",
    "        )\n",
    "\n",
    "        return self.conn\n",
    "\n",
    "    def run_query(self, sql, return_data=False):\n",
    "\n",
    "        with closing(self._get_connection()) as conn:\n",
    "            with conn, conn.cursor() as cur:\n",
    "                if return_data:\n",
    "                    return pd.read_sql(sql=sql, con=conn)\n",
    "                else:\n",
    "                    cur.execute(sql)\n",
    "                    \n",
    "\n",
    "# Read the Redshift's credentials file \n",
    "with open(\"redshift_creds.json.nogit\") as fh:\n",
    "    creds = simplejson.loads(fh.read())\n",
    "    \n",
    "username = creds.get(\"user_name\")\n",
    "password = creds.get(\"password\")\n",
    "\n",
    "pig = PsycopgConnector(username, password)\n",
    "\n",
    "username = creds.get(\"user_name\")\n",
    "password = creds.get(\"password\")"
   ]
  },
  {
   "cell_type": "code",
   "execution_count": 4,
   "metadata": {
    "pycharm": {
     "name": "#%%\n"
    }
   },
   "outputs": [
    {
     "data": {
      "text/html": [
       "<div>\n",
       "<style scoped>\n",
       "    .dataframe tbody tr th:only-of-type {\n",
       "        vertical-align: middle;\n",
       "    }\n",
       "\n",
       "    .dataframe tbody tr th {\n",
       "        vertical-align: top;\n",
       "    }\n",
       "\n",
       "    .dataframe thead th {\n",
       "        text-align: right;\n",
       "    }\n",
       "</style>\n",
       "<table border=\"1\" class=\"dataframe\">\n",
       "  <thead>\n",
       "    <tr style=\"text-align: right;\">\n",
       "      <th></th>\n",
       "      <th>systemid</th>\n",
       "      <th>business_id</th>\n",
       "      <th>admin_identity_id</th>\n",
       "      <th>subdomain</th>\n",
       "      <th>is_freshbooks_account_active</th>\n",
       "      <th>is_modern</th>\n",
       "      <th>most_recent_migrated_to_smux_at</th>\n",
       "      <th>is_contractor</th>\n",
       "      <th>currency_code</th>\n",
       "      <th>timezone</th>\n",
       "      <th>...</th>\n",
       "      <th>staff_count</th>\n",
       "      <th>staff_deleted_count</th>\n",
       "      <th>contractor_count</th>\n",
       "      <th>contractor_deleted_count</th>\n",
       "      <th>user_contact_count</th>\n",
       "      <th>enabled_gateway_count</th>\n",
       "      <th>google_sso_first_linked_date</th>\n",
       "      <th>google_sso_most_recent_linked_date</th>\n",
       "      <th>google_sso_first_removal_date</th>\n",
       "      <th>google_sso_most_recent_removal_date</th>\n",
       "    </tr>\n",
       "  </thead>\n",
       "  <tbody>\n",
       "    <tr>\n",
       "      <th>0</th>\n",
       "      <td>3723</td>\n",
       "      <td>None</td>\n",
       "      <td>None</td>\n",
       "      <td>https://shane.freshbooks.com</td>\n",
       "      <td>0</td>\n",
       "      <td>0</td>\n",
       "      <td>None</td>\n",
       "      <td>0</td>\n",
       "      <td>USD</td>\n",
       "      <td>US/Eastern</td>\n",
       "      <td>...</td>\n",
       "      <td>0</td>\n",
       "      <td>0</td>\n",
       "      <td>0</td>\n",
       "      <td>0</td>\n",
       "      <td>0</td>\n",
       "      <td>0</td>\n",
       "      <td>None</td>\n",
       "      <td>None</td>\n",
       "      <td>None</td>\n",
       "      <td>None</td>\n",
       "    </tr>\n",
       "    <tr>\n",
       "      <th>1</th>\n",
       "      <td>3809</td>\n",
       "      <td>None</td>\n",
       "      <td>None</td>\n",
       "      <td>https://ASA.freshbooks.com</td>\n",
       "      <td>0</td>\n",
       "      <td>0</td>\n",
       "      <td>None</td>\n",
       "      <td>0</td>\n",
       "      <td>USD</td>\n",
       "      <td>US/Eastern</td>\n",
       "      <td>...</td>\n",
       "      <td>1</td>\n",
       "      <td>0</td>\n",
       "      <td>0</td>\n",
       "      <td>0</td>\n",
       "      <td>0</td>\n",
       "      <td>0</td>\n",
       "      <td>None</td>\n",
       "      <td>None</td>\n",
       "      <td>None</td>\n",
       "      <td>None</td>\n",
       "    </tr>\n",
       "  </tbody>\n",
       "</table>\n",
       "<p>2 rows × 141 columns</p>\n",
       "</div>"
      ],
      "text/plain": [
       "   systemid business_id admin_identity_id                     subdomain  \\\n",
       "0      3723        None              None  https://shane.freshbooks.com   \n",
       "1      3809        None              None    https://ASA.freshbooks.com   \n",
       "\n",
       "   is_freshbooks_account_active  is_modern most_recent_migrated_to_smux_at  \\\n",
       "0                             0          0                            None   \n",
       "1                             0          0                            None   \n",
       "\n",
       "   is_contractor currency_code    timezone  ...  staff_count  \\\n",
       "0              0           USD  US/Eastern  ...            0   \n",
       "1              0           USD  US/Eastern  ...            1   \n",
       "\n",
       "  staff_deleted_count contractor_count contractor_deleted_count  \\\n",
       "0                   0                0                        0   \n",
       "1                   0                0                        0   \n",
       "\n",
       "  user_contact_count enabled_gateway_count google_sso_first_linked_date  \\\n",
       "0                  0                     0                         None   \n",
       "1                  0                     0                         None   \n",
       "\n",
       "  google_sso_most_recent_linked_date google_sso_first_removal_date  \\\n",
       "0                               None                          None   \n",
       "1                               None                          None   \n",
       "\n",
       "  google_sso_most_recent_removal_date  \n",
       "0                                None  \n",
       "1                                None  \n",
       "\n",
       "[2 rows x 141 columns]"
      ]
     },
     "execution_count": 4,
     "metadata": {},
     "output_type": "execute_result"
    }
   ],
   "source": [
    "# Test the connection\n",
    "query = \"SELECT * FROM report_systems LIMIT 10\"\n",
    "df = pig.run_query(query, return_data=True)\n",
    "df.head(2)"
   ]
  },
  {
   "cell_type": "code",
   "execution_count": 8,
   "metadata": {
    "pycharm": {
     "name": "#%%\n"
    }
   },
   "outputs": [],
   "source": [
    "## Fraud Accounts Lifespan Data Collection\n",
    "sql_fraud_account_lifespan = '''select *\n",
    "from (\n",
    "         with fra_rs as (\n",
    "             select systemid\n",
    "                  , rs.signup_date\n",
    "             from report_systems as rs\n",
    "         ),\n",
    "              fra_list as (\n",
    "                  select fra.systemid\n",
    "                       , DATEDIFF(days, fr.signup_date, fra.status_date::date) as days_before_ban\n",
    "                  from data_science.fraud_accounts_list as fra\n",
    "                           left join fra_rs as fr using (systemid)\n",
    "              )\n",
    "\n",
    "         select *\n",
    "         from fra_list\n",
    "     )\n",
    "join (select systemid from data_science.fraud_accounts_final) using (systemid);'''\n",
    "\n",
    "# Import as dataframe from redshift\n",
    "df_fraud_account_lifespan = pig.run_query(sql_fraud_account_lifespan, return_data=True)\n"
   ]
  },
  {
   "cell_type": "code",
   "execution_count": 9,
   "metadata": {
    "pycharm": {
     "name": "#%%\n"
    }
   },
   "outputs": [
    {
     "data": {
      "text/html": [
       "<div>\n",
       "<style scoped>\n",
       "    .dataframe tbody tr th:only-of-type {\n",
       "        vertical-align: middle;\n",
       "    }\n",
       "\n",
       "    .dataframe tbody tr th {\n",
       "        vertical-align: top;\n",
       "    }\n",
       "\n",
       "    .dataframe thead th {\n",
       "        text-align: right;\n",
       "    }\n",
       "</style>\n",
       "<table border=\"1\" class=\"dataframe\">\n",
       "  <thead>\n",
       "    <tr style=\"text-align: right;\">\n",
       "      <th></th>\n",
       "      <th>systemid</th>\n",
       "      <th>days_before_ban</th>\n",
       "    </tr>\n",
       "  </thead>\n",
       "  <tbody>\n",
       "    <tr>\n",
       "      <th>357</th>\n",
       "      <td>1758644</td>\n",
       "      <td>690</td>\n",
       "    </tr>\n",
       "    <tr>\n",
       "      <th>358</th>\n",
       "      <td>1826920</td>\n",
       "      <td>742</td>\n",
       "    </tr>\n",
       "    <tr>\n",
       "      <th>359</th>\n",
       "      <td>2732755</td>\n",
       "      <td>631</td>\n",
       "    </tr>\n",
       "    <tr>\n",
       "      <th>360</th>\n",
       "      <td>732140</td>\n",
       "      <td>1542</td>\n",
       "    </tr>\n",
       "    <tr>\n",
       "      <th>361</th>\n",
       "      <td>1271218</td>\n",
       "      <td>1124</td>\n",
       "    </tr>\n",
       "  </tbody>\n",
       "</table>\n",
       "</div>"
      ],
      "text/plain": [
       "     systemid  days_before_ban\n",
       "357   1758644              690\n",
       "358   1826920              742\n",
       "359   2732755              631\n",
       "360    732140             1542\n",
       "361   1271218             1124"
      ]
     },
     "execution_count": 9,
     "metadata": {},
     "output_type": "execute_result"
    }
   ],
   "source": [
    "## Test data\n",
    "df_fraud_account_lifespan.tail()"
   ]
  },
  {
   "cell_type": "code",
   "execution_count": 10,
   "metadata": {
    "pycharm": {
     "name": "#%%\n"
    }
   },
   "outputs": [],
   "source": [
    "# Export as csv file\n",
    "df_fraud_account_lifespan.to_csv(\n",
    "    \"/Users/dwahid/Documents/GitHub/fraud_detection/data/analyzing_fraud_accounts/fraud_accounts_lifespan.tsv\", \n",
    "                                      sep=\"\\t\", index=False)"
   ]
  }
 ],
 "metadata": {
  "kernelspec": {
   "display_name": "Python 2",
   "language": "python",
   "name": "python2"
  },
  "language_info": {
   "codemirror_mode": {
    "name": "ipython",
    "version": 2
   },
   "file_extension": ".py",
   "mimetype": "text/x-python",
   "name": "python",
   "nbconvert_exporter": "python",
   "pygments_lexer": "ipython2",
   "version": "2.7.17"
  }
 },
 "nbformat": 4,
 "nbformat_minor": 2
}