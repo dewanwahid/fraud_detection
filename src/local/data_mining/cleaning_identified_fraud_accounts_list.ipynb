{
 "cells": [
  {
   "cell_type": "code",
   "execution_count": 1,
   "metadata": {
    "pycharm": {
     "name": "#%%\n"
    }
   },
   "outputs": [],
   "source": [
    "import pandas as pd\n",
    "import numpy as np\n",
    "%config IPCompleter.greedy=True"
   ]
  },
  {
   "cell_type": "code",
   "execution_count": 2,
   "metadata": {
    "pycharm": {
     "name": "#%%\n"
    }
   },
   "outputs": [],
   "source": [
    "df_fraud_set_a = pd.read_csv(\"/Users/dwahid/Documents/GitHub/fraud_detection/data_raw/Fraud_Status_Google_ Sheet.csv\") "
   ]
  },
  {
   "cell_type": "code",
   "execution_count": null,
   "metadata": {
    "pycharm": {
     "name": "#%%\n",
     "is_executing": true
    }
   },
   "outputs": [],
   "source": [
    "df_fraud_set_a.head()"
   ]
  },
  {
   "cell_type": "code",
   "execution_count": 16,
   "metadata": {
    "pycharm": {
     "name": "#%%\n"
    }
   },
   "outputs": [],
   "source": [
    "# Identified fraud accounts by using Ramzy's anomaly detection model\n",
    "df_fraud_set_a = pd.read_csv(\"/Users/dwahid/Documents/GitHub/fraud_detection/data_raw/Fraud_Status_Google_ Sheet.csv\") \n",
    "df_fraud_set_a['systemid'].replace(' ', np.nan, inplace=True)  # replacing empty 'systemid' with 'NaN'\n",
    "df_fraud_set_a.dropna(subset=['systemid'], inplace=True)       # filtering out the 'systemid' rows with 'NaN'\n",
    "df_fraud_set_a = df_fraud_set_a[['systemid', 'status_date', 'account_status', 'fraud_status', 'notes']]"
   ]
  },
  {
   "cell_type": "code",
   "execution_count": null,
   "metadata": {
    "pycharm": {
     "name": "#%%\n",
     "is_executing": true
    }
   },
   "outputs": [],
   "source": [
    "df_fraud_set_a.where[df_fraud_set_a['systemid'] == '']"
   ]
  },
  {
   "cell_type": "code",
   "execution_count": 5,
   "metadata": {
    "pycharm": {
     "name": "#%%\n"
    }
   },
   "outputs": [],
   "source": [
    "# Identified fraud accounts which were flagged by the Rockstars\n",
    "df_fraud_set_b = pd.read_csv(\"/Users/dwahid/Documents/GitHub/fraud_detection/data_raw/Fraud_RockStar_Flags.csv\")"
   ]
  },
  {
   "cell_type": "code",
   "execution_count": null,
   "metadata": {
    "pycharm": {
     "name": "#%%\n",
     "is_executing": true
    }
   },
   "outputs": [],
   "source": [
    "df_fraud_set_b.tail()"
   ]
  },
  {
   "cell_type": "code",
   "execution_count": 7,
   "metadata": {
    "pycharm": {
     "name": "#%%\n"
    }
   },
   "outputs": [],
   "source": [
    "# Identified fraud accounts which were flagged by the Rockstars\n",
    "df_fraud_set_b = pd.read_csv(\"/Users/dwahid/Documents/GitHub/fraud_detection/data_raw/Fraud_RockStar_Flags.csv\")\n",
    "df_fraud_set_b['systemid'].replace(' ', np.nan, inplace=True)  # replacing empty 'systemid' with 'NaN'\n",
    "df_fraud_set_b.dropna(subset=['systemid'], inplace=True)       # filtering out the 'systemid' rows with 'NaN'\n",
    "df_fraud_set_b = df_fraud_set_b[['systemid','status_date', 'account_status', 'fraud_status', 'notes']] "
   ]
  },
  {
   "cell_type": "code",
   "execution_count": 8,
   "metadata": {
    "pycharm": {
     "name": "#%%\n"
    }
   },
   "outputs": [
    {
     "data": {
      "text/html": [
       "<div>\n",
       "<style scoped>\n",
       "    .dataframe tbody tr th:only-of-type {\n",
       "        vertical-align: middle;\n",
       "    }\n",
       "\n",
       "    .dataframe tbody tr th {\n",
       "        vertical-align: top;\n",
       "    }\n",
       "\n",
       "    .dataframe thead th {\n",
       "        text-align: right;\n",
       "    }\n",
       "</style>\n",
       "<table border=\"1\" class=\"dataframe\">\n",
       "  <thead>\n",
       "    <tr style=\"text-align: right;\">\n",
       "      <th></th>\n",
       "      <th>systemid</th>\n",
       "      <th>status_date</th>\n",
       "      <th>account_status</th>\n",
       "      <th>fraud_status</th>\n",
       "      <th>notes</th>\n",
       "    </tr>\n",
       "  </thead>\n",
       "  <tbody>\n",
       "    <tr>\n",
       "      <th>329</th>\n",
       "      <td>1321847</td>\n",
       "      <td>6/20/2019</td>\n",
       "      <td>NaN</td>\n",
       "      <td>Fraud</td>\n",
       "      <td>unauthorized charge from FreshBooks</td>\n",
       "    </tr>\n",
       "    <tr>\n",
       "      <th>330</th>\n",
       "      <td>3434629</td>\n",
       "      <td>6/21/2019</td>\n",
       "      <td>NaN</td>\n",
       "      <td>Fraud</td>\n",
       "      <td>ex employee created an account under their email</td>\n",
       "    </tr>\n",
       "    <tr>\n",
       "      <th>331</th>\n",
       "      <td>3220177</td>\n",
       "      <td>6/24/2019</td>\n",
       "      <td>NaN</td>\n",
       "      <td>Fraud</td>\n",
       "      <td>connected with ticket 1014851, looking for a r...</td>\n",
       "    </tr>\n",
       "    <tr>\n",
       "      <th>332</th>\n",
       "      <td>3170473</td>\n",
       "      <td>6/25/2019</td>\n",
       "      <td>NaN</td>\n",
       "      <td>Fraud</td>\n",
       "      <td>unauthorized charges from FreshBooks</td>\n",
       "    </tr>\n",
       "    <tr>\n",
       "      <th>333</th>\n",
       "      <td>579816</td>\n",
       "      <td>6/27/2019</td>\n",
       "      <td>NaN</td>\n",
       "      <td>Fraud</td>\n",
       "      <td>account was closed when WP reached out to us. ...</td>\n",
       "    </tr>\n",
       "  </tbody>\n",
       "</table>\n",
       "</div>"
      ],
      "text/plain": [
       "    systemid status_date account_status fraud_status  \\\n",
       "329  1321847   6/20/2019            NaN        Fraud   \n",
       "330  3434629   6/21/2019            NaN        Fraud   \n",
       "331  3220177   6/24/2019            NaN        Fraud   \n",
       "332  3170473   6/25/2019            NaN        Fraud   \n",
       "333   579816   6/27/2019            NaN        Fraud   \n",
       "\n",
       "                                                 notes  \n",
       "329                unauthorized charge from FreshBooks  \n",
       "330   ex employee created an account under their email  \n",
       "331  connected with ticket 1014851, looking for a r...  \n",
       "332               unauthorized charges from FreshBooks  \n",
       "333  account was closed when WP reached out to us. ...  "
      ]
     },
     "execution_count": 8,
     "metadata": {},
     "output_type": "execute_result"
    }
   ],
   "source": [
    "df_fraud_set_b.tail()"
   ]
  },
  {
   "cell_type": "code",
   "execution_count": 9,
   "metadata": {
    "pycharm": {
     "name": "#%%\n"
    }
   },
   "outputs": [],
   "source": [
    "frames = [df_fraud_set_a, df_fraud_set_b]\n",
    "df_fraud = pd.concat(frames)"
   ]
  },
  {
   "cell_type": "code",
   "execution_count": 10,
   "metadata": {
    "pycharm": {
     "name": "#%%\n"
    }
   },
   "outputs": [
    {
     "data": {
      "text/html": [
       "<div>\n",
       "<style scoped>\n",
       "    .dataframe tbody tr th:only-of-type {\n",
       "        vertical-align: middle;\n",
       "    }\n",
       "\n",
       "    .dataframe tbody tr th {\n",
       "        vertical-align: top;\n",
       "    }\n",
       "\n",
       "    .dataframe thead th {\n",
       "        text-align: right;\n",
       "    }\n",
       "</style>\n",
       "<table border=\"1\" class=\"dataframe\">\n",
       "  <thead>\n",
       "    <tr style=\"text-align: right;\">\n",
       "      <th></th>\n",
       "      <th>systemid</th>\n",
       "      <th>status_date</th>\n",
       "      <th>account_status</th>\n",
       "      <th>fraud_status</th>\n",
       "      <th>notes</th>\n",
       "    </tr>\n",
       "  </thead>\n",
       "  <tbody>\n",
       "    <tr>\n",
       "      <th>count</th>\n",
       "      <td>560</td>\n",
       "      <td>554</td>\n",
       "      <td>300</td>\n",
       "      <td>560</td>\n",
       "      <td>552</td>\n",
       "    </tr>\n",
       "    <tr>\n",
       "      <th>unique</th>\n",
       "      <td>503</td>\n",
       "      <td>244</td>\n",
       "      <td>15</td>\n",
       "      <td>3</td>\n",
       "      <td>480</td>\n",
       "    </tr>\n",
       "    <tr>\n",
       "      <th>top</th>\n",
       "      <td>unknown</td>\n",
       "      <td>12/14/2017</td>\n",
       "      <td>cancelled</td>\n",
       "      <td>fraud</td>\n",
       "      <td>procom support247</td>\n",
       "    </tr>\n",
       "    <tr>\n",
       "      <th>freq</th>\n",
       "      <td>8</td>\n",
       "      <td>23</td>\n",
       "      <td>80</td>\n",
       "      <td>534</td>\n",
       "      <td>16</td>\n",
       "    </tr>\n",
       "  </tbody>\n",
       "</table>\n",
       "</div>"
      ],
      "text/plain": [
       "       systemid status_date account_status fraud_status              notes\n",
       "count       560         554            300          560                552\n",
       "unique      503         244             15            3                480\n",
       "top     unknown  12/14/2017      cancelled        fraud  procom support247\n",
       "freq          8          23             80          534                 16"
      ]
     },
     "execution_count": 10,
     "metadata": {},
     "output_type": "execute_result"
    }
   ],
   "source": [
    "df_fraud.describe()"
   ]
  },
  {
   "cell_type": "code",
   "execution_count": 11,
   "metadata": {
    "pycharm": {
     "name": "#%%\n"
    }
   },
   "outputs": [
    {
     "data": {
      "text/html": [
       "<div>\n",
       "<style scoped>\n",
       "    .dataframe tbody tr th:only-of-type {\n",
       "        vertical-align: middle;\n",
       "    }\n",
       "\n",
       "    .dataframe tbody tr th {\n",
       "        vertical-align: top;\n",
       "    }\n",
       "\n",
       "    .dataframe thead th {\n",
       "        text-align: right;\n",
       "    }\n",
       "</style>\n",
       "<table border=\"1\" class=\"dataframe\">\n",
       "  <thead>\n",
       "    <tr style=\"text-align: right;\">\n",
       "      <th></th>\n",
       "      <th>systemid</th>\n",
       "      <th>status_date</th>\n",
       "      <th>account_status</th>\n",
       "      <th>fraud_status</th>\n",
       "      <th>notes</th>\n",
       "    </tr>\n",
       "  </thead>\n",
       "  <tbody>\n",
       "    <tr>\n",
       "      <th>0</th>\n",
       "      <td>662442</td>\n",
       "      <td>6/16/2017</td>\n",
       "      <td>cancelled</td>\n",
       "      <td>fraud</td>\n",
       "      <td>cancelled by admin, http://complaintwire.org/c...</td>\n",
       "    </tr>\n",
       "    <tr>\n",
       "      <th>1</th>\n",
       "      <td>1107552</td>\n",
       "      <td>6/8/2017</td>\n",
       "      <td>cancelled abandoned</td>\n",
       "      <td>fraud</td>\n",
       "      <td>many chargebacks, service not provided)/WePay ...</td>\n",
       "    </tr>\n",
       "    <tr>\n",
       "      <th>3</th>\n",
       "      <td>1221173</td>\n",
       "      <td>7/26/2017</td>\n",
       "      <td>cancelled abandoned</td>\n",
       "      <td>fraud</td>\n",
       "      <td>no online presence, charging for vague tech su...</td>\n",
       "    </tr>\n",
       "    <tr>\n",
       "      <th>4</th>\n",
       "      <td>1241958</td>\n",
       "      <td>7/27/2017</td>\n",
       "      <td>cancelled abandoned</td>\n",
       "      <td>fraud</td>\n",
       "      <td>computer repair, no item name, no online presence</td>\n",
       "    </tr>\n",
       "    <tr>\n",
       "      <th>5</th>\n",
       "      <td>1257179</td>\n",
       "      <td>7/27/2017</td>\n",
       "      <td>cancelled abandoned</td>\n",
       "      <td>fraud</td>\n",
       "      <td>trouble using stripe, no successful transactio...</td>\n",
       "    </tr>\n",
       "  </tbody>\n",
       "</table>\n",
       "</div>"
      ],
      "text/plain": [
       "  systemid status_date       account_status fraud_status  \\\n",
       "0   662442   6/16/2017            cancelled        fraud   \n",
       "1  1107552    6/8/2017  cancelled abandoned        fraud   \n",
       "3  1221173   7/26/2017  cancelled abandoned        fraud   \n",
       "4  1241958   7/27/2017  cancelled abandoned        fraud   \n",
       "5  1257179   7/27/2017  cancelled abandoned        fraud   \n",
       "\n",
       "                                               notes  \n",
       "0  cancelled by admin, http://complaintwire.org/c...  \n",
       "1  many chargebacks, service not provided)/WePay ...  \n",
       "3  no online presence, charging for vague tech su...  \n",
       "4  computer repair, no item name, no online presence  \n",
       "5  trouble using stripe, no successful transactio...  "
      ]
     },
     "execution_count": 11,
     "metadata": {},
     "output_type": "execute_result"
    }
   ],
   "source": [
    "df_fraud.head()"
   ]
  },
  {
   "cell_type": "code",
   "execution_count": 12,
   "metadata": {
    "pycharm": {
     "name": "#%%\n"
    }
   },
   "outputs": [],
   "source": [
    "df_fraud.drop_duplicates(subset='systemid', keep = 'first', inplace=True)"
   ]
  },
  {
   "cell_type": "code",
   "execution_count": 15,
   "metadata": {
    "pycharm": {
     "name": "#%%\n"
    }
   },
   "outputs": [],
   "source": [
    "# Export combined list of the fraud accounts to a csv file\n",
    "df_fraud.to_csv(r\"/Users/dwahid/Documents/GitHub/fraud_detection/data_clusters/fraud_accounts_list_v1_1.csv\")"
   ]
  },
  {
   "cell_type": "code",
   "execution_count": 16,
   "metadata": {
    "pycharm": {
     "name": "#%%\n"
    }
   },
   "outputs": [],
   "source": [
    "df_fraud_accounts_list_v1_2 = pd.read_csv(\"/Users/dwahid/Documents/GitHub/fraud_detection/data/fraud_account_list_v1_2.csv\") "
   ]
  },
  {
   "cell_type": "code",
   "execution_count": 18,
   "metadata": {
    "pycharm": {
     "name": "#%%\n"
    }
   },
   "outputs": [
    {
     "data": {
      "text/plain": [
       "497    6/20/2019\n",
       "498    6/21/2019\n",
       "499    6/24/2019\n",
       "500    6/25/2019\n",
       "501    6/27/2019\n",
       "Name: status_date, dtype: object"
      ]
     },
     "execution_count": 18,
     "metadata": {},
     "output_type": "execute_result"
    }
   ],
   "source": [
    "df_fraud_accounts_list_v1_2['status_date'].tail()"
   ]
  },
  {
   "cell_type": "code",
   "execution_count": 54,
   "metadata": {
    "pycharm": {
     "name": "#%%\n"
    }
   },
   "outputs": [],
   "source": [
    "status_date_clean = []\n",
    "\n",
    "for index,row in df_fraud_accounts_list_v1_2.iterrows():\n",
    "    date_str = row['status_date'].split('/')\n",
    "    #print(date_str[0], date_str[1], date_str[2])\n",
    "    date_str_clean = date_str[2] + '-' + date_str[0] + '-' + date_str[1]\n",
    "    #print(date_str_clean)\n",
    "    status_date_clean.append(date_str_clean)\n",
    "\n",
    "df_fraud_accounts_list_v1_2['status_date_v2'] = status_date_clean"
   ]
  },
  {
   "cell_type": "code",
   "execution_count": 55,
   "metadata": {
    "pycharm": {
     "name": "#%%\n"
    }
   },
   "outputs": [
    {
     "data": {
      "text/html": [
       "<div>\n",
       "<style scoped>\n",
       "    .dataframe tbody tr th:only-of-type {\n",
       "        vertical-align: middle;\n",
       "    }\n",
       "\n",
       "    .dataframe tbody tr th {\n",
       "        vertical-align: top;\n",
       "    }\n",
       "\n",
       "    .dataframe thead th {\n",
       "        text-align: right;\n",
       "    }\n",
       "</style>\n",
       "<table border=\"1\" class=\"dataframe\">\n",
       "  <thead>\n",
       "    <tr style=\"text-align: right;\">\n",
       "      <th></th>\n",
       "      <th>systemid</th>\n",
       "      <th>status_date</th>\n",
       "      <th>account_status</th>\n",
       "      <th>fraud_status</th>\n",
       "      <th>notes</th>\n",
       "      <th>status_date_v2</th>\n",
       "    </tr>\n",
       "  </thead>\n",
       "  <tbody>\n",
       "    <tr>\n",
       "      <th>497</th>\n",
       "      <td>1321847</td>\n",
       "      <td>6/20/2019</td>\n",
       "      <td>NaN</td>\n",
       "      <td>Fraud</td>\n",
       "      <td>unauthorized charge from FreshBooks</td>\n",
       "      <td>2019-6-20</td>\n",
       "    </tr>\n",
       "    <tr>\n",
       "      <th>498</th>\n",
       "      <td>3434629</td>\n",
       "      <td>6/21/2019</td>\n",
       "      <td>NaN</td>\n",
       "      <td>Fraud</td>\n",
       "      <td>ex employee created an account under their email</td>\n",
       "      <td>2019-6-21</td>\n",
       "    </tr>\n",
       "    <tr>\n",
       "      <th>499</th>\n",
       "      <td>3220177</td>\n",
       "      <td>6/24/2019</td>\n",
       "      <td>NaN</td>\n",
       "      <td>Fraud</td>\n",
       "      <td>connected with ticket 1014851, looking for a r...</td>\n",
       "      <td>2019-6-24</td>\n",
       "    </tr>\n",
       "    <tr>\n",
       "      <th>500</th>\n",
       "      <td>3170473</td>\n",
       "      <td>6/25/2019</td>\n",
       "      <td>NaN</td>\n",
       "      <td>Fraud</td>\n",
       "      <td>unauthorized charges from FreshBooks</td>\n",
       "      <td>2019-6-25</td>\n",
       "    </tr>\n",
       "    <tr>\n",
       "      <th>501</th>\n",
       "      <td>579816</td>\n",
       "      <td>6/27/2019</td>\n",
       "      <td>NaN</td>\n",
       "      <td>Fraud</td>\n",
       "      <td>account was closed when WP reached out to us. ...</td>\n",
       "      <td>2019-6-27</td>\n",
       "    </tr>\n",
       "  </tbody>\n",
       "</table>\n",
       "</div>"
      ],
      "text/plain": [
       "     systemid status_date account_status fraud_status  \\\n",
       "497   1321847   6/20/2019            NaN        Fraud   \n",
       "498   3434629   6/21/2019            NaN        Fraud   \n",
       "499   3220177   6/24/2019            NaN        Fraud   \n",
       "500   3170473   6/25/2019            NaN        Fraud   \n",
       "501    579816   6/27/2019            NaN        Fraud   \n",
       "\n",
       "                                                 notes status_date_v2  \n",
       "497                unauthorized charge from FreshBooks      2019-6-20  \n",
       "498   ex employee created an account under their email      2019-6-21  \n",
       "499  connected with ticket 1014851, looking for a r...      2019-6-24  \n",
       "500               unauthorized charges from FreshBooks      2019-6-25  \n",
       "501  account was closed when WP reached out to us. ...      2019-6-27  "
      ]
     },
     "execution_count": 55,
     "metadata": {},
     "output_type": "execute_result"
    }
   ],
   "source": [
    "df_fraud_accounts_list_v1_2.tail()"
   ]
  },
  {
   "cell_type": "code",
   "execution_count": 56,
   "metadata": {
    "pycharm": {
     "name": "#%%\n"
    }
   },
   "outputs": [],
   "source": [
    "df_fraud_accounts_list_v1_3 = df_fraud_accounts_list_v1_2[['systemid', 'status_date_v2','account_status', 'fraud_status', 'notes']]"
   ]
  },
  {
   "cell_type": "code",
   "execution_count": 57,
   "metadata": {
    "pycharm": {
     "name": "#%%\n"
    }
   },
   "outputs": [
    {
     "data": {
      "text/html": [
       "<div>\n",
       "<style scoped>\n",
       "    .dataframe tbody tr th:only-of-type {\n",
       "        vertical-align: middle;\n",
       "    }\n",
       "\n",
       "    .dataframe tbody tr th {\n",
       "        vertical-align: top;\n",
       "    }\n",
       "\n",
       "    .dataframe thead th {\n",
       "        text-align: right;\n",
       "    }\n",
       "</style>\n",
       "<table border=\"1\" class=\"dataframe\">\n",
       "  <thead>\n",
       "    <tr style=\"text-align: right;\">\n",
       "      <th></th>\n",
       "      <th>systemid</th>\n",
       "      <th>status_date_v2</th>\n",
       "      <th>account_status</th>\n",
       "      <th>fraud_status</th>\n",
       "      <th>notes</th>\n",
       "    </tr>\n",
       "  </thead>\n",
       "  <tbody>\n",
       "    <tr>\n",
       "      <th>497</th>\n",
       "      <td>1321847</td>\n",
       "      <td>2019-6-20</td>\n",
       "      <td>NaN</td>\n",
       "      <td>Fraud</td>\n",
       "      <td>unauthorized charge from FreshBooks</td>\n",
       "    </tr>\n",
       "    <tr>\n",
       "      <th>498</th>\n",
       "      <td>3434629</td>\n",
       "      <td>2019-6-21</td>\n",
       "      <td>NaN</td>\n",
       "      <td>Fraud</td>\n",
       "      <td>ex employee created an account under their email</td>\n",
       "    </tr>\n",
       "    <tr>\n",
       "      <th>499</th>\n",
       "      <td>3220177</td>\n",
       "      <td>2019-6-24</td>\n",
       "      <td>NaN</td>\n",
       "      <td>Fraud</td>\n",
       "      <td>connected with ticket 1014851, looking for a r...</td>\n",
       "    </tr>\n",
       "    <tr>\n",
       "      <th>500</th>\n",
       "      <td>3170473</td>\n",
       "      <td>2019-6-25</td>\n",
       "      <td>NaN</td>\n",
       "      <td>Fraud</td>\n",
       "      <td>unauthorized charges from FreshBooks</td>\n",
       "    </tr>\n",
       "    <tr>\n",
       "      <th>501</th>\n",
       "      <td>579816</td>\n",
       "      <td>2019-6-27</td>\n",
       "      <td>NaN</td>\n",
       "      <td>Fraud</td>\n",
       "      <td>account was closed when WP reached out to us. ...</td>\n",
       "    </tr>\n",
       "  </tbody>\n",
       "</table>\n",
       "</div>"
      ],
      "text/plain": [
       "     systemid status_date_v2 account_status fraud_status  \\\n",
       "497   1321847      2019-6-20            NaN        Fraud   \n",
       "498   3434629      2019-6-21            NaN        Fraud   \n",
       "499   3220177      2019-6-24            NaN        Fraud   \n",
       "500   3170473      2019-6-25            NaN        Fraud   \n",
       "501    579816      2019-6-27            NaN        Fraud   \n",
       "\n",
       "                                                 notes  \n",
       "497                unauthorized charge from FreshBooks  \n",
       "498   ex employee created an account under their email  \n",
       "499  connected with ticket 1014851, looking for a r...  \n",
       "500               unauthorized charges from FreshBooks  \n",
       "501  account was closed when WP reached out to us. ...  "
      ]
     },
     "execution_count": 57,
     "metadata": {},
     "output_type": "execute_result"
    }
   ],
   "source": [
    "df_fraud_accounts_list_v1_3.tail()"
   ]
  },
  {
   "cell_type": "code",
   "execution_count": 58,
   "metadata": {
    "pycharm": {
     "name": "#%%\n"
    }
   },
   "outputs": [],
   "source": [
    "# Export combined list of the fraud accounts to a csv file\n",
    "df_fraud_accounts_list_v1_4 = df_fraud_accounts_list_v1_3.to_csv(r\"/Users/dwahid/Documents/GitHub/fraud_detection/data/fraud_accounts_list_v1_4.csv\")"
   ]
  },
  {
   "cell_type": "code",
   "execution_count": null,
   "metadata": {
    "pycharm": {
     "name": "#%%\n"
    }
   },
   "outputs": [],
   "source": []
  },
  {
   "cell_type": "code",
   "execution_count": null,
   "metadata": {
    "pycharm": {
     "name": "#%%\n"
    }
   },
   "outputs": [],
   "source": []
  },
  {
   "cell_type": "code",
   "execution_count": null,
   "metadata": {
    "pycharm": {
     "name": "#%%\n"
    }
   },
   "outputs": [],
   "source": []
  },
  {
   "cell_type": "code",
   "execution_count": null,
   "metadata": {
    "pycharm": {
     "name": "#%%\n"
    }
   },
   "outputs": [],
   "source": []
  },
  {
   "cell_type": "code",
   "execution_count": null,
   "metadata": {
    "pycharm": {
     "name": "#%%\n"
    }
   },
   "outputs": [],
   "source": []
  },
  {
   "cell_type": "code",
   "execution_count": null,
   "metadata": {
    "pycharm": {
     "name": "#%%\n"
    }
   },
   "outputs": [],
   "source": []
  },
  {
   "cell_type": "code",
   "execution_count": null,
   "metadata": {
    "pycharm": {
     "name": "#%%\n"
    }
   },
   "outputs": [],
   "source": []
  },
  {
   "cell_type": "code",
   "execution_count": null,
   "metadata": {
    "pycharm": {
     "name": "#%%\n"
    }
   },
   "outputs": [],
   "source": []
  },
  {
   "cell_type": "code",
   "execution_count": null,
   "metadata": {
    "pycharm": {
     "name": "#%%\n"
    }
   },
   "outputs": [],
   "source": []
  },
  {
   "cell_type": "code",
   "execution_count": null,
   "metadata": {
    "pycharm": {
     "name": "#%%\n"
    }
   },
   "outputs": [],
   "source": []
  },
  {
   "cell_type": "code",
   "execution_count": null,
   "metadata": {
    "pycharm": {
     "name": "#%%\n"
    }
   },
   "outputs": [],
   "source": []
  },
  {
   "cell_type": "code",
   "execution_count": null,
   "metadata": {
    "pycharm": {
     "name": "#%%\n"
    }
   },
   "outputs": [],
   "source": []
  },
  {
   "cell_type": "code",
   "execution_count": null,
   "metadata": {
    "pycharm": {
     "name": "#%%\n"
    }
   },
   "outputs": [],
   "source": []
  },
  {
   "cell_type": "code",
   "execution_count": null,
   "metadata": {
    "pycharm": {
     "name": "#%%\n"
    }
   },
   "outputs": [],
   "source": []
  },
  {
   "cell_type": "code",
   "execution_count": null,
   "metadata": {
    "pycharm": {
     "name": "#%%\n"
    }
   },
   "outputs": [],
   "source": []
  },
  {
   "cell_type": "code",
   "execution_count": null,
   "metadata": {
    "pycharm": {
     "name": "#%%\n"
    }
   },
   "outputs": [],
   "source": []
  },
  {
   "cell_type": "code",
   "execution_count": null,
   "metadata": {
    "pycharm": {
     "name": "#%%\n"
    }
   },
   "outputs": [],
   "source": []
  },
  {
   "cell_type": "code",
   "execution_count": null,
   "metadata": {
    "pycharm": {
     "name": "#%%\n"
    }
   },
   "outputs": [],
   "source": []
  },
  {
   "cell_type": "code",
   "execution_count": null,
   "metadata": {
    "pycharm": {
     "name": "#%%\n"
    }
   },
   "outputs": [],
   "source": []
  },
  {
   "cell_type": "code",
   "execution_count": null,
   "metadata": {
    "pycharm": {
     "name": "#%%\n"
    }
   },
   "outputs": [],
   "source": []
  },
  {
   "cell_type": "code",
   "execution_count": null,
   "metadata": {
    "pycharm": {
     "name": "#%%\n"
    }
   },
   "outputs": [],
   "source": []
  }
 ],
 "metadata": {
  "kernelspec": {
   "name": "python3",
   "language": "python",
   "display_name": "Python 3 (ipykernel)"
  },
  "language_info": {
   "codemirror_mode": {
    "name": "ipython",
    "version": 2
   },
   "file_extension": ".py",
   "mimetype": "text/x-python",
   "name": "python",
   "nbconvert_exporter": "python",
   "pygments_lexer": "ipython2",
   "version": "2.7.17"
  }
 },
 "nbformat": 4,
 "nbformat_minor": 2
}