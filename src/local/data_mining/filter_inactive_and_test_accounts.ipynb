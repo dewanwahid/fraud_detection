{
 "cells": [
  {
   "cell_type": "markdown",
   "metadata": {},
   "source": [
    "# Filter FreshBooks Test and Inactive Accounts"
   ]
  },
  {
   "cell_type": "code",
   "execution_count": 1,
   "metadata": {},
   "outputs": [],
   "source": [
    "import pandas as pd\n",
    "import numpy as np\n",
    "\n",
    "import seaborn as sns\n",
    "sns.set(color_codes=True)\n",
    "\n",
    "import matplotlib.pyplot as plt\n",
    "# plt.style.use('ggplot')\n",
    "%matplotlib inline\n",
    "\n",
    "from scipy import stats\n",
    "get_ipython().magic(u'config IPCompleter.greedy=True')\n",
    "\n"
   ]
  },
  {
   "cell_type": "code",
   "execution_count": 3,
   "metadata": {},
   "outputs": [],
   "source": [
    "# df_day_7_final_v1 = pd.read_csv(\"C:/Users/wahidd/workspace-jupyter/project_fb_fraud//data/final_features_day_7_no_fbtest_onlyimp_noinactive.tsv\",  sep=\"\\t\")\n",
    "# df_day_14_final_v1 = pd.read_csv(\"C:/Users/wahidd/workspace-jupyter/project_fb_fraud/data/final_features_day_14_no_fbtest_onlyimp_noinactive.tsv\", sep=\"\\t\")\n",
    "# df_day_21_final_v1 = pd.read_csv(\"C:/Users/wahidd/workspace-jupyter/project_fb_fraud/data/final_features_day_21_no_fbtest_onlyimp_noinactive.tsv\", sep=\"\\t\")\n",
    "# df_day_28_final_v1 = pd.read_csv(\"C:/Users/wahidd/workspace-jupyter/project_fb_fraud/data/final_features_day_28_no_fbtest_onlyimp_noinactive.tsv\", sep=\"\\t\")\n",
    "# df_day_35 = pd.read_csv(\"C:/Users/wahidd/workspace-jupyter/project_fb_fraud/data/final_features_day_35.tsv\", sep=\"\\t\")"
   ]
  },
  {
   "cell_type": "code",
   "execution_count": 4,
   "metadata": {},
   "outputs": [],
   "source": [
    "# df_day_7_final_v1.head()"
   ]
  },
  {
   "cell_type": "code",
   "execution_count": 5,
   "metadata": {},
   "outputs": [],
   "source": [
    "# df_day_14_final_v1.head()"
   ]
  },
  {
   "cell_type": "code",
   "execution_count": 7,
   "metadata": {},
   "outputs": [],
   "source": [
    "# df_day_21_final_v1.head()"
   ]
  },
  {
   "cell_type": "code",
   "execution_count": 6,
   "metadata": {},
   "outputs": [],
   "source": [
    "# df_day_28_final_v1.head()"
   ]
  },
  {
   "cell_type": "code",
   "execution_count": null,
   "metadata": {},
   "outputs": [],
   "source": []
  },
  {
   "cell_type": "markdown",
   "metadata": {},
   "source": [
    "## Import Freature Data"
   ]
  },
  {
   "cell_type": "code",
   "execution_count": 2,
   "metadata": {},
   "outputs": [],
   "source": [
    "# Final features data (1 to 13 weeks)\n",
    "# df_day_7 = pd.read_csv(\"C:/Users/wahidd/workspace-jupyter/project_fb_fraud/data/final_features_day_7.tsv\",  sep=\"\\t\")\n",
    "# df_day_14 = pd.read_csv(\"C:/Users/wahidd/workspace-jupyter/project_fb_fraud/data/final_features_day_14.tsv\", sep=\"\\t\")\n",
    "# df_day_21 = pd.read_csv(\"C:/Users/wahidd/workspace-jupyter/project_fb_fraud/data/final_features_day_21.tsv\", sep=\"\\t\")\n",
    "# df_day_28 = pd.read_csv(\"C:/Users/wahidd/workspace-jupyter/project_fb_fraud/data/final_features_day_28.tsv\", sep=\"\\t\")\n",
    "df_day_35 = pd.read_csv(\"C:/Users/wahidd/workspace-jupyter/project_fb_fraud/data/final_features_day_35.tsv\", sep=\"\\t\")\n",
    "df_day_42 = pd.read_csv(\"C:/Users/wahidd/workspace-jupyter/project_fb_fraud/data/final_features_day_42.tsv\", sep=\"\\t\")\n",
    "df_day_49 = pd.read_csv(\"C:/Users/wahidd/workspace-jupyter/project_fb_fraud/data/final_features_day_49.tsv\", sep=\"\\t\")\n",
    "df_day_56 = pd.read_csv(\"C:/Users/wahidd/workspace-jupyter/project_fb_fraud/data/final_features_day_56.tsv\", sep=\"\\t\")\n",
    "df_day_63 = pd.read_csv(\"C:/Users/wahidd/workspace-jupyter/project_fb_fraud/data/final_features_day_63.tsv\", sep=\"\\t\")\n",
    "df_day_70 = pd.read_csv(\"C:/Users/wahidd/workspace-jupyter/project_fb_fraud/data/final_features_day_70.tsv\", sep=\"\\t\")\n",
    "df_day_77 = pd.read_csv(\"C:/Users/wahidd/workspace-jupyter/project_fb_fraud/data/final_features_day_77.tsv\", sep=\"\\t\")\n",
    "df_day_84 = pd.read_csv(\"C:/Users/wahidd/workspace-jupyter/project_fb_fraud/data/final_features_day_84.tsv\", sep=\"\\t\")\n",
    "df_day_91 = pd.read_csv(\"C:/Users/wahidd/workspace-jupyter/project_fb_fraud/data/final_features_day_91.tsv\", sep=\"\\t\")\n"
   ]
  },
  {
   "cell_type": "code",
   "execution_count": 4,
   "metadata": {},
   "outputs": [
    {
     "data": {
      "text/plain": [
       "(452565, 249)"
      ]
     },
     "execution_count": 4,
     "metadata": {},
     "output_type": "execute_result"
    }
   ],
   "source": [
    "df_day_49.shape"
   ]
  },
  {
   "cell_type": "markdown",
   "metadata": {},
   "source": [
    "## Filtering FreshBooks test accounts"
   ]
  },
  {
   "cell_type": "code",
   "execution_count": 3,
   "metadata": {},
   "outputs": [],
   "source": [
    "################# Filtering FreshBooks Test Accounts #############################################################\n",
    "\n",
    "# Import Freshbooks test accounts email from TSV file (non-freshbooks email)\n",
    "fb_test_emails = pd.read_csv(\"C:/Users/wahidd/workspace-jupyter/project_fb_fraud/data/non-fb-testing-emails.tsv\", sep=\"\\n\")\n",
    "fb_test_email_list = list(fb_test_emails['email'])"
   ]
  },
  {
   "cell_type": "code",
   "execution_count": 5,
   "metadata": {},
   "outputs": [],
   "source": [
    "# Function: Filtering FB test account by using admin email\n",
    "from difflib import SequenceMatcher\n",
    "\n",
    "def email_match(em, email_list):\n",
    "    \n",
    "    L = len(email_list)\n",
    "    match_score = 0\n",
    "    \n",
    "    for i in range(0, L):\n",
    "        if pd.isnull(em):\n",
    "            match_score = 0\n",
    "            break;\n",
    "        else: \n",
    "            match_score =  max(match_score, SequenceMatcher(None,em, email_list[i]).ratio())\n",
    "            #print(i, em, email_list[i], match_score)\n",
    "\n",
    "    return match_score\n"
   ]
  },
  {
   "cell_type": "markdown",
   "metadata": {},
   "source": [
    "## Filtering inactive accounts"
   ]
  },
  {
   "cell_type": "code",
   "execution_count": 6,
   "metadata": {},
   "outputs": [],
   "source": [
    "###################################### Funtion: Column Value Sum ################################################\n",
    "\n",
    "# Function for aggregating selected column values\n",
    "def cell_value_sum (row, ex_cols_list):\n",
    "#     print(row[0])\n",
    "    sum = 0\n",
    "    cols = range(len(row))\n",
    "    new_cols = list(set(cols) - set(ex_cols_list))\n",
    "    #print(new_cols)\n",
    "    \n",
    "    for i in new_cols:\n",
    "        #print(row[i])\n",
    "        sum =+ row[i]\n",
    "\n",
    "# Function for aggregating selected column values\n",
    "def cell_value_sum (row, ex_cols_list):\n",
    "#     print(row[0])\n",
    "    sum = 0\n",
    "    cols = range(len(row))\n",
    "    new_cols = list(set(cols) - set(ex_cols_list))\n",
    "    #print(new_cols)\n",
    "    \n",
    "    for i in new_cols:\n",
    "        #print(row[i])\n",
    "        sum =+ row[i]\n",
    "    \n",
    "    #print('Final sum: ', sum)\n",
    "    return sum\n",
    "    #print('Final sum: ', sum)\n",
    "    return sum"
   ]
  },
  {
   "cell_type": "code",
   "execution_count": 13,
   "metadata": {},
   "outputs": [],
   "source": [
    "# df_day_7.shape"
   ]
  },
  {
   "cell_type": "code",
   "execution_count": 7,
   "metadata": {},
   "outputs": [
    {
     "data": {
      "text/plain": [
       "(452565, 249)"
      ]
     },
     "execution_count": 7,
     "metadata": {},
     "output_type": "execute_result"
    }
   ],
   "source": [
    "df_day_49.shape"
   ]
  },
  {
   "cell_type": "code",
   "execution_count": 62,
   "metadata": {},
   "outputs": [],
   "source": [
    "# for i in range(0, len(imp_features_list)):\n",
    "#     print(i, imp_features_list[i])"
   ]
  },
  {
   "cell_type": "markdown",
   "metadata": {},
   "source": [
    "## Day 7: Filtering "
   ]
  },
  {
   "cell_type": "code",
   "execution_count": 63,
   "metadata": {},
   "outputs": [],
   "source": [
    "######################################## Removing FreshBooks Test Accounts ##########################################\n",
    "\n",
    "Day : Import the day 7 features data (no fb test email)\n",
    "df_day_7 = pd.read_csv(\"C:/Users/wahidd/workspace-jupyter/project_fb_fraud/data/final_features_day_07_no_fbtest.tsv\", sep=\"\\t\")\n",
    "\n",
    "# # Day 7: Filtering final data from the FreshBooks Test emails\n",
    "df_day_7 = df_day_7[df_day_7.apply(lambda x: email_match(x['admin_email'], fb_test_email_list) <= 0.9, axis=1)]\n",
    "\n",
    "# # Day 7: Export the day 7 features data (no fb test email)\n",
    "df_day_7.to_csv(\"C:/Users/wahidd/workspace-jupyter/project_fb_fraud/data/final_features_day_7_no_fbtest.tsv\", sep=\"\\t\", index=False)\n",
    "\n",
    "# \n",
    "################################ Filtering Only Import Important Features ###########################################\n",
    "\n",
    "# Day7: Importing importing features list\n",
    "important_features = pd.read_csv(\"C:/Users/wahidd/workspace-jupyter/project_fb_fraud/data/model_important_features_day_07.tsv\", sep=\"\\n,\")\n",
    "\n",
    "# Day 7 Get the important feature as a list\n",
    "imp_features_list = list(important_features['important_feature'])\n",
    "\n",
    "# Filtering only important features \n",
    "df_day_7_imp = df_day_7[df_day_7.columns.intersection(imp_features_list)]\n",
    "                        \n",
    "\n",
    "# # Day 7: Export the day 7 features data (no fb test email)\n",
    "df_day_7_imp.to_csv(\"C:/Users/wahidd/workspace-jupyter/project_fb_fraud/data/final_features_day_07_no_fbtest_onlyimp.tsv\", sep=\"\\t\", index=False)\n",
    "\n",
    "\n",
    "# ####################################### Filter Inactive Accounts ####################################################\n",
    "\n",
    "# Day 7: Removing all inactive acounts (ie. all entries are zeros except 'systemid', 'is_fb_active', 'is_sales_manage')\n",
    "ex_cols_list = [0, 96, 97, 98]\n",
    "df_day_7_imp_noinactv = df_day_7_imp[df_day_7_imp.apply(lambda x: cell_value_sum(x, ex_cols_list) > 0, axis=1)]\n",
    "\n",
    "# Day 7: Export the day 7 features data (no inactive users)\n",
    "df_day_7_imp_noinactv.to_csv(\"C:/Users/wahidd/workspace-jupyter/project_fb_fraud/data/final_features_day_07_no_fbtest_onlyimp_noinactive.tsv\", sep=\"\\t\", index=False)\n"
   ]
  },
  {
   "cell_type": "code",
   "execution_count": 57,
   "metadata": {},
   "outputs": [
    {
     "data": {
      "text/plain": [
       "(452528, 249)"
      ]
     },
     "execution_count": 57,
     "metadata": {},
     "output_type": "execute_result"
    }
   ],
   "source": [
    "df_day_7.shape"
   ]
  },
  {
   "cell_type": "code",
   "execution_count": 66,
   "metadata": {},
   "outputs": [
    {
     "data": {
      "text/plain": [
       "(438297, 105)"
      ]
     },
     "execution_count": 66,
     "metadata": {},
     "output_type": "execute_result"
    }
   ],
   "source": [
    "df_day_7_imp_noinactv.shape"
   ]
  },
  {
   "cell_type": "code",
   "execution_count": 67,
   "metadata": {},
   "outputs": [
    {
     "data": {
      "text/html": [
       "<div>\n",
       "<style scoped>\n",
       "    .dataframe tbody tr th:only-of-type {\n",
       "        vertical-align: middle;\n",
       "    }\n",
       "\n",
       "    .dataframe tbody tr th {\n",
       "        vertical-align: top;\n",
       "    }\n",
       "\n",
       "    .dataframe thead th {\n",
       "        text-align: right;\n",
       "    }\n",
       "</style>\n",
       "<table border=\"1\" class=\"dataframe\">\n",
       "  <thead>\n",
       "    <tr style=\"text-align: right;\">\n",
       "      <th></th>\n",
       "      <th>systemid</th>\n",
       "      <th>activateestimate</th>\n",
       "      <th>activateexpense</th>\n",
       "      <th>activateotherincome</th>\n",
       "      <th>activatepayment</th>\n",
       "      <th>activateproject</th>\n",
       "      <th>activaterecurringprofile</th>\n",
       "      <th>activatestaff</th>\n",
       "      <th>adminde-activation</th>\n",
       "      <th>adminonlinepaymentattempt</th>\n",
       "      <th>...</th>\n",
       "      <th>updateservice</th>\n",
       "      <th>is_sales_managed</th>\n",
       "      <th>is_freshbooks_account_active</th>\n",
       "      <th>is_paying</th>\n",
       "      <th>avg_wc_description_day_7</th>\n",
       "      <th>avg_wc_notes_day_7</th>\n",
       "      <th>avg_wc_terms_day_7</th>\n",
       "      <th>avg_wc_address_day_7</th>\n",
       "      <th>invoice_count_day_7</th>\n",
       "      <th>client_count_day_7</th>\n",
       "    </tr>\n",
       "  </thead>\n",
       "  <tbody>\n",
       "    <tr>\n",
       "      <td>452523</td>\n",
       "      <td>4502186</td>\n",
       "      <td>0</td>\n",
       "      <td>0</td>\n",
       "      <td>0</td>\n",
       "      <td>0</td>\n",
       "      <td>0</td>\n",
       "      <td>0</td>\n",
       "      <td>0</td>\n",
       "      <td>0</td>\n",
       "      <td>0</td>\n",
       "      <td>...</td>\n",
       "      <td>0</td>\n",
       "      <td>0.0</td>\n",
       "      <td>1.0</td>\n",
       "      <td>0.0</td>\n",
       "      <td>0.0</td>\n",
       "      <td>0.0</td>\n",
       "      <td>0.0</td>\n",
       "      <td>0.0</td>\n",
       "      <td>0.0</td>\n",
       "      <td>1.0</td>\n",
       "    </tr>\n",
       "    <tr>\n",
       "      <td>452524</td>\n",
       "      <td>4502188</td>\n",
       "      <td>0</td>\n",
       "      <td>0</td>\n",
       "      <td>0</td>\n",
       "      <td>0</td>\n",
       "      <td>0</td>\n",
       "      <td>0</td>\n",
       "      <td>0</td>\n",
       "      <td>0</td>\n",
       "      <td>0</td>\n",
       "      <td>...</td>\n",
       "      <td>0</td>\n",
       "      <td>0.0</td>\n",
       "      <td>1.0</td>\n",
       "      <td>0.0</td>\n",
       "      <td>0.0</td>\n",
       "      <td>0.0</td>\n",
       "      <td>0.0</td>\n",
       "      <td>0.0</td>\n",
       "      <td>0.0</td>\n",
       "      <td>1.0</td>\n",
       "    </tr>\n",
       "    <tr>\n",
       "      <td>452525</td>\n",
       "      <td>4502190</td>\n",
       "      <td>0</td>\n",
       "      <td>0</td>\n",
       "      <td>0</td>\n",
       "      <td>0</td>\n",
       "      <td>0</td>\n",
       "      <td>0</td>\n",
       "      <td>0</td>\n",
       "      <td>0</td>\n",
       "      <td>0</td>\n",
       "      <td>...</td>\n",
       "      <td>0</td>\n",
       "      <td>0.0</td>\n",
       "      <td>1.0</td>\n",
       "      <td>0.0</td>\n",
       "      <td>0.0</td>\n",
       "      <td>0.0</td>\n",
       "      <td>0.0</td>\n",
       "      <td>0.0</td>\n",
       "      <td>2.0</td>\n",
       "      <td>2.0</td>\n",
       "    </tr>\n",
       "    <tr>\n",
       "      <td>452526</td>\n",
       "      <td>4502192</td>\n",
       "      <td>0</td>\n",
       "      <td>0</td>\n",
       "      <td>0</td>\n",
       "      <td>0</td>\n",
       "      <td>0</td>\n",
       "      <td>0</td>\n",
       "      <td>0</td>\n",
       "      <td>0</td>\n",
       "      <td>0</td>\n",
       "      <td>...</td>\n",
       "      <td>0</td>\n",
       "      <td>0.0</td>\n",
       "      <td>1.0</td>\n",
       "      <td>0.0</td>\n",
       "      <td>0.0</td>\n",
       "      <td>0.0</td>\n",
       "      <td>0.0</td>\n",
       "      <td>0.0</td>\n",
       "      <td>0.0</td>\n",
       "      <td>1.0</td>\n",
       "    </tr>\n",
       "    <tr>\n",
       "      <td>452527</td>\n",
       "      <td>4502194</td>\n",
       "      <td>0</td>\n",
       "      <td>0</td>\n",
       "      <td>0</td>\n",
       "      <td>0</td>\n",
       "      <td>0</td>\n",
       "      <td>0</td>\n",
       "      <td>0</td>\n",
       "      <td>0</td>\n",
       "      <td>0</td>\n",
       "      <td>...</td>\n",
       "      <td>0</td>\n",
       "      <td>0.0</td>\n",
       "      <td>1.0</td>\n",
       "      <td>0.0</td>\n",
       "      <td>0.0</td>\n",
       "      <td>0.0</td>\n",
       "      <td>0.0</td>\n",
       "      <td>0.0</td>\n",
       "      <td>0.0</td>\n",
       "      <td>1.0</td>\n",
       "    </tr>\n",
       "  </tbody>\n",
       "</table>\n",
       "<p>5 rows × 105 columns</p>\n",
       "</div>"
      ],
      "text/plain": [
       "        systemid  activateestimate  activateexpense  activateotherincome  \\\n",
       "452523   4502186                 0                0                    0   \n",
       "452524   4502188                 0                0                    0   \n",
       "452525   4502190                 0                0                    0   \n",
       "452526   4502192                 0                0                    0   \n",
       "452527   4502194                 0                0                    0   \n",
       "\n",
       "        activatepayment  activateproject  activaterecurringprofile  \\\n",
       "452523                0                0                         0   \n",
       "452524                0                0                         0   \n",
       "452525                0                0                         0   \n",
       "452526                0                0                         0   \n",
       "452527                0                0                         0   \n",
       "\n",
       "        activatestaff  adminde-activation  adminonlinepaymentattempt  ...  \\\n",
       "452523              0                   0                          0  ...   \n",
       "452524              0                   0                          0  ...   \n",
       "452525              0                   0                          0  ...   \n",
       "452526              0                   0                          0  ...   \n",
       "452527              0                   0                          0  ...   \n",
       "\n",
       "        updateservice  is_sales_managed  is_freshbooks_account_active  \\\n",
       "452523              0               0.0                           1.0   \n",
       "452524              0               0.0                           1.0   \n",
       "452525              0               0.0                           1.0   \n",
       "452526              0               0.0                           1.0   \n",
       "452527              0               0.0                           1.0   \n",
       "\n",
       "        is_paying  avg_wc_description_day_7  avg_wc_notes_day_7  \\\n",
       "452523        0.0                       0.0                 0.0   \n",
       "452524        0.0                       0.0                 0.0   \n",
       "452525        0.0                       0.0                 0.0   \n",
       "452526        0.0                       0.0                 0.0   \n",
       "452527        0.0                       0.0                 0.0   \n",
       "\n",
       "        avg_wc_terms_day_7  avg_wc_address_day_7  invoice_count_day_7  \\\n",
       "452523                 0.0                   0.0                  0.0   \n",
       "452524                 0.0                   0.0                  0.0   \n",
       "452525                 0.0                   0.0                  2.0   \n",
       "452526                 0.0                   0.0                  0.0   \n",
       "452527                 0.0                   0.0                  0.0   \n",
       "\n",
       "        client_count_day_7  \n",
       "452523                 1.0  \n",
       "452524                 1.0  \n",
       "452525                 2.0  \n",
       "452526                 1.0  \n",
       "452527                 1.0  \n",
       "\n",
       "[5 rows x 105 columns]"
      ]
     },
     "execution_count": 67,
     "metadata": {},
     "output_type": "execute_result"
    }
   ],
   "source": [
    "df_day_7_imp_noinactv.tail()"
   ]
  },
  {
   "cell_type": "code",
   "execution_count": 55,
   "metadata": {},
   "outputs": [
    {
     "name": "stdout",
     "output_type": "stream",
     "text": [
      "0 systemid\n",
      "1 activateestimate\n",
      "2 activateexpense\n",
      "3 activateotherincome\n",
      "4 activatepayment\n",
      "5 activateproject\n",
      "6 activaterecurringprofile\n",
      "7 activatestaff\n",
      "8 adminde-activation\n",
      "9 adminonlinepaymentattempt\n",
      "10 adminpayinvoiceonline-invoice\n",
      "11 adminpayinvoiceonline-listview\n",
      "12 archiveclient\n",
      "13 archiveexpense\n",
      "14 archiveotherincome\n",
      "15 archiveproject\n",
      "16 archivetask\n",
      "17 autobillpayment\n",
      "18 banktransferdisabled\n",
      "19 banktransferenabled\n",
      "20 bulkimportclientscomplete\n",
      "21 bulkimportitemsandservicescomplete\n",
      "22 clientimportcsvsucceeded\n",
      "23 clientlimitupgradenudge\n",
      "24 createbankaccount\n",
      "25 createbanktransaction\n",
      "26 createbanktransfer\n",
      "27 createcategory\n",
      "28 createcontact\n",
      "29 createcontractor\n",
      "30 createcreditnote\n",
      "31 createdexpense\n",
      "32 createestimate\n",
      "33 createexpense\n",
      "34 createitem\n",
      "35 createotherincome\n",
      "36 createreceipt\n",
      "37 createservice\n",
      "38 creditcardclientaccessgranted\n",
      "39 creditcardsystemaccessrevoked\n",
      "40 customemailsignature\n",
      "41 declinedonlinepaymentnotification\n",
      "42 deletebusinessaccountant\n",
      "43 deletebusinesspartner\n",
      "44 deletecollaborator\n",
      "45 deletecreditnote\n",
      "46 deleteestimate\n",
      "47 deleteexpense\n",
      "48 deletehours\n",
      "49 deleteinvoice\n",
      "50 deleteitem\n",
      "51 deleteotherincome\n",
      "52 deleteproject\n",
      "53 deleterecurringexpense\n",
      "54 deleteretainerprofile\n",
      "55 deletestaff\n",
      "56 deletesystemgateway\n",
      "57 deletetimeentry\n",
      "58 deleteuser\n",
      "59 disconnectbankaccount\n",
      "60 disconnectpaymentgateway\n",
      "61 dualstripe/paypalgatewayexperienceinvoicepopupclick\n",
      "62 emailcreditnote\n",
      "63 emailestimate\n",
      "64 emailestimatetoself\n",
      "65 emailinvoice\n",
      "66 emailinvoicesample\n",
      "67 emailreport\n",
      "68 emailsent\n",
      "69 enableautobilling\n",
      "70 enablepaymentgateway\n",
      "71 expenseimportsucceeded\n",
      "72 exportjournalentries\n",
      "73 fbpayenabled\n",
      "74 fbpayfirstinvoicesent\n",
      "75 fbpayupdatedacceptedcreditcards\n",
      "76 fbpayuserconnectedbank\n",
      "77 generateinvoicefromrecurringprofile\n",
      "78 hitpaywall-clientlimit\n",
      "79 hourslogged\n",
      "80 identitycompletedonboarding\n",
      "81 login\n",
      "82 stripepaymentsuccessful\n",
      "83 successfulonlinepayment\n",
      "84 surveyquestionanswered\n",
      "85 updatebusiness\n",
      "86 updatecategory\n",
      "87 updateclient\n",
      "88 updatecompanyprofile\n",
      "89 updatecontractor\n",
      "90 updatecreditnote\n",
      "91 updateestimate\n",
      "92 updateexpense\n",
      "93 updateinvoicesample\n",
      "94 updateitem\n",
      "95 updateservice\n",
      "96 is_sales_managed\n",
      "97 is_freshbooks_account_active\n",
      "98 is_paying\n",
      "99 avg_wc_description_day_7\n",
      "100 avg_wc_notes_day_7\n",
      "101 avg_wc_terms_day_7\n",
      "102 avg_wc_address_day_7\n",
      "103 invoice_count_day_7\n",
      "104 client_count_day_7\n"
     ]
    }
   ],
   "source": [
    "# Get the column index\n",
    "col_names = list(df_day_7_imp)\n",
    "L = len(col_names)\n",
    "\n",
    "for i in range(0, L):\n",
    "    print(i, col_names[i])"
   ]
  },
  {
   "cell_type": "markdown",
   "metadata": {},
   "source": [
    "## Day 14: Filtering"
   ]
  },
  {
   "cell_type": "code",
   "execution_count": 80,
   "metadata": {},
   "outputs": [
    {
     "name": "stderr",
     "output_type": "stream",
     "text": [
      "C:\\Users\\wahidd\\AppData\\Local\\Continuum\\anaconda3\\lib\\site-packages\\ipykernel_launcher.py:16: ParserWarning: Falling back to the 'python' engine because the 'c' engine does not support regex separators (separators > 1 char and different from '\\s+' are interpreted as regex); you can avoid this warning by specifying engine='python'.\n",
      "  app.launch_new_instance()\n"
     ]
    }
   ],
   "source": [
    "######################################## Removing FreshBooks Test Accounts ##########################################\n",
    "\n",
    "# Day 14: Filtering final data from the FreshBooks Test emails\n",
    "# df_day_14 = df_day_14[df_day_14.apply(lambda x: email_match(x['admin_email'], fb_test_email_list) <= 0.9, axis=1)]\n",
    "\n",
    "# Day 14: Export the day 14 features data (no fb test email)\n",
    "# df_day_14.to_csv(\"C:/Users/wahidd/workspace-jupyter/project_fb_fraud/data/final_features_day_14_no_fbtest.tsv\", sep=\"\\t\", index=False)\n",
    "\n",
    "# Day : Import the day 14 features data (no fb test email)\n",
    "# df_day_14 = pd.read_csv(\"C:/Users/wahidd/workspace-jupyter/project_fb_fraud/data/final_features_day_14_no_fbtest.tsv\", sep=\"\\t\")\n",
    "\n",
    "\n",
    "################################ Filtering Only Import Important Features ###########################################\n",
    "\n",
    "# Day14: Importing importing features list\n",
    "important_features = pd.read_csv(\"C:/Users/wahidd/workspace-jupyter/project_fb_fraud/data/model_important_features_day_14.tsv\", sep=\"\\n,\")\n",
    "\n",
    "# Day 14 Get the important feature as a list\n",
    "imp_features_list = list(important_features['important_feature'])\n",
    "\n",
    "# Filtering only important features \n",
    "df_day_14_imp = df_day_14[df_day_14.columns.intersection(imp_features_list)]\n",
    "                        \n",
    "\n",
    "# # Day 14: Export the day 14 features data (no fb test email)\n",
    "df_day_14_imp.to_csv(\"C:/Users/wahidd/workspace-jupyter/project_fb_fraud/data/final_features_day_14_no_fbtest_onlyimp.tsv\", sep=\"\\t\", index=False)\n",
    "\n",
    "\n",
    "# ####################################### Filter Inactive Accounts ####################################################\n",
    "\n",
    "# Day 14: Removing all inactive acounts (ie. all entries are zeros except 'systemid', 'is_fb_active', 'is_sales_manage')\n",
    "ex_cols_list = [0, 96, 914, 98]\n",
    "df_day_14_imp_noinactv = df_day_14_imp[df_day_14_imp.apply(lambda x: cell_value_sum(x, ex_cols_list) > 0, axis=1)]\n",
    "\n",
    "# Day 14: Export the day 14 features data (no inactive users)\n",
    "df_day_14_imp_noinactv.to_csv(\"C:/Users/wahidd/workspace-jupyter/project_fb_fraud/data/final_features_day_14_no_fbtest_onlyimp_noinactive.tsv\", sep=\"\\t\", index=False)\n"
   ]
  },
  {
   "cell_type": "code",
   "execution_count": 81,
   "metadata": {},
   "outputs": [
    {
     "data": {
      "text/plain": [
       "(452528, 249)"
      ]
     },
     "execution_count": 81,
     "metadata": {},
     "output_type": "execute_result"
    }
   ],
   "source": [
    "df_day_14.shape"
   ]
  },
  {
   "cell_type": "markdown",
   "metadata": {},
   "source": [
    "## Day 21: Filtering"
   ]
  },
  {
   "cell_type": "code",
   "execution_count": 82,
   "metadata": {},
   "outputs": [
    {
     "name": "stderr",
     "output_type": "stream",
     "text": [
      "C:\\Users\\wahidd\\AppData\\Local\\Continuum\\anaconda3\\lib\\site-packages\\ipykernel_launcher.py:16: ParserWarning: Falling back to the 'python' engine because the 'c' engine does not support regex separators (separators > 1 char and different from '\\s+' are interpreted as regex); you can avoid this warning by specifying engine='python'.\n",
      "  app.launch_new_instance()\n"
     ]
    }
   ],
   "source": [
    "######################################## Removing FreshBooks Test Accounts ##########################################\n",
    "\n",
    "# Day 21: Filtering final data from the FreshBooks Test emails\n",
    "# df_day_21 = df_day_21[df_day_21.apply(lambda x: email_match(x['admin_email'], fb_test_email_list) <= 0.9, axis=1)]\n",
    "\n",
    "# Day 21: Export the day 21 features data (no fb test email)\n",
    "# df_day_21.to_csv(\"C:/Users/wahidd/workspace-jupyter/project_fb_fraud/data/final_features_day_21_no_fbtest.tsv\", sep=\"\\t\", index=False)\n",
    "\n",
    "# Day : Import the day 21 features data (no fb test email)\n",
    "# df_day_21 = pd.read_csv(\"C:/Users/wahidd/workspace-jupyter/project_fb_fraud/data/final_features_day_21_no_fbtest.tsv\", sep=\"\\t\")\n",
    "\n",
    "\n",
    "################################ Filtering Only Import Important Features ###########################################\n",
    "\n",
    "# Day21: Importing importing features list\n",
    "important_features = pd.read_csv(\"C:/Users/wahidd/workspace-jupyter/project_fb_fraud/data/model_important_features_day_21.tsv\", sep=\"\\n,\")\n",
    "\n",
    "# Day 21 Get the important feature as a list\n",
    "imp_features_list = list(important_features['important_feature'])\n",
    "\n",
    "# Filtering only important features \n",
    "df_day_21_imp = df_day_21[df_day_21.columns.intersection(imp_features_list)]\n",
    "                        \n",
    "\n",
    "# # Day 21: Export the day 21 features data (no fb test email)\n",
    "df_day_21_imp.to_csv(\"C:/Users/wahidd/workspace-jupyter/project_fb_fraud/data/final_features_day_21_no_fbtest_onlyimp.tsv\", sep=\"\\t\", index=False)\n",
    "\n",
    "\n",
    "# ####################################### Filter Inactive Accounts ####################################################\n",
    "\n",
    "# Day 21: Removing all inactive acounts (ie. all entries are zeros except 'systemid', 'is_fb_active', 'is_sales_manage')\n",
    "ex_cols_list = [0, 96, 921, 98]\n",
    "df_day_21_imp_noinactv = df_day_21_imp[df_day_21_imp.apply(lambda x: cell_value_sum(x, ex_cols_list) > 0, axis=1)]\n",
    "\n",
    "# Day 21: Export the day 21 features data (no inactive users)\n",
    "df_day_21_imp_noinactv.to_csv(\"C:/Users/wahidd/workspace-jupyter/project_fb_fraud/data/final_features_day_21_no_fbtest_onlyimp_noinactive.tsv\", sep=\"\\t\", index=False)\n"
   ]
  },
  {
   "cell_type": "code",
   "execution_count": 13,
   "metadata": {},
   "outputs": [],
   "source": [
    "# list(df_day_21_imp_noinactv)"
   ]
  },
  {
   "cell_type": "markdown",
   "metadata": {},
   "source": [
    "## Day 28: Filtering"
   ]
  },
  {
   "cell_type": "code",
   "execution_count": 84,
   "metadata": {},
   "outputs": [
    {
     "name": "stderr",
     "output_type": "stream",
     "text": [
      "C:\\Users\\wahidd\\AppData\\Local\\Continuum\\anaconda3\\lib\\site-packages\\ipykernel_launcher.py:16: ParserWarning: Falling back to the 'python' engine because the 'c' engine does not support regex separators (separators > 1 char and different from '\\s+' are interpreted as regex); you can avoid this warning by specifying engine='python'.\n",
      "  app.launch_new_instance()\n"
     ]
    }
   ],
   "source": [
    "######################################## Removing FreshBooks Test Accounts ##########################################\n",
    "\n",
    "# # Day 28: Filtering final data from the FreshBooks Test emails\n",
    "# df_day_28 = df_day_28[df_day_28.apply(lambda x: email_match(x['admin_email'], fb_test_email_list) <= 0.9, axis=1)]\n",
    "\n",
    "# # Day 28: Export the day 28 features data (no fb test email)\n",
    "# df_day_28.to_csv(\"C:/Users/wahidd/workspace-jupyter/project_fb_fraud/data/final_features_day_28_no_fbtest.tsv\", sep=\"\\t\", index=False)\n",
    "\n",
    "# Day : Import the day 28 features data (no fb test email)\n",
    "# df_day_28 = pd.read_csv(\"C:/Users/wahidd/workspace-jupyter/project_fb_fraud/data/final_features_day_28_no_fbtest.tsv\", sep=\"\\t\")\n",
    "\n",
    "\n",
    "################################ Filtering Only Import Important Features ###########################################\n",
    "\n",
    "# Day28: Importing importing features list\n",
    "important_features = pd.read_csv(\"C:/Users/wahidd/workspace-jupyter/project_fb_fraud/data/model_important_features_day_28.tsv\", sep=\"\\n,\")\n",
    "\n",
    "# Day 28 Get the important feature as a list\n",
    "imp_features_list = list(important_features['important_feature'])\n",
    "\n",
    "# Filtering only important features \n",
    "df_day_28_imp = df_day_28[df_day_28.columns.intersection(imp_features_list)]\n",
    "                        \n",
    "\n",
    "# # Day 28: Export the day 28 features data (no fb test email)\n",
    "df_day_28_imp.to_csv(\"C:/Users/wahidd/workspace-jupyter/project_fb_fraud/data/final_features_day_28_no_fbtest_onlyimp.tsv\", sep=\"\\t\", index=False)\n",
    "\n",
    "\n",
    "# ####################################### Filter Inactive Accounts ####################################################\n",
    "\n",
    "# Day 28: Removing all inactive acounts (ie. all entries are zeros except 'systemid', 'is_fb_active', 'is_sales_manage')\n",
    "ex_cols_list = [0, 96, 928, 98]\n",
    "df_day_28_imp_noinactv = df_day_28_imp[df_day_28_imp.apply(lambda x: cell_value_sum(x, ex_cols_list) > 0, axis=1)]\n",
    "\n",
    "# Day 28: Export the day 28 features data (no inactive users)\n",
    "df_day_28_imp_noinactv.to_csv(\"C:/Users/wahidd/workspace-jupyter/project_fb_fraud/data/final_features_day_28_no_fbtest_onlyimp_noinactive.tsv\", sep=\"\\t\", index=False)\n"
   ]
  },
  {
   "cell_type": "code",
   "execution_count": 14,
   "metadata": {},
   "outputs": [],
   "source": [
    "# list(df_day_28_imp_noinactv)"
   ]
  },
  {
   "cell_type": "markdown",
   "metadata": {},
   "source": [
    "## Day 35: Filtering"
   ]
  },
  {
   "cell_type": "code",
   "execution_count": 8,
   "metadata": {},
   "outputs": [
    {
     "name": "stderr",
     "output_type": "stream",
     "text": [
      "C:\\Users\\wahidd\\AppData\\Local\\Continuum\\anaconda3\\lib\\site-packages\\ipykernel_launcher.py:16: ParserWarning: Falling back to the 'python' engine because the 'c' engine does not support regex separators (separators > 1 char and different from '\\s+' are interpreted as regex); you can avoid this warning by specifying engine='python'.\n",
      "  app.launch_new_instance()\n"
     ]
    }
   ],
   "source": [
    "######################################## Removing FreshBooks Test Accounts ##########################################\n",
    "\n",
    "# # Day 35: Filtering final data from the FreshBooks Test emails\n",
    "df_day_35_ = df_day_35[df_day_35.apply(lambda x: email_match(x['admin_email'], fb_test_email_list) <= 0.9, axis=1)]\n",
    "\n",
    "# # Day 35: Export the day 35 features data (no fb test email)\n",
    "df_day_35_.to_csv(\"C:/Users/wahidd/workspace-jupyter/project_fb_fraud/data/final_features_day_35_no_fbtest.tsv\", sep=\"\\t\", index=False)\n",
    "\n",
    "# Day : Import the day 35 features data (no fb test email)\n",
    "df_day_35_ = pd.read_csv(\"C:/Users/wahidd/workspace-jupyter/project_fb_fraud/data/final_features_day_35_no_fbtest.tsv\", sep=\"\\t\")\n",
    "\n",
    "\n",
    "################################ Filtering Only Import Important Features ###########################################\n",
    "\n",
    "# Day35: Importing importing features list\n",
    "important_features = pd.read_csv(\"C:/Users/wahidd/workspace-jupyter/project_fb_fraud/data/model_important_features_day_35.tsv\", sep=\"\\n,\")\n",
    "\n",
    "# Day 35 Get the important feature as a list\n",
    "imp_features_list = list(important_features['important_feature'])\n",
    "\n",
    "# Filtering only important features \n",
    "df_day_35_imp = df_day_35[df_day_35_.columns.intersection(imp_features_list)]\n",
    "                        \n",
    "\n",
    "# # Day 35: Export the day 35 features data (no fb test email)\n",
    "df_day_35_imp.to_csv(\"C:/Users/wahidd/workspace-jupyter/project_fb_fraud/data/final_features_day_35_no_fbtest_onlyimp.tsv\", sep=\"\\t\", index=False)\n",
    "\n",
    "\n",
    "####################################### Filter Inactive Accounts ####################################################\n",
    "\n",
    "# Day 35: Removing all inactive acounts (ie. all entries are zeros except 'systemid', 'is_fb_active', 'is_sales_manage')\n",
    "ex_cols_list = [0, 96, 935, 98]\n",
    "df_day_35_imp_noinactv = df_day_35_imp[df_day_35_imp.apply(lambda x: cell_value_sum(x, ex_cols_list) > 0, axis=1)]\n",
    "\n",
    "# Day 35: Export the day 35 features data (no inactive users)\n",
    "df_day_35_imp_noinactv.to_csv(\"C:/Users/wahidd/workspace-jupyter/project_fb_fraud/data/final_features_day_35_no_fbtest_onlyimp_noinactive.tsv\", sep=\"\\t\", index=False)\n"
   ]
  },
  {
   "cell_type": "code",
   "execution_count": null,
   "metadata": {},
   "outputs": [],
   "source": []
  },
  {
   "cell_type": "markdown",
   "metadata": {},
   "source": [
    "## Day 42: Filtering"
   ]
  },
  {
   "cell_type": "code",
   "execution_count": 9,
   "metadata": {},
   "outputs": [
    {
     "name": "stderr",
     "output_type": "stream",
     "text": [
      "C:\\Users\\wahidd\\AppData\\Local\\Continuum\\anaconda3\\lib\\site-packages\\ipykernel_launcher.py:16: ParserWarning: Falling back to the 'python' engine because the 'c' engine does not support regex separators (separators > 1 char and different from '\\s+' are interpreted as regex); you can avoid this warning by specifying engine='python'.\n",
      "  app.launch_new_instance()\n"
     ]
    }
   ],
   "source": [
    "######################################## Removing FreshBooks Test Accounts ##########################################\n",
    "\n",
    "# Day 42: Filtering final data from the FreshBooks Test emails\n",
    "df_day_42 = df_day_42[df_day_42.apply(lambda x: email_match(x['admin_email'], fb_test_email_list) <= 0.9, axis=1)]\n",
    "\n",
    "# Day 42: Export the day 42 features data (no fb test email)\n",
    "df_day_42.to_csv(\"C:/Users/wahidd/workspace-jupyter/project_fb_fraud/data/final_features_day_42_no_fbtest.tsv\", sep=\"\\t\", index=False)\n",
    "\n",
    "# Day : Import the day 42 features data (no fb test email)\n",
    "df_day_42 = pd.read_csv(\"C:/Users/wahidd/workspace-jupyter/project_fb_fraud/data/final_features_day_42_no_fbtest.tsv\", sep=\"\\t\")\n",
    "\n",
    "\n",
    "################################ Filtering Only Import Important Features ###########################################\n",
    "\n",
    "# Day 42: Importing importing features list\n",
    "important_features = pd.read_csv(\"C:/Users/wahidd/workspace-jupyter/project_fb_fraud/data/model_important_features_day_42.tsv\", sep=\"\\n,\")\n",
    "\n",
    "# Day 42 Get the important feature as a list\n",
    "imp_features_list = list(important_features['important_feature'])\n",
    "\n",
    "# Filtering only important features \n",
    "df_day_42_imp = df_day_42[df_day_42.columns.intersection(imp_features_list)]\n",
    "                        \n",
    "\n",
    "# # Day 42: Export the day 42 features data (no fb test email)\n",
    "df_day_42_imp.to_csv(\"C:/Users/wahidd/workspace-jupyter/project_fb_fraud/data/final_features_day_42_no_fbtest_onlyimp.tsv\", sep=\"\\t\", index=False)\n",
    "\n",
    "\n",
    "# ####################################### Filter Inactive Accounts ####################################################\n",
    "\n",
    "# Day 42: Removing all inactive acounts (ie. all entries are zeros except 'systemid', 'is_fb_active', 'is_sales_manage')\n",
    "ex_cols_list = [0, 96, 942, 98]\n",
    "df_day_42_imp_noinactv = df_day_42_imp[df_day_42_imp.apply(lambda x: cell_value_sum(x, ex_cols_list) > 0, axis=1)]\n",
    "\n",
    "# Day 42: Export the day 42 features data (no inactive users)\n",
    "df_day_42_imp_noinactv.to_csv(\"C:/Users/wahidd/workspace-jupyter/project_fb_fraud/data/final_features_day_42_no_fbtest_onlyimp_noinactive.tsv\", sep=\"\\t\", index=False)\n"
   ]
  },
  {
   "cell_type": "markdown",
   "metadata": {},
   "source": [
    "## Day 49: Filtering"
   ]
  },
  {
   "cell_type": "code",
   "execution_count": 10,
   "metadata": {},
   "outputs": [
    {
     "name": "stderr",
     "output_type": "stream",
     "text": [
      "C:\\Users\\wahidd\\AppData\\Local\\Continuum\\anaconda3\\lib\\site-packages\\ipykernel_launcher.py:16: ParserWarning: Falling back to the 'python' engine because the 'c' engine does not support regex separators (separators > 1 char and different from '\\s+' are interpreted as regex); you can avoid this warning by specifying engine='python'.\n",
      "  app.launch_new_instance()\n"
     ]
    }
   ],
   "source": [
    "######################################## Removing FreshBooks Test Accounts ##########################################\n",
    "\n",
    "# Day 49: Filtering final data from the FreshBooks Test emails\n",
    "df_day_49 = df_day_49[df_day_49.apply(lambda x: email_match(x['admin_email'], fb_test_email_list) <= 0.9, axis=1)]\n",
    "\n",
    "# Day 49: Export the day 49 features data (no fb test email)\n",
    "df_day_49.to_csv(\"C:/Users/wahidd/workspace-jupyter/project_fb_fraud/data/final_features_day_49_no_fbtest.tsv\", sep=\"\\t\", index=False)\n",
    "\n",
    "# Day : Import the day 49 features data (no fb test email)\n",
    "df_day_49 = pd.read_csv(\"C:/Users/wahidd/workspace-jupyter/project_fb_fraud/data/final_features_day_49_no_fbtest.tsv\", sep=\"\\t\")\n",
    "\n",
    "\n",
    "################################ Filtering Only Import Important Features ###########################################\n",
    "\n",
    "# Day 49: Importing importing features list\n",
    "important_features = pd.read_csv(\"C:/Users/wahidd/workspace-jupyter/project_fb_fraud/data/model_important_features_day_49.tsv\", sep=\"\\n,\")\n",
    "\n",
    "# Day 49: Get the important feature as a list\n",
    "imp_features_list = list(important_features['important_feature'])\n",
    "\n",
    "# Filtering only important features \n",
    "df_day_49_imp = df_day_49[df_day_49.columns.intersection(imp_features_list)]\n",
    "                        \n",
    "\n",
    "# # Day 49: Export the day 49 features data (no fb test email)\n",
    "df_day_49_imp.to_csv(\"C:/Users/wahidd/workspace-jupyter/project_fb_fraud/data/final_features_day_49_no_fbtest_onlyimp.tsv\", sep=\"\\t\", index=False)\n",
    "\n",
    "\n",
    "# ####################################### Filter Inactive Accounts ####################################################\n",
    "\n",
    "# Day 49: Removing all inactive acounts (ie. all entries are zeros except 'systemid', 'is_fb_active', 'is_sales_manage')\n",
    "ex_cols_list = [0, 96, 949, 98]\n",
    "df_day_49_imp_noinactv = df_day_49_imp[df_day_49_imp.apply(lambda x: cell_value_sum(x, ex_cols_list) > 0, axis=1)]\n",
    "\n",
    "# Day 49: Export the day 49 features data (no inactive users)\n",
    "df_day_49_imp_noinactv.to_csv(\"C:/Users/wahidd/workspace-jupyter/project_fb_fraud/data/final_features_day_49_no_fbtest_onlyimp_noinactive.tsv\", sep=\"\\t\", index=False)\n"
   ]
  },
  {
   "cell_type": "markdown",
   "metadata": {},
   "source": [
    "## Day 56: Filtering"
   ]
  },
  {
   "cell_type": "code",
   "execution_count": 13,
   "metadata": {},
   "outputs": [],
   "source": [
    "######################################## Removing FreshBooks Test Accounts ##########################################\n",
    "\n",
    "# # Day 56: Filtering final data from the FreshBooks Test emails\n",
    "# df_day_56 = df_day_56[df_day_56.apply(lambda x: email_match(x['admin_email'], fb_test_email_list) <= 0.9, axis=1)]\n",
    "\n",
    "# # Day 56: Export the day 56 features data (no fb test email)\n",
    "# df_day_56.to_csv(\"C:/Users/wahidd/workspace-jupyter/project_fb_fraud/data/final_features_day_56_no_fbtest.tsv\", sep=\"\\t\", index=False)\n",
    "\n",
    "# Day : Import the day 56 features data (no fb test email)\n",
    "# df_day_56 = pd.read_csv(\"C:/Users/wahidd/workspace-jupyter/project_fb_fraud/data/final_features_day_56_no_fbtest.tsv\", sep=\"\\t\")\n",
    "\n",
    "\n",
    "################################ Filtering Only Import Important Features ###########################################\n",
    "\n",
    "# # Day 56: Importing importing features list\n",
    "# important_features = pd.read_csv(\"C:/Users/wahidd/workspace-jupyter/project_fb_fraud/data/model_important_features_day_56.tsv\", sep=\"\\n,\")\n",
    "\n",
    "# # Day 56: Get the important feature as a list\n",
    "# imp_features_list = list(important_features['important_feature'])\n",
    "\n",
    "# # Filtering only important features \n",
    "# df_day_56_imp = df_day_56[df_day_56.columns.intersection(imp_features_list)]\n",
    "                        \n",
    "\n",
    "# # Day 56: Export the day 56 features data (no fb test email)\n",
    "# df_day_56_imp.to_csv(\"C:/Users/wahidd/workspace-jupyter/project_fb_fraud/data/final_features_day_56_no_fbtest_onlyimp.tsv\", sep=\"\\t\", index=False)\n",
    "\n",
    "\n",
    "# ####################################### Filter Inactive Accounts ####################################################\n",
    "\n",
    "# Day 56: Removing all inactive acounts (ie. all entries are zeros except 'systemid', 'is_fb_active', 'is_sales_manage')\n",
    "ex_cols_list = [0, 96, 956, 98]\n",
    "df_day_56_imp_noinactv = df_day_56_imp[df_day_56_imp.apply(lambda x: cell_value_sum(x, ex_cols_list) > 0, axis=1)]\n",
    "\n",
    "# Day 56: Export the day 56 features data (no inactive users)\n",
    "df_day_56_imp_noinactv.to_csv(\"C:/Users/wahidd/workspace-jupyter/project_fb_fraud/data/final_features_day_56_no_fbtest_onlyimp_noinactive.tsv\", sep=\"\\t\", index=False)\n"
   ]
  },
  {
   "cell_type": "code",
   "execution_count": null,
   "metadata": {},
   "outputs": [],
   "source": []
  },
  {
   "cell_type": "code",
   "execution_count": null,
   "metadata": {},
   "outputs": [],
   "source": []
  },
  {
   "cell_type": "markdown",
   "metadata": {},
   "source": [
    "## Day 63: Filtering"
   ]
  },
  {
   "cell_type": "code",
   "execution_count": 14,
   "metadata": {},
   "outputs": [
    {
     "name": "stderr",
     "output_type": "stream",
     "text": [
      "C:\\Users\\wahidd\\AppData\\Local\\Continuum\\anaconda3\\lib\\site-packages\\ipykernel_launcher.py:16: ParserWarning: Falling back to the 'python' engine because the 'c' engine does not support regex separators (separators > 1 char and different from '\\s+' are interpreted as regex); you can avoid this warning by specifying engine='python'.\n",
      "  app.launch_new_instance()\n"
     ]
    }
   ],
   "source": [
    "######################################## Removing FreshBooks Test Accounts ##########################################\n",
    "\n",
    "# # Day 63: Filtering final data from the FreshBooks Test emails\n",
    "# df_day_63 = df_day_63[df_day_63.apply(lambda x: email_match(x['admin_email'], fb_test_email_list) <= 0.9, axis=1)]\n",
    "\n",
    "# # Day 63: Export the day 63 features data (no fb test email)\n",
    "# df_day_63.to_csv(\"C:/Users/wahidd/workspace-jupyter/project_fb_fraud/data/final_features_day_63_no_fbtest.tsv\", sep=\"\\t\", index=False)\n",
    "\n",
    "# # Day : Import the day 63 features data (no fb test email)\n",
    "# df_day_63 = pd.read_csv(\"C:/Users/wahidd/workspace-jupyter/project_fb_fraud/data/final_features_day_63_no_fbtest.tsv\", sep=\"\\t\")\n",
    "\n",
    "\n",
    "################################ Filtering Only Import Important Features ###########################################\n",
    "\n",
    "# Day 63: Importing importing features list\n",
    "important_features = pd.read_csv(\"C:/Users/wahidd/workspace-jupyter/project_fb_fraud/data/model_important_features_day_63.tsv\", sep=\"\\n,\")\n",
    "\n",
    "# Day 63: Get the important feature as a list\n",
    "imp_features_list = list(important_features['important_feature'])\n",
    "\n",
    "# Filtering only important features \n",
    "df_day_63_imp = df_day_63[df_day_63.columns.intersection(imp_features_list)]\n",
    "                        \n",
    "\n",
    "# Day 63: Export the day 63 features data (no fb test email)\n",
    "df_day_63_imp.to_csv(\"C:/Users/wahidd/workspace-jupyter/project_fb_fraud/data/final_features_day_63_no_fbtest_onlyimp.tsv\", sep=\"\\t\", index=False)\n",
    "\n",
    "\n",
    "####################################### Filter Inactive Accounts ####################################################\n",
    "\n",
    "# Day 63: Removing all inactive acounts (ie. all entries are zeros except 'systemid', 'is_fb_active', 'is_sales_manage')\n",
    "ex_cols_list = [0, 96, 963, 98]\n",
    "df_day_63_imp_noinactv = df_day_63_imp[df_day_63_imp.apply(lambda x: cell_value_sum(x, ex_cols_list) > 0, axis=1)]\n",
    "\n",
    "# Day 63: Export the day 63 features data (no inactive users)\n",
    "df_day_63_imp_noinactv.to_csv(\"C:/Users/wahidd/workspace-jupyter/project_fb_fraud/data/final_features_day_63_no_fbtest_onlyimp_noinactive.tsv\", sep=\"\\t\", index=False)\n"
   ]
  },
  {
   "cell_type": "markdown",
   "metadata": {},
   "source": [
    "## Day 70: Filtering"
   ]
  },
  {
   "cell_type": "code",
   "execution_count": 15,
   "metadata": {},
   "outputs": [
    {
     "name": "stderr",
     "output_type": "stream",
     "text": [
      "C:\\Users\\wahidd\\AppData\\Local\\Continuum\\anaconda3\\lib\\site-packages\\ipykernel_launcher.py:16: ParserWarning: Falling back to the 'python' engine because the 'c' engine does not support regex separators (separators > 1 char and different from '\\s+' are interpreted as regex); you can avoid this warning by specifying engine='python'.\n",
      "  app.launch_new_instance()\n"
     ]
    }
   ],
   "source": [
    "######################################## Removing FreshBooks Test Accounts ##########################################\n",
    "\n",
    "# # Day 70: Filtering final data from the FreshBooks Test emails\n",
    "# df_day_70 = df_day_70[df_day_70.apply(lambda x: email_match(x['admin_email'], fb_test_email_list) <= 0.9, axis=1)]\n",
    "\n",
    "# # Day 70: Export the day 70 features data (no fb test email)\n",
    "# df_day_70.to_csv(\"C:/Users/wahidd/workspace-jupyter/project_fb_fraud/data/final_features_day_70_no_fbtest.tsv\", sep=\"\\t\", index=False)\n",
    "\n",
    "# # Day : Import the day 70 features data (no fb test email)\n",
    "# df_day_70 = pd.read_csv(\"C:/Users/wahidd/workspace-jupyter/project_fb_fraud/data/final_features_day_70_no_fbtest.tsv\", sep=\"\\t\")\n",
    "\n",
    "\n",
    "################################ Filtering Only Import Important Features ###########################################\n",
    "\n",
    "# Day 70: Importing importing features list\n",
    "important_features = pd.read_csv(\"C:/Users/wahidd/workspace-jupyter/project_fb_fraud/data/model_important_features_day_70.tsv\", sep=\"\\n,\")\n",
    "\n",
    "# Day 70: Get the important feature as a list\n",
    "imp_features_list = list(important_features['important_feature'])\n",
    "\n",
    "# Filtering only important features \n",
    "df_day_70_imp = df_day_70[df_day_70.columns.intersection(imp_features_list)]\n",
    "                        \n",
    "\n",
    "# Day 70: Export the day 70 features data (no fb test email)\n",
    "df_day_70_imp.to_csv(\"C:/Users/wahidd/workspace-jupyter/project_fb_fraud/data/final_features_day_70_no_fbtest_onlyimp.tsv\", sep=\"\\t\", index=False)\n",
    "\n",
    "\n",
    "####################################### Filter Inactive Accounts ####################################################\n",
    "\n",
    "# Day 70: Removing all inactive acounts (ie. all entries are zeros except 'systemid', 'is_fb_active', 'is_sales_manage')\n",
    "ex_cols_list = [0, 96, 970, 98]\n",
    "df_day_70_imp_noinactv = df_day_70_imp[df_day_70_imp.apply(lambda x: cell_value_sum(x, ex_cols_list) > 0, axis=1)]\n",
    "\n",
    "# Day 70: Export the day 70 features data (no inactive users)\n",
    "df_day_70_imp_noinactv.to_csv(\"C:/Users/wahidd/workspace-jupyter/project_fb_fraud/data/final_features_day_70_no_fbtest_onlyimp_noinactive.tsv\", sep=\"\\t\", index=False)\n"
   ]
  },
  {
   "cell_type": "markdown",
   "metadata": {},
   "source": [
    "## Day 77: Filtering"
   ]
  },
  {
   "cell_type": "code",
   "execution_count": 16,
   "metadata": {},
   "outputs": [
    {
     "name": "stderr",
     "output_type": "stream",
     "text": [
      "C:\\Users\\wahidd\\AppData\\Local\\Continuum\\anaconda3\\lib\\site-packages\\ipykernel_launcher.py:16: ParserWarning: Falling back to the 'python' engine because the 'c' engine does not support regex separators (separators > 1 char and different from '\\s+' are interpreted as regex); you can avoid this warning by specifying engine='python'.\n",
      "  app.launch_new_instance()\n"
     ]
    }
   ],
   "source": [
    "######################################## Removing FreshBooks Test Accounts ##########################################\n",
    "\n",
    "# # Day 77: Filtering final data from the FreshBooks Test emails\n",
    "# df_day_77 = df_day_77[df_day_77.apply(lambda x: email_match(x['admin_email'], fb_test_email_list) <= 0.9, axis=1)]\n",
    "\n",
    "# # Day 77: Export the day 77 features data (no fb test email)\n",
    "# df_day_77.to_csv(\"C:/Users/wahidd/workspace-jupyter/project_fb_fraud/data/final_features_day_77_no_fbtest.tsv\", sep=\"\\t\", index=False)\n",
    "\n",
    "# # Day : Import the day 77 features data (no fb test email)\n",
    "# df_day_77 = pd.read_csv(\"C:/Users/wahidd/workspace-jupyter/project_fb_fraud/data/final_features_day_77_no_fbtest.tsv\", sep=\"\\t\")\n",
    "\n",
    "\n",
    "################################ Filtering Only Import Important Features ###########################################\n",
    "\n",
    "# Day 77: Importing importing features list\n",
    "important_features = pd.read_csv(\"C:/Users/wahidd/workspace-jupyter/project_fb_fraud/data/model_important_features_day_77.tsv\", sep=\"\\n,\")\n",
    "\n",
    "# Day 77: Get the important feature as a list\n",
    "imp_features_list = list(important_features['important_feature'])\n",
    "\n",
    "# Filtering only important features \n",
    "df_day_77_imp = df_day_77[df_day_77.columns.intersection(imp_features_list)]\n",
    "                        \n",
    "\n",
    "# Day 77: Export the day 77 features data (no fb test email)\n",
    "df_day_77_imp.to_csv(\"C:/Users/wahidd/workspace-jupyter/project_fb_fraud/data/final_features_day_77_no_fbtest_onlyimp.tsv\", sep=\"\\t\", index=False)\n",
    "\n",
    "\n",
    "####################################### Filter Inactive Accounts ####################################################\n",
    "\n",
    "# Day 77: Removing all inactive acounts (ie. all entries are zeros except 'systemid', 'is_fb_active', 'is_sales_manage')\n",
    "ex_cols_list = [0, 96, 977, 98]\n",
    "df_day_77_imp_noinactv = df_day_77_imp[df_day_77_imp.apply(lambda x: cell_value_sum(x, ex_cols_list) > 0, axis=1)]\n",
    "\n",
    "# Day 77: Export the day 77 features data (no inactive users)\n",
    "df_day_77_imp_noinactv.to_csv(\"C:/Users/wahidd/workspace-jupyter/project_fb_fraud/data/final_features_day_77_no_fbtest_onlyimp_noinactive.tsv\", sep=\"\\t\", index=False)\n"
   ]
  },
  {
   "cell_type": "markdown",
   "metadata": {},
   "source": [
    "## Day 84: Filtering"
   ]
  },
  {
   "cell_type": "code",
   "execution_count": 17,
   "metadata": {},
   "outputs": [
    {
     "name": "stderr",
     "output_type": "stream",
     "text": [
      "C:\\Users\\wahidd\\AppData\\Local\\Continuum\\anaconda3\\lib\\site-packages\\ipykernel_launcher.py:16: ParserWarning: Falling back to the 'python' engine because the 'c' engine does not support regex separators (separators > 1 char and different from '\\s+' are interpreted as regex); you can avoid this warning by specifying engine='python'.\n",
      "  app.launch_new_instance()\n"
     ]
    }
   ],
   "source": [
    "# ######################################## Removing FreshBooks Test Accounts ##########################################\n",
    "\n",
    "# # Day 84: Filtering final data from the FreshBooks Test emails\n",
    "# df_day_84 = df_day_84[df_day_84.apply(lambda x: email_match(x['admin_email'], fb_test_email_list) <= 0.9, axis=1)]\n",
    "\n",
    "# # Day 84: Export the day 84 features data (no fb test email)\n",
    "# df_day_84.to_csv(\"C:/Users/wahidd/workspace-jupyter/project_fb_fraud/data/final_features_day_84_no_fbtest.tsv\", sep=\"\\t\", index=False)\n",
    "\n",
    "# # Day : Import the day 84 features data (no fb test email)\n",
    "# df_day_84 = pd.read_csv(\"C:/Users/wahidd/workspace-jupyter/project_fb_fraud/data/final_features_day_84_no_fbtest.tsv\", sep=\"\\t\")\n",
    "\n",
    "\n",
    "################################ Filtering Only Import Important Features ###########################################\n",
    "\n",
    "# Day 84: Importing importing features list\n",
    "important_features = pd.read_csv(\"C:/Users/wahidd/workspace-jupyter/project_fb_fraud/data/model_important_features_day_84.tsv\", sep=\"\\n,\")\n",
    "\n",
    "# Day 84: Get the important feature as a list\n",
    "imp_features_list = list(important_features['important_feature'])\n",
    "\n",
    "# Filtering only important features \n",
    "df_day_84_imp = df_day_84[df_day_84.columns.intersection(imp_features_list)]\n",
    "                        \n",
    "\n",
    "# Day 84: Export the day 84 features data (no fb test email)\n",
    "df_day_84_imp.to_csv(\"C:/Users/wahidd/workspace-jupyter/project_fb_fraud/data/final_features_day_84_no_fbtest_onlyimp.tsv\", sep=\"\\t\", index=False)\n",
    "\n",
    "\n",
    "####################################### Filter Inactive Accounts ####################################################\n",
    "\n",
    "# Day 84: Removing all inactive acounts (ie. all entries are zeros except 'systemid', 'is_fb_active', 'is_sales_manage')\n",
    "ex_cols_list = [0, 96, 984, 98]\n",
    "df_day_84_imp_noinactv = df_day_84_imp[df_day_84_imp.apply(lambda x: cell_value_sum(x, ex_cols_list) > 0, axis=1)]\n",
    "\n",
    "# Day 84: Export the day 84 features data (no inactive users)\n",
    "df_day_84_imp_noinactv.to_csv(\"C:/Users/wahidd/workspace-jupyter/project_fb_fraud/data/final_features_day_84_no_fbtest_onlyimp_noinactive.tsv\", sep=\"\\t\", index=False)\n"
   ]
  },
  {
   "cell_type": "markdown",
   "metadata": {},
   "source": [
    "## Day 91: Filtering"
   ]
  },
  {
   "cell_type": "code",
   "execution_count": 19,
   "metadata": {},
   "outputs": [
    {
     "name": "stderr",
     "output_type": "stream",
     "text": [
      "C:\\Users\\wahidd\\AppData\\Local\\Continuum\\anaconda3\\lib\\site-packages\\ipykernel_launcher.py:16: ParserWarning: Falling back to the 'python' engine because the 'c' engine does not support regex separators (separators > 1 char and different from '\\s+' are interpreted as regex); you can avoid this warning by specifying engine='python'.\n",
      "  app.launch_new_instance()\n"
     ]
    }
   ],
   "source": [
    "######################################## Removing FreshBooks Test Accounts ##########################################\n",
    "\n",
    "# # Day 91: Filtering final data from the FreshBooks Test emails\n",
    "# df_day_91 = df_day_91[df_day_91.apply(lambda x: email_match(x['admin_email'], fb_test_email_list) <= 0.9, axis=1)]\n",
    "\n",
    "# # Day 91: Export the day 91 features data (no fb test email)\n",
    "# df_day_91.to_csv(\"C:/Users/wahidd/workspace-jupyter/project_fb_fraud/data/final_features_day_91_no_fbtest.tsv\", sep=\"\\t\", index=False)\n",
    "\n",
    "# # Day : Import the day 91 features data (no fb test email)\n",
    "# df_day_91 = pd.read_csv(\"C:/Users/wahidd/workspace-jupyter/project_fb_fraud/data/final_features_day_91_no_fbtest.tsv\", sep=\"\\t\")\n",
    "\n",
    "\n",
    "################################ Filtering Only Import Important Features ###########################################\n",
    "\n",
    "# Day 91: Importing importing features list\n",
    "important_features = pd.read_csv(\"C:/Users/wahidd/workspace-jupyter/project_fb_fraud/data/model_important_features_day_91.tsv\", sep=\"\\n,\")\n",
    "\n",
    "# Day 91: Get the important feature as a list\n",
    "imp_features_list = list(important_features['important_feature'])\n",
    "\n",
    "# Filtering only important features \n",
    "df_day_91_imp = df_day_91[df_day_91.columns.intersection(imp_features_list)]\n",
    "                        \n",
    "\n",
    "# Day 91: Export the day 91 features data (no fb test email)\n",
    "df_day_91_imp.to_csv(\"C:/Users/wahidd/workspace-jupyter/project_fb_fraud/data/final_features_day_91_no_fbtest_onlyimp.tsv\", sep=\"\\t\", index=False)\n",
    "\n",
    "\n",
    "####################################### Filter Inactive Accounts ####################################################\n",
    "\n",
    "# Day 91: Removing all inactive acounts (ie. all entries are zeros except 'systemid', 'is_fb_active', 'is_sales_manage')\n",
    "ex_cols_list = [0, 96, 991, 98]\n",
    "df_day_91_imp_noinactv = df_day_91_imp[df_day_91_imp.apply(lambda x: cell_value_sum(x, ex_cols_list) > 0, axis=1)]\n",
    "\n",
    "# Day 91: Export the day 91 features data (no inactive users)\n",
    "df_day_91_imp_noinactv.to_csv(\"C:/Users/wahidd/workspace-jupyter/project_fb_fraud/data/final_features_day_91_no_fbtest_onlyimp_noinactive.tsv\", sep=\"\\t\", index=False)\n"
   ]
  },
  {
   "cell_type": "code",
   "execution_count": null,
   "metadata": {},
   "outputs": [],
   "source": []
  }
 ],
 "metadata": {
  "kernelspec": {
   "display_name": "Python 2",
   "language": "python",
   "name": "python2"
  },
  "language_info": {
   "codemirror_mode": {
    "name": "ipython",
    "version": 2
   },
   "file_extension": ".py",
   "mimetype": "text/x-python",
   "name": "python",
   "nbconvert_exporter": "python",
   "pygments_lexer": "ipython2",
   "version": "2.7.16"
  }
 },
 "nbformat": 4,
 "nbformat_minor": 2
}
