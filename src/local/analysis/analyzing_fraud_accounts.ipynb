{
 "cells": [
  {
   "cell_type": "markdown",
   "metadata": {
    "pycharm": {
     "name": "#%% md\n"
    }
   },
   "source": [
    "# Analysis: Identified Fraud Accounts\n",
    "\n",
    "#### Goal:\n",
    "Define fraud/bad actors in FreshBooks platform.\n"
   ]
  },
  {
   "cell_type": "code",
   "execution_count": 142,
   "metadata": {
    "pycharm": {
     "name": "#%%\n"
    }
   },
   "outputs": [],
   "source": [
    "import pandas as pd\n",
    "import numpy as np\n",
    "import matplotlib.pyplot as plt\n",
    "import multipolyfit as mpf\n",
    "import seaborn as sns\n",
    "plt.style.use('ggplot')\n",
    "from scipy import stats\n",
    "get_ipython().magic(u'config IPCompleter.greedy=True')\n",
    "\n",
    "sns.set(color_codes=True) "
   ]
  },
  {
   "cell_type": "markdown",
   "metadata": {
    "pycharm": {
     "name": "#%% md\n"
    }
   },
   "source": [
    "## Fraud Accounts Lifespan"
   ]
  },
  {
   "cell_type": "code",
   "execution_count": 2,
   "metadata": {
    "pycharm": {
     "name": "#%%\n"
    }
   },
   "outputs": [],
   "source": [
    "## Import fraud account life span (days to ban) data\n",
    "df_fraud_accounts_lifespan =\\\n",
    "        pd.read_csv(\"/Users/dwahid/Documents/GitHub/fraud_detection/data/analyzing_fraud_accounts/fraud_accounts_lifespan.tsv\", sep=\"\\t\")\n",
    "\n",
    "\n",
    "## Droping 'NaN' by zero \n",
    "df_fraud_accounts_lifespan = df_fraud_accounts_lifespan.fillna(0)"
   ]
  },
  {
   "cell_type": "code",
   "execution_count": 3,
   "metadata": {
    "pycharm": {
     "name": "#%%\n"
    }
   },
   "outputs": [
    {
     "data": {
      "text/html": [
       "<div>\n",
       "<style scoped>\n",
       "    .dataframe tbody tr th:only-of-type {\n",
       "        vertical-align: middle;\n",
       "    }\n",
       "\n",
       "    .dataframe tbody tr th {\n",
       "        vertical-align: top;\n",
       "    }\n",
       "\n",
       "    .dataframe thead th {\n",
       "        text-align: right;\n",
       "    }\n",
       "</style>\n",
       "<table border=\"1\" class=\"dataframe\">\n",
       "  <thead>\n",
       "    <tr style=\"text-align: right;\">\n",
       "      <th></th>\n",
       "      <th>systemid</th>\n",
       "      <th>days_before_ban</th>\n",
       "    </tr>\n",
       "  </thead>\n",
       "  <tbody>\n",
       "    <tr>\n",
       "      <th>357</th>\n",
       "      <td>1758644</td>\n",
       "      <td>690</td>\n",
       "    </tr>\n",
       "    <tr>\n",
       "      <th>358</th>\n",
       "      <td>1826920</td>\n",
       "      <td>742</td>\n",
       "    </tr>\n",
       "    <tr>\n",
       "      <th>359</th>\n",
       "      <td>2732755</td>\n",
       "      <td>631</td>\n",
       "    </tr>\n",
       "    <tr>\n",
       "      <th>360</th>\n",
       "      <td>732140</td>\n",
       "      <td>1542</td>\n",
       "    </tr>\n",
       "    <tr>\n",
       "      <th>361</th>\n",
       "      <td>1271218</td>\n",
       "      <td>1124</td>\n",
       "    </tr>\n",
       "  </tbody>\n",
       "</table>\n",
       "</div>"
      ],
      "text/plain": [
       "     systemid  days_before_ban\n",
       "357   1758644              690\n",
       "358   1826920              742\n",
       "359   2732755              631\n",
       "360    732140             1542\n",
       "361   1271218             1124"
      ]
     },
     "execution_count": 3,
     "metadata": {},
     "output_type": "execute_result"
    }
   ],
   "source": [
    "df_fraud_accounts_lifespan.tail(5)"
   ]
  },
  {
   "cell_type": "markdown",
   "metadata": {
    "pycharm": {
     "name": "#%% md\n"
    }
   },
   "source": [
    "### Lifespan distribution of the fraud accounts"
   ]
  },
  {
   "cell_type": "code",
   "execution_count": 4,
   "metadata": {
    "pycharm": {
     "name": "#%%\n"
    }
   },
   "outputs": [
    {
     "data": {
      "image/png": "[encoded data removed]",
      "text/plain": [
       "<Figure size 432x288 with 1 Axes>"
      ]
     },
     "metadata": {
      "needs_background": "light"
     },
     "output_type": "display_data"
    },
    {
     "data": {
      "text/plain": [
       "<Figure size 432x288 with 0 Axes>"
      ]
     },
     "metadata": {},
     "output_type": "display_data"
    }
   ],
   "source": [
    "## Histogram to represent the account_frequency vs. days_before_ban\n",
    "plt.hist(df_fraud_accounts_lifespan['days_before_ban'], bins=39)\n",
    "plt.xlabel('days_before_ban')\n",
    "plt.ylabel('fraudaccounts_frequency')\n",
    "plt.title('Lifespan distribution of the fraud accounts')\n",
    "plt.show()\n",
    "\n",
    "## Save figure\n",
    "path = \"/Users/dwahid/Documents/GitHub/fraud_detection/data/figures/\"\n",
    "fig_name = path + 'fig_fraud_accounts_lifespan.png'\n",
    "plt.savefig(fig_name)"
   ]
  },
  {
   "cell_type": "code",
   "execution_count": 5,
   "metadata": {
    "pycharm": {
     "name": "#%%\n"
    }
   },
   "outputs": [
    {
     "data": {
      "image/png": "[encoded data removed]",
      "text/plain": [
       "<Figure size 432x288 with 1 Axes>"
      ]
     },
     "metadata": {
      "needs_background": "light"
     },
     "output_type": "display_data"
    }
   ],
   "source": [
    "## Histogram to represent the account_frequency vs. days_before_ban (closer look)\n",
    "n_bins = 13\n",
    "outliers_cutoff = 91\n",
    "\n",
    "histo_fraud_accounts_lifespan= sorted(df_fraud_accounts_lifespan['days_before_ban'])\n",
    "histo_fraud_accounts_lifespan_leOutlier = [i for i in histo_fraud_accounts_lifespan if i < outliers_cutoff]\n",
    "histo_fraud_accounts_lifespan_geOutlier = [i for i in histo_fraud_accounts_lifespan if i > outliers_cutoff]\n",
    "histo_fraud_accounts_lifespan = [histo_fraud_accounts_lifespan_leOutlier, histo_fraud_accounts_lifespan_geOutlier ] \n",
    "\n",
    "plt.hist(histo_fraud_accounts_lifespan_leOutlier, n_bins, density=False, histtype='bar')\n",
    "plt.xlabel('days_before_ban')\n",
    "plt.ylabel('accounts_frequency')\n",
    "# plt.xticks(ind, ('0', '01', '02', '03', '04', '05', '06', '07', '08', '09', '10', '11', '12', '13'))\n",
    "plt.title('Lifesapn distribution of fraud accounts (within first 13 weeks)')\n",
    "\n",
    "## Save Figure\n",
    "path = \"/Users/dwahid/Documents/GitHub/fraud_detection/data/figures/\"\n",
    "fig_name = path + 'fig_fraud_accounts_lifespan_le100days.png'\n",
    "plt.savefig(fig_name)"
   ]
  },
  {
   "cell_type": "markdown",
   "metadata": {
    "pycharm": {
     "name": "#%% md\n"
    }
   },
   "source": [
    "### Data Import: Identified Fraud and Non-Fraud Accounts Features"
   ]
  },
  {
   "cell_type": "code",
   "execution_count": 321,
   "metadata": {
    "pycharm": {
     "name": "#%%\n"
    }
   },
   "outputs": [],
   "source": [
    "## Importing Identifed Fraud Accounts\n",
    "df_fraud_accounts_activity_day_07 = pd.read_csv(\"/Users/dwahid/Documents/GitHub/fraud_detection/data/analyzing_fraud_accounts/fraud_accounts_features_day_07.tsv\", sep=\"\\t\")\n",
    "df_fraud_accounts_activity_day_14 = pd.read_csv(\"/Users/dwahid/Documents/GitHub/fraud_detection/data/analyzing_fraud_accounts/fraud_accounts_features_day_14.tsv\", sep=\"\\t\")\n",
    "df_fraud_accounts_activity_day_21 = pd.read_csv(\"/Users/dwahid/Documents/GitHub/fraud_detection/data/analyzing_fraud_accounts/fraud_accounts_features_day_21.tsv\", sep=\"\\t\")\n",
    "df_fraud_accounts_activity_day_28 = pd.read_csv(\"/Users/dwahid/Documents/GitHub/fraud_detection/data/analyzing_fraud_accounts/fraud_accounts_features_day_28.tsv\", sep=\"\\t\")\n",
    "df_fraud_accounts_activity_day_35 = pd.read_csv(\"/Users/dwahid/Documents/GitHub/fraud_detection/data/analyzing_fraud_accounts/fraud_accounts_features_day_35.tsv\", sep=\"\\t\")\n",
    "df_fraud_accounts_activity_day_42 = pd.read_csv(\"/Users/dwahid/Documents/GitHub/fraud_detection/data/analyzing_fraud_accounts/fraud_accounts_features_day_42.tsv\", sep=\"\\t\")\n",
    "df_fraud_accounts_activity_day_49 = pd.read_csv(\"/Users/dwahid/Documents/GitHub/fraud_detection/data/analyzing_fraud_accounts/fraud_accounts_features_day_49.tsv\", sep=\"\\t\")\n",
    "df_fraud_accounts_activity_day_56 = pd.read_csv(\"/Users/dwahid/Documents/GitHub/fraud_detection/data/analyzing_fraud_accounts/fraud_accounts_features_day_56.tsv\", sep=\"\\t\")\n",
    "df_fraud_accounts_activity_day_63 = pd.read_csv(\"/Users/dwahid/Documents/GitHub/fraud_detection/data/analyzing_fraud_accounts/fraud_accounts_features_day_63.tsv\", sep=\"\\t\")\n",
    "df_fraud_accounts_activity_day_70 = pd.read_csv(\"/Users/dwahid/Documents/GitHub/fraud_detection/data/analyzing_fraud_accounts/fraud_accounts_features_day_70.tsv\", sep=\"\\t\")\n",
    "df_fraud_accounts_activity_day_77 = pd.read_csv(\"/Users/dwahid/Documents/GitHub/fraud_detection/data/analyzing_fraud_accounts/fraud_accounts_features_day_77.tsv\", sep=\"\\t\")\n",
    "df_fraud_accounts_activity_day_84 = pd.read_csv(\"/Users/dwahid/Documents/GitHub/fraud_detection/data/analyzing_fraud_accounts/fraud_accounts_features_day_84.tsv\", sep=\"\\t\")\n",
    "df_fraud_accounts_activity_day_91 = pd.read_csv(\"/Users/dwahid/Documents/GitHub/fraud_detection/data/analyzing_fraud_accounts/fraud_accounts_features_day_91.tsv\", sep=\"\\t\")\n"
   ]
  },
  {
   "cell_type": "code",
   "execution_count": 322,
   "metadata": {
    "pycharm": {
     "name": "#%%\n"
    }
   },
   "outputs": [],
   "source": [
    "## Importing Identified Non-Fraud Accounts\n",
    "df_non_fraud_accounts_activity_day_07 =\\\n",
    "    pd.read_csv(\"/Users/dwahid/Documents/GitHub/fraud_detection/data/analyzing_fraud_accounts/non_fraud_accounts_features_day_07_20180801_20190730.tsv\", sep=\"\\t\")"
   ]
  },
  {
   "cell_type": "code",
   "execution_count": 323,
   "metadata": {
    "pycharm": {
     "name": "#%%\n"
    }
   },
   "outputs": [
    {
     "data": {
      "text/plain": [
       "(297, 93)"
      ]
     },
     "execution_count": 323,
     "metadata": {},
     "output_type": "execute_result"
    }
   ],
   "source": [
    "df_non_fraud_accounts_activity_day_07.shape"
   ]
  },
  {
   "cell_type": "code",
   "execution_count": 372,
   "metadata": {
    "pycharm": {
     "name": "#%%\n"
    }
   },
   "outputs": [],
   "source": [
    "## Importing Identified All Accounts\n",
    "df_all_accounts_day_07 =\\\n",
    "    pd.read_csv(\"/Users/dwahid/Documents/GitHub/fraud_detection/data/analyzing_fraud_accounts/final_features_day_07_no_fbtest_onlyimp.tsv\", sep=\"\\t\")"
   ]
  },
  {
   "cell_type": "code",
   "execution_count": 374,
   "metadata": {
    "pycharm": {
     "name": "#%%\n"
    }
   },
   "outputs": [
    {
     "data": {
      "text/plain": [
       "(452528, 105)"
      ]
     },
     "execution_count": 374,
     "metadata": {},
     "output_type": "execute_result"
    }
   ],
   "source": [
    "df_all_accounts_day_07.shape"
   ]
  },
  {
   "cell_type": "markdown",
   "metadata": {
    "pycharm": {
     "name": "#%% md\n"
    }
   },
   "source": [
    "### Indentifying Features Importance with Scores"
   ]
  },
  {
   "cell_type": "code",
   "execution_count": 324,
   "metadata": {
    "pycharm": {
     "name": "#%%\n"
    }
   },
   "outputs": [],
   "source": [
    "## Creating a merge (Non Fraud and Fraud accounts) data set\n",
    "df_fraud_data_07 = df_fraud_accounts_activity_day_07.copy()\n",
    "df_fraud_data_07['fraud_label'] = '1'        # adding fraud_label = 1 in the fraud accounts\n",
    "\n",
    "df_non_fraud_data_07 = df_non_fraud_accounts_activity_day_07.copy()\n",
    "df_non_fraud_data_07['fraud_label'] = '0'    # adding fraud_label = 0 in the non-fraud accounts\n",
    "\n",
    "df_data_07 = df_fraud_data_07.append(df_non_fraud_data_07)  # Joining fraud and non-fraud data sets\n",
    "df_data_07 = df_data_07.reset_index(drop=True)"
   ]
  },
  {
   "cell_type": "code",
   "execution_count": 325,
   "metadata": {
    "pycharm": {
     "name": "#%%\n"
    }
   },
   "outputs": [],
   "source": [
    "# list(df_data_07)"
   ]
  },
  {
   "cell_type": "code",
   "execution_count": 326,
   "metadata": {
    "pycharm": {
     "name": "#%%\n"
    }
   },
   "outputs": [],
   "source": [
    "# Renaming columns names\n",
    "df_data_07.rename(columns={ 'avg_wc_address_day_7': 'avg_wc_address', \n",
    "                    'avg_wc_description_day_7': 'avg_wc_description',\n",
    "                    'avg_wc_notes_day_7': 'avg_wc_notes',\n",
    "                    'avg_wc_terms_day_7': 'avg_wc_terms',\n",
    "                    'client_count_day_7': 'client_count',\n",
    "                    'invoice_count_day_7': 'invoice_count'}, inplace=True)"
   ]
  },
  {
   "cell_type": "code",
   "execution_count": 327,
   "metadata": {
    "pycharm": {
     "name": "#%%\n"
    }
   },
   "outputs": [
    {
     "data": {
      "text/html": [
       "<div>\n",
       "<style scoped>\n",
       "    .dataframe tbody tr th:only-of-type {\n",
       "        vertical-align: middle;\n",
       "    }\n",
       "\n",
       "    .dataframe tbody tr th {\n",
       "        vertical-align: top;\n",
       "    }\n",
       "\n",
       "    .dataframe thead th {\n",
       "        text-align: right;\n",
       "    }\n",
       "</style>\n",
       "<table border=\"1\" class=\"dataframe\">\n",
       "  <thead>\n",
       "    <tr style=\"text-align: right;\">\n",
       "      <th></th>\n",
       "      <th>activateexpense</th>\n",
       "      <th>activateotherincome</th>\n",
       "      <th>activatepayment</th>\n",
       "      <th>admin_email</th>\n",
       "      <th>admindeactivation</th>\n",
       "      <th>adminonlinepaymentattempt</th>\n",
       "      <th>adminpayinvoiceonlineinvoice</th>\n",
       "      <th>adminpayinvoiceonlinelistview</th>\n",
       "      <th>archiveclient</th>\n",
       "      <th>archiveexpense</th>\n",
       "      <th>...</th>\n",
       "      <th>updateclient</th>\n",
       "      <th>updatecompanyprofile</th>\n",
       "      <th>updatecontractor</th>\n",
       "      <th>updatecreditnote</th>\n",
       "      <th>updateestimate</th>\n",
       "      <th>updateexpense</th>\n",
       "      <th>updateinvoicesample</th>\n",
       "      <th>updateitem</th>\n",
       "      <th>updateservice</th>\n",
       "      <th>fraud_label</th>\n",
       "    </tr>\n",
       "  </thead>\n",
       "  <tbody>\n",
       "    <tr>\n",
       "      <th>626</th>\n",
       "      <td>0.0</td>\n",
       "      <td>0</td>\n",
       "      <td>0.0</td>\n",
       "      <td>billing@webwisconsin.com</td>\n",
       "      <td>0.0</td>\n",
       "      <td>0.0</td>\n",
       "      <td>0.0</td>\n",
       "      <td>0.0</td>\n",
       "      <td>0.0</td>\n",
       "      <td>0.0</td>\n",
       "      <td>...</td>\n",
       "      <td>4.0</td>\n",
       "      <td>0.0</td>\n",
       "      <td>0.0</td>\n",
       "      <td>0.0</td>\n",
       "      <td>0.0</td>\n",
       "      <td>2.0</td>\n",
       "      <td>1.0</td>\n",
       "      <td>0.0</td>\n",
       "      <td>0</td>\n",
       "      <td>0</td>\n",
       "    </tr>\n",
       "    <tr>\n",
       "      <th>627</th>\n",
       "      <td>0.0</td>\n",
       "      <td>0</td>\n",
       "      <td>0.0</td>\n",
       "      <td>ema.spus@gmail.com</td>\n",
       "      <td>0.0</td>\n",
       "      <td>0.0</td>\n",
       "      <td>0.0</td>\n",
       "      <td>0.0</td>\n",
       "      <td>0.0</td>\n",
       "      <td>0.0</td>\n",
       "      <td>...</td>\n",
       "      <td>2.0</td>\n",
       "      <td>0.0</td>\n",
       "      <td>0.0</td>\n",
       "      <td>0.0</td>\n",
       "      <td>0.0</td>\n",
       "      <td>0.0</td>\n",
       "      <td>0.0</td>\n",
       "      <td>17.0</td>\n",
       "      <td>6</td>\n",
       "      <td>0</td>\n",
       "    </tr>\n",
       "    <tr>\n",
       "      <th>628</th>\n",
       "      <td>0.0</td>\n",
       "      <td>0</td>\n",
       "      <td>0.0</td>\n",
       "      <td>proflame@shaw.ca</td>\n",
       "      <td>0.0</td>\n",
       "      <td>0.0</td>\n",
       "      <td>0.0</td>\n",
       "      <td>0.0</td>\n",
       "      <td>0.0</td>\n",
       "      <td>0.0</td>\n",
       "      <td>...</td>\n",
       "      <td>40.0</td>\n",
       "      <td>0.0</td>\n",
       "      <td>0.0</td>\n",
       "      <td>0.0</td>\n",
       "      <td>28.0</td>\n",
       "      <td>0.0</td>\n",
       "      <td>1.0</td>\n",
       "      <td>0.0</td>\n",
       "      <td>0</td>\n",
       "      <td>0</td>\n",
       "    </tr>\n",
       "    <tr>\n",
       "      <th>629</th>\n",
       "      <td>0.0</td>\n",
       "      <td>0</td>\n",
       "      <td>0.0</td>\n",
       "      <td>rruckman@nabcblues.org</td>\n",
       "      <td>0.0</td>\n",
       "      <td>0.0</td>\n",
       "      <td>0.0</td>\n",
       "      <td>0.0</td>\n",
       "      <td>0.0</td>\n",
       "      <td>0.0</td>\n",
       "      <td>...</td>\n",
       "      <td>36.0</td>\n",
       "      <td>0.0</td>\n",
       "      <td>0.0</td>\n",
       "      <td>0.0</td>\n",
       "      <td>0.0</td>\n",
       "      <td>0.0</td>\n",
       "      <td>0.0</td>\n",
       "      <td>0.0</td>\n",
       "      <td>0</td>\n",
       "      <td>0</td>\n",
       "    </tr>\n",
       "    <tr>\n",
       "      <th>630</th>\n",
       "      <td>0.0</td>\n",
       "      <td>0</td>\n",
       "      <td>0.0</td>\n",
       "      <td>stuart@sbmedia.co</td>\n",
       "      <td>0.0</td>\n",
       "      <td>0.0</td>\n",
       "      <td>0.0</td>\n",
       "      <td>0.0</td>\n",
       "      <td>0.0</td>\n",
       "      <td>0.0</td>\n",
       "      <td>...</td>\n",
       "      <td>10.0</td>\n",
       "      <td>0.0</td>\n",
       "      <td>0.0</td>\n",
       "      <td>0.0</td>\n",
       "      <td>0.0</td>\n",
       "      <td>0.0</td>\n",
       "      <td>0.0</td>\n",
       "      <td>0.0</td>\n",
       "      <td>0</td>\n",
       "      <td>0</td>\n",
       "    </tr>\n",
       "  </tbody>\n",
       "</table>\n",
       "<p>5 rows × 94 columns</p>\n",
       "</div>"
      ],
      "text/plain": [
       "     activateexpense  activateotherincome  activatepayment  \\\n",
       "626              0.0                    0              0.0   \n",
       "627              0.0                    0              0.0   \n",
       "628              0.0                    0              0.0   \n",
       "629              0.0                    0              0.0   \n",
       "630              0.0                    0              0.0   \n",
       "\n",
       "                  admin_email  admindeactivation  adminonlinepaymentattempt  \\\n",
       "626  billing@webwisconsin.com                0.0                        0.0   \n",
       "627        ema.spus@gmail.com                0.0                        0.0   \n",
       "628          proflame@shaw.ca                0.0                        0.0   \n",
       "629    rruckman@nabcblues.org                0.0                        0.0   \n",
       "630         stuart@sbmedia.co                0.0                        0.0   \n",
       "\n",
       "     adminpayinvoiceonlineinvoice  adminpayinvoiceonlinelistview  \\\n",
       "626                           0.0                            0.0   \n",
       "627                           0.0                            0.0   \n",
       "628                           0.0                            0.0   \n",
       "629                           0.0                            0.0   \n",
       "630                           0.0                            0.0   \n",
       "\n",
       "     archiveclient  archiveexpense  ...  updateclient  updatecompanyprofile  \\\n",
       "626            0.0             0.0  ...           4.0                   0.0   \n",
       "627            0.0             0.0  ...           2.0                   0.0   \n",
       "628            0.0             0.0  ...          40.0                   0.0   \n",
       "629            0.0             0.0  ...          36.0                   0.0   \n",
       "630            0.0             0.0  ...          10.0                   0.0   \n",
       "\n",
       "     updatecontractor  updatecreditnote  updateestimate  updateexpense  \\\n",
       "626               0.0               0.0             0.0            2.0   \n",
       "627               0.0               0.0             0.0            0.0   \n",
       "628               0.0               0.0            28.0            0.0   \n",
       "629               0.0               0.0             0.0            0.0   \n",
       "630               0.0               0.0             0.0            0.0   \n",
       "\n",
       "     updateinvoicesample  updateitem  updateservice  fraud_label  \n",
       "626                  1.0         0.0              0            0  \n",
       "627                  0.0        17.0              6            0  \n",
       "628                  1.0         0.0              0            0  \n",
       "629                  0.0         0.0              0            0  \n",
       "630                  0.0         0.0              0            0  \n",
       "\n",
       "[5 rows x 94 columns]"
      ]
     },
     "execution_count": 327,
     "metadata": {},
     "output_type": "execute_result"
    }
   ],
   "source": [
    "df_data_07.tail()"
   ]
  },
  {
   "cell_type": "code",
   "execution_count": 328,
   "metadata": {
    "pycharm": {
     "name": "#%%\n"
    }
   },
   "outputs": [],
   "source": [
    "# Create a copy of the datafram for analysis\n",
    "df_data_07_v2 = df_data_07.copy()\n",
    "df = df_data_07.copy()"
   ]
  },
  {
   "cell_type": "code",
   "execution_count": 329,
   "metadata": {
    "pycharm": {
     "name": "#%%\n"
    }
   },
   "outputs": [
    {
     "data": {
      "text/html": [
       "<div>\n",
       "<style scoped>\n",
       "    .dataframe tbody tr th:only-of-type {\n",
       "        vertical-align: middle;\n",
       "    }\n",
       "\n",
       "    .dataframe tbody tr th {\n",
       "        vertical-align: top;\n",
       "    }\n",
       "\n",
       "    .dataframe thead th {\n",
       "        text-align: right;\n",
       "    }\n",
       "</style>\n",
       "<table border=\"1\" class=\"dataframe\">\n",
       "  <thead>\n",
       "    <tr style=\"text-align: right;\">\n",
       "      <th></th>\n",
       "      <th>activateexpense</th>\n",
       "      <th>activateotherincome</th>\n",
       "      <th>activatepayment</th>\n",
       "      <th>admin_email</th>\n",
       "      <th>admindeactivation</th>\n",
       "      <th>adminonlinepaymentattempt</th>\n",
       "      <th>adminpayinvoiceonlineinvoice</th>\n",
       "      <th>adminpayinvoiceonlinelistview</th>\n",
       "      <th>archiveclient</th>\n",
       "      <th>archiveexpense</th>\n",
       "      <th>...</th>\n",
       "      <th>updateclient</th>\n",
       "      <th>updatecompanyprofile</th>\n",
       "      <th>updatecontractor</th>\n",
       "      <th>updatecreditnote</th>\n",
       "      <th>updateestimate</th>\n",
       "      <th>updateexpense</th>\n",
       "      <th>updateinvoicesample</th>\n",
       "      <th>updateitem</th>\n",
       "      <th>updateservice</th>\n",
       "      <th>fraud_label</th>\n",
       "    </tr>\n",
       "  </thead>\n",
       "  <tbody>\n",
       "    <tr>\n",
       "      <th>0</th>\n",
       "      <td>0.0</td>\n",
       "      <td>0</td>\n",
       "      <td>0.0</td>\n",
       "      <td>sales@technicalsupporting.com</td>\n",
       "      <td>0.0</td>\n",
       "      <td>0.0</td>\n",
       "      <td>0.0</td>\n",
       "      <td>0.0</td>\n",
       "      <td>0.0</td>\n",
       "      <td>0.0</td>\n",
       "      <td>...</td>\n",
       "      <td>3.0</td>\n",
       "      <td>1.0</td>\n",
       "      <td>0.0</td>\n",
       "      <td>0.0</td>\n",
       "      <td>0.0</td>\n",
       "      <td>0.0</td>\n",
       "      <td>0.0</td>\n",
       "      <td>0.0</td>\n",
       "      <td>0</td>\n",
       "      <td>1</td>\n",
       "    </tr>\n",
       "    <tr>\n",
       "      <th>1</th>\n",
       "      <td>0.0</td>\n",
       "      <td>0</td>\n",
       "      <td>0.0</td>\n",
       "      <td>justin@freshlemonsolutions.com</td>\n",
       "      <td>0.0</td>\n",
       "      <td>0.0</td>\n",
       "      <td>0.0</td>\n",
       "      <td>0.0</td>\n",
       "      <td>0.0</td>\n",
       "      <td>0.0</td>\n",
       "      <td>...</td>\n",
       "      <td>0.0</td>\n",
       "      <td>0.0</td>\n",
       "      <td>0.0</td>\n",
       "      <td>0.0</td>\n",
       "      <td>0.0</td>\n",
       "      <td>0.0</td>\n",
       "      <td>0.0</td>\n",
       "      <td>0.0</td>\n",
       "      <td>0</td>\n",
       "      <td>1</td>\n",
       "    </tr>\n",
       "    <tr>\n",
       "      <th>2</th>\n",
       "      <td>0.0</td>\n",
       "      <td>0</td>\n",
       "      <td>0.0</td>\n",
       "      <td>arossrcr@roughcountryrusticfurniture.com</td>\n",
       "      <td>0.0</td>\n",
       "      <td>0.0</td>\n",
       "      <td>0.0</td>\n",
       "      <td>0.0</td>\n",
       "      <td>0.0</td>\n",
       "      <td>0.0</td>\n",
       "      <td>...</td>\n",
       "      <td>2.0</td>\n",
       "      <td>1.0</td>\n",
       "      <td>0.0</td>\n",
       "      <td>0.0</td>\n",
       "      <td>0.0</td>\n",
       "      <td>0.0</td>\n",
       "      <td>0.0</td>\n",
       "      <td>0.0</td>\n",
       "      <td>0</td>\n",
       "      <td>1</td>\n",
       "    </tr>\n",
       "    <tr>\n",
       "      <th>3</th>\n",
       "      <td>0.0</td>\n",
       "      <td>0</td>\n",
       "      <td>0.0</td>\n",
       "      <td>nazia.quraishi@technicianforyou.com</td>\n",
       "      <td>0.0</td>\n",
       "      <td>0.0</td>\n",
       "      <td>0.0</td>\n",
       "      <td>0.0</td>\n",
       "      <td>0.0</td>\n",
       "      <td>0.0</td>\n",
       "      <td>...</td>\n",
       "      <td>0.0</td>\n",
       "      <td>0.0</td>\n",
       "      <td>0.0</td>\n",
       "      <td>0.0</td>\n",
       "      <td>0.0</td>\n",
       "      <td>0.0</td>\n",
       "      <td>0.0</td>\n",
       "      <td>0.0</td>\n",
       "      <td>0</td>\n",
       "      <td>1</td>\n",
       "    </tr>\n",
       "    <tr>\n",
       "      <th>4</th>\n",
       "      <td>0.0</td>\n",
       "      <td>0</td>\n",
       "      <td>0.0</td>\n",
       "      <td>americanguy009@gmail.com</td>\n",
       "      <td>0.0</td>\n",
       "      <td>0.0</td>\n",
       "      <td>0.0</td>\n",
       "      <td>0.0</td>\n",
       "      <td>0.0</td>\n",
       "      <td>0.0</td>\n",
       "      <td>...</td>\n",
       "      <td>2.0</td>\n",
       "      <td>2.0</td>\n",
       "      <td>0.0</td>\n",
       "      <td>0.0</td>\n",
       "      <td>0.0</td>\n",
       "      <td>0.0</td>\n",
       "      <td>0.0</td>\n",
       "      <td>0.0</td>\n",
       "      <td>0</td>\n",
       "      <td>1</td>\n",
       "    </tr>\n",
       "  </tbody>\n",
       "</table>\n",
       "<p>5 rows × 94 columns</p>\n",
       "</div>"
      ],
      "text/plain": [
       "   activateexpense  activateotherincome  activatepayment  \\\n",
       "0              0.0                    0              0.0   \n",
       "1              0.0                    0              0.0   \n",
       "2              0.0                    0              0.0   \n",
       "3              0.0                    0              0.0   \n",
       "4              0.0                    0              0.0   \n",
       "\n",
       "                                admin_email  admindeactivation  \\\n",
       "0             sales@technicalsupporting.com                0.0   \n",
       "1            justin@freshlemonsolutions.com                0.0   \n",
       "2  arossrcr@roughcountryrusticfurniture.com                0.0   \n",
       "3       nazia.quraishi@technicianforyou.com                0.0   \n",
       "4                  americanguy009@gmail.com                0.0   \n",
       "\n",
       "   adminonlinepaymentattempt  adminpayinvoiceonlineinvoice  \\\n",
       "0                        0.0                           0.0   \n",
       "1                        0.0                           0.0   \n",
       "2                        0.0                           0.0   \n",
       "3                        0.0                           0.0   \n",
       "4                        0.0                           0.0   \n",
       "\n",
       "   adminpayinvoiceonlinelistview  archiveclient  archiveexpense  ...  \\\n",
       "0                            0.0            0.0             0.0  ...   \n",
       "1                            0.0            0.0             0.0  ...   \n",
       "2                            0.0            0.0             0.0  ...   \n",
       "3                            0.0            0.0             0.0  ...   \n",
       "4                            0.0            0.0             0.0  ...   \n",
       "\n",
       "   updateclient  updatecompanyprofile  updatecontractor  updatecreditnote  \\\n",
       "0           3.0                   1.0               0.0               0.0   \n",
       "1           0.0                   0.0               0.0               0.0   \n",
       "2           2.0                   1.0               0.0               0.0   \n",
       "3           0.0                   0.0               0.0               0.0   \n",
       "4           2.0                   2.0               0.0               0.0   \n",
       "\n",
       "   updateestimate  updateexpense  updateinvoicesample  updateitem  \\\n",
       "0             0.0            0.0                  0.0         0.0   \n",
       "1             0.0            0.0                  0.0         0.0   \n",
       "2             0.0            0.0                  0.0         0.0   \n",
       "3             0.0            0.0                  0.0         0.0   \n",
       "4             0.0            0.0                  0.0         0.0   \n",
       "\n",
       "   updateservice  fraud_label  \n",
       "0              0            1  \n",
       "1              0            1  \n",
       "2              0            1  \n",
       "3              0            1  \n",
       "4              0            1  \n",
       "\n",
       "[5 rows x 94 columns]"
      ]
     },
     "execution_count": 329,
     "metadata": {},
     "output_type": "execute_result"
    }
   ],
   "source": [
    "df_data_07_v2.head()"
   ]
  },
  {
   "cell_type": "code",
   "execution_count": 330,
   "metadata": {
    "pycharm": {
     "name": "#%%\n"
    }
   },
   "outputs": [],
   "source": [
    "## Drop Identifying columns\n",
    "columns = ['admin_email', 'is_freshbooks_account_active', \n",
    "           'is_paying', 'effective_date', 'is_sales_managed', \n",
    "           'signup_date', 'systemid', 'days_on_platform']\n",
    "df_data_07_v2.drop(columns, inplace=True, axis=1)"
   ]
  },
  {
   "cell_type": "code",
   "execution_count": null,
   "metadata": {
    "pycharm": {
     "name": "#%%\n"
    }
   },
   "outputs": [],
   "source": []
  },
  {
   "cell_type": "code",
   "execution_count": 331,
   "metadata": {
    "pycharm": {
     "name": "#%%\n"
    }
   },
   "outputs": [
    {
     "data": {
      "text/html": [
       "<div>\n",
       "<style scoped>\n",
       "    .dataframe tbody tr th:only-of-type {\n",
       "        vertical-align: middle;\n",
       "    }\n",
       "\n",
       "    .dataframe tbody tr th {\n",
       "        vertical-align: top;\n",
       "    }\n",
       "\n",
       "    .dataframe thead th {\n",
       "        text-align: right;\n",
       "    }\n",
       "</style>\n",
       "<table border=\"1\" class=\"dataframe\">\n",
       "  <thead>\n",
       "    <tr style=\"text-align: right;\">\n",
       "      <th></th>\n",
       "      <th>activateexpense</th>\n",
       "      <th>activateotherincome</th>\n",
       "      <th>activatepayment</th>\n",
       "      <th>admindeactivation</th>\n",
       "      <th>adminonlinepaymentattempt</th>\n",
       "      <th>adminpayinvoiceonlineinvoice</th>\n",
       "      <th>adminpayinvoiceonlinelistview</th>\n",
       "      <th>archiveclient</th>\n",
       "      <th>archiveexpense</th>\n",
       "      <th>archiveotherincome</th>\n",
       "      <th>...</th>\n",
       "      <th>updateclient</th>\n",
       "      <th>updatecompanyprofile</th>\n",
       "      <th>updatecontractor</th>\n",
       "      <th>updatecreditnote</th>\n",
       "      <th>updateestimate</th>\n",
       "      <th>updateexpense</th>\n",
       "      <th>updateinvoicesample</th>\n",
       "      <th>updateitem</th>\n",
       "      <th>updateservice</th>\n",
       "      <th>fraud_label</th>\n",
       "    </tr>\n",
       "  </thead>\n",
       "  <tbody>\n",
       "    <tr>\n",
       "      <th>0</th>\n",
       "      <td>0.0</td>\n",
       "      <td>0</td>\n",
       "      <td>0.0</td>\n",
       "      <td>0.0</td>\n",
       "      <td>0.0</td>\n",
       "      <td>0.0</td>\n",
       "      <td>0.0</td>\n",
       "      <td>0.0</td>\n",
       "      <td>0.0</td>\n",
       "      <td>0</td>\n",
       "      <td>...</td>\n",
       "      <td>3.0</td>\n",
       "      <td>1.0</td>\n",
       "      <td>0.0</td>\n",
       "      <td>0.0</td>\n",
       "      <td>0.0</td>\n",
       "      <td>0.0</td>\n",
       "      <td>0.0</td>\n",
       "      <td>0.0</td>\n",
       "      <td>0</td>\n",
       "      <td>1</td>\n",
       "    </tr>\n",
       "    <tr>\n",
       "      <th>1</th>\n",
       "      <td>0.0</td>\n",
       "      <td>0</td>\n",
       "      <td>0.0</td>\n",
       "      <td>0.0</td>\n",
       "      <td>0.0</td>\n",
       "      <td>0.0</td>\n",
       "      <td>0.0</td>\n",
       "      <td>0.0</td>\n",
       "      <td>0.0</td>\n",
       "      <td>0</td>\n",
       "      <td>...</td>\n",
       "      <td>0.0</td>\n",
       "      <td>0.0</td>\n",
       "      <td>0.0</td>\n",
       "      <td>0.0</td>\n",
       "      <td>0.0</td>\n",
       "      <td>0.0</td>\n",
       "      <td>0.0</td>\n",
       "      <td>0.0</td>\n",
       "      <td>0</td>\n",
       "      <td>1</td>\n",
       "    </tr>\n",
       "    <tr>\n",
       "      <th>2</th>\n",
       "      <td>0.0</td>\n",
       "      <td>0</td>\n",
       "      <td>0.0</td>\n",
       "      <td>0.0</td>\n",
       "      <td>0.0</td>\n",
       "      <td>0.0</td>\n",
       "      <td>0.0</td>\n",
       "      <td>0.0</td>\n",
       "      <td>0.0</td>\n",
       "      <td>0</td>\n",
       "      <td>...</td>\n",
       "      <td>2.0</td>\n",
       "      <td>1.0</td>\n",
       "      <td>0.0</td>\n",
       "      <td>0.0</td>\n",
       "      <td>0.0</td>\n",
       "      <td>0.0</td>\n",
       "      <td>0.0</td>\n",
       "      <td>0.0</td>\n",
       "      <td>0</td>\n",
       "      <td>1</td>\n",
       "    </tr>\n",
       "    <tr>\n",
       "      <th>3</th>\n",
       "      <td>0.0</td>\n",
       "      <td>0</td>\n",
       "      <td>0.0</td>\n",
       "      <td>0.0</td>\n",
       "      <td>0.0</td>\n",
       "      <td>0.0</td>\n",
       "      <td>0.0</td>\n",
       "      <td>0.0</td>\n",
       "      <td>0.0</td>\n",
       "      <td>0</td>\n",
       "      <td>...</td>\n",
       "      <td>0.0</td>\n",
       "      <td>0.0</td>\n",
       "      <td>0.0</td>\n",
       "      <td>0.0</td>\n",
       "      <td>0.0</td>\n",
       "      <td>0.0</td>\n",
       "      <td>0.0</td>\n",
       "      <td>0.0</td>\n",
       "      <td>0</td>\n",
       "      <td>1</td>\n",
       "    </tr>\n",
       "    <tr>\n",
       "      <th>4</th>\n",
       "      <td>0.0</td>\n",
       "      <td>0</td>\n",
       "      <td>0.0</td>\n",
       "      <td>0.0</td>\n",
       "      <td>0.0</td>\n",
       "      <td>0.0</td>\n",
       "      <td>0.0</td>\n",
       "      <td>0.0</td>\n",
       "      <td>0.0</td>\n",
       "      <td>0</td>\n",
       "      <td>...</td>\n",
       "      <td>2.0</td>\n",
       "      <td>2.0</td>\n",
       "      <td>0.0</td>\n",
       "      <td>0.0</td>\n",
       "      <td>0.0</td>\n",
       "      <td>0.0</td>\n",
       "      <td>0.0</td>\n",
       "      <td>0.0</td>\n",
       "      <td>0</td>\n",
       "      <td>1</td>\n",
       "    </tr>\n",
       "  </tbody>\n",
       "</table>\n",
       "<p>5 rows × 86 columns</p>\n",
       "</div>"
      ],
      "text/plain": [
       "   activateexpense  activateotherincome  activatepayment  admindeactivation  \\\n",
       "0              0.0                    0              0.0                0.0   \n",
       "1              0.0                    0              0.0                0.0   \n",
       "2              0.0                    0              0.0                0.0   \n",
       "3              0.0                    0              0.0                0.0   \n",
       "4              0.0                    0              0.0                0.0   \n",
       "\n",
       "   adminonlinepaymentattempt  adminpayinvoiceonlineinvoice  \\\n",
       "0                        0.0                           0.0   \n",
       "1                        0.0                           0.0   \n",
       "2                        0.0                           0.0   \n",
       "3                        0.0                           0.0   \n",
       "4                        0.0                           0.0   \n",
       "\n",
       "   adminpayinvoiceonlinelistview  archiveclient  archiveexpense  \\\n",
       "0                            0.0            0.0             0.0   \n",
       "1                            0.0            0.0             0.0   \n",
       "2                            0.0            0.0             0.0   \n",
       "3                            0.0            0.0             0.0   \n",
       "4                            0.0            0.0             0.0   \n",
       "\n",
       "   archiveotherincome  ...  updateclient  updatecompanyprofile  \\\n",
       "0                   0  ...           3.0                   1.0   \n",
       "1                   0  ...           0.0                   0.0   \n",
       "2                   0  ...           2.0                   1.0   \n",
       "3                   0  ...           0.0                   0.0   \n",
       "4                   0  ...           2.0                   2.0   \n",
       "\n",
       "   updatecontractor  updatecreditnote  updateestimate  updateexpense  \\\n",
       "0               0.0               0.0             0.0            0.0   \n",
       "1               0.0               0.0             0.0            0.0   \n",
       "2               0.0               0.0             0.0            0.0   \n",
       "3               0.0               0.0             0.0            0.0   \n",
       "4               0.0               0.0             0.0            0.0   \n",
       "\n",
       "   updateinvoicesample  updateitem  updateservice  fraud_label  \n",
       "0                  0.0         0.0              0            1  \n",
       "1                  0.0         0.0              0            1  \n",
       "2                  0.0         0.0              0            1  \n",
       "3                  0.0         0.0              0            1  \n",
       "4                  0.0         0.0              0            1  \n",
       "\n",
       "[5 rows x 86 columns]"
      ]
     },
     "execution_count": 331,
     "metadata": {},
     "output_type": "execute_result"
    }
   ],
   "source": [
    "df_data_07_v2.head()"
   ]
  },
  {
   "cell_type": "code",
   "execution_count": 332,
   "metadata": {
    "pycharm": {
     "name": "#%%\n"
    }
   },
   "outputs": [],
   "source": [
    "## Spliting data (X) and target (y) \n",
    "target = ['fraud_label']\n",
    "y = df_data_07_v2['fraud_label']\n",
    "\n",
    "df_data_07_v2.drop(target, inplace=True, axis=1)\n",
    "X = df_data_07_v2"
   ]
  },
  {
   "cell_type": "code",
   "execution_count": 333,
   "metadata": {
    "pycharm": {
     "name": "#%%\n"
    }
   },
   "outputs": [
    {
     "data": {
      "text/html": [
       "<div>\n",
       "<style scoped>\n",
       "    .dataframe tbody tr th:only-of-type {\n",
       "        vertical-align: middle;\n",
       "    }\n",
       "\n",
       "    .dataframe tbody tr th {\n",
       "        vertical-align: top;\n",
       "    }\n",
       "\n",
       "    .dataframe thead th {\n",
       "        text-align: right;\n",
       "    }\n",
       "</style>\n",
       "<table border=\"1\" class=\"dataframe\">\n",
       "  <thead>\n",
       "    <tr style=\"text-align: right;\">\n",
       "      <th></th>\n",
       "      <th>activateexpense</th>\n",
       "      <th>activateotherincome</th>\n",
       "      <th>activatepayment</th>\n",
       "      <th>admindeactivation</th>\n",
       "      <th>adminonlinepaymentattempt</th>\n",
       "      <th>adminpayinvoiceonlineinvoice</th>\n",
       "      <th>adminpayinvoiceonlinelistview</th>\n",
       "      <th>archiveclient</th>\n",
       "      <th>archiveexpense</th>\n",
       "      <th>archiveotherincome</th>\n",
       "      <th>...</th>\n",
       "      <th>updatecategory</th>\n",
       "      <th>updateclient</th>\n",
       "      <th>updatecompanyprofile</th>\n",
       "      <th>updatecontractor</th>\n",
       "      <th>updatecreditnote</th>\n",
       "      <th>updateestimate</th>\n",
       "      <th>updateexpense</th>\n",
       "      <th>updateinvoicesample</th>\n",
       "      <th>updateitem</th>\n",
       "      <th>updateservice</th>\n",
       "    </tr>\n",
       "  </thead>\n",
       "  <tbody>\n",
       "    <tr>\n",
       "      <th>0</th>\n",
       "      <td>0.0</td>\n",
       "      <td>0</td>\n",
       "      <td>0.0</td>\n",
       "      <td>0.0</td>\n",
       "      <td>0.0</td>\n",
       "      <td>0.0</td>\n",
       "      <td>0.0</td>\n",
       "      <td>0.0</td>\n",
       "      <td>0.0</td>\n",
       "      <td>0</td>\n",
       "      <td>...</td>\n",
       "      <td>0.0</td>\n",
       "      <td>3.0</td>\n",
       "      <td>1.0</td>\n",
       "      <td>0.0</td>\n",
       "      <td>0.0</td>\n",
       "      <td>0.0</td>\n",
       "      <td>0.0</td>\n",
       "      <td>0.0</td>\n",
       "      <td>0.0</td>\n",
       "      <td>0</td>\n",
       "    </tr>\n",
       "    <tr>\n",
       "      <th>1</th>\n",
       "      <td>0.0</td>\n",
       "      <td>0</td>\n",
       "      <td>0.0</td>\n",
       "      <td>0.0</td>\n",
       "      <td>0.0</td>\n",
       "      <td>0.0</td>\n",
       "      <td>0.0</td>\n",
       "      <td>0.0</td>\n",
       "      <td>0.0</td>\n",
       "      <td>0</td>\n",
       "      <td>...</td>\n",
       "      <td>0.0</td>\n",
       "      <td>0.0</td>\n",
       "      <td>0.0</td>\n",
       "      <td>0.0</td>\n",
       "      <td>0.0</td>\n",
       "      <td>0.0</td>\n",
       "      <td>0.0</td>\n",
       "      <td>0.0</td>\n",
       "      <td>0.0</td>\n",
       "      <td>0</td>\n",
       "    </tr>\n",
       "    <tr>\n",
       "      <th>2</th>\n",
       "      <td>0.0</td>\n",
       "      <td>0</td>\n",
       "      <td>0.0</td>\n",
       "      <td>0.0</td>\n",
       "      <td>0.0</td>\n",
       "      <td>0.0</td>\n",
       "      <td>0.0</td>\n",
       "      <td>0.0</td>\n",
       "      <td>0.0</td>\n",
       "      <td>0</td>\n",
       "      <td>...</td>\n",
       "      <td>0.0</td>\n",
       "      <td>2.0</td>\n",
       "      <td>1.0</td>\n",
       "      <td>0.0</td>\n",
       "      <td>0.0</td>\n",
       "      <td>0.0</td>\n",
       "      <td>0.0</td>\n",
       "      <td>0.0</td>\n",
       "      <td>0.0</td>\n",
       "      <td>0</td>\n",
       "    </tr>\n",
       "    <tr>\n",
       "      <th>3</th>\n",
       "      <td>0.0</td>\n",
       "      <td>0</td>\n",
       "      <td>0.0</td>\n",
       "      <td>0.0</td>\n",
       "      <td>0.0</td>\n",
       "      <td>0.0</td>\n",
       "      <td>0.0</td>\n",
       "      <td>0.0</td>\n",
       "      <td>0.0</td>\n",
       "      <td>0</td>\n",
       "      <td>...</td>\n",
       "      <td>0.0</td>\n",
       "      <td>0.0</td>\n",
       "      <td>0.0</td>\n",
       "      <td>0.0</td>\n",
       "      <td>0.0</td>\n",
       "      <td>0.0</td>\n",
       "      <td>0.0</td>\n",
       "      <td>0.0</td>\n",
       "      <td>0.0</td>\n",
       "      <td>0</td>\n",
       "    </tr>\n",
       "    <tr>\n",
       "      <th>4</th>\n",
       "      <td>0.0</td>\n",
       "      <td>0</td>\n",
       "      <td>0.0</td>\n",
       "      <td>0.0</td>\n",
       "      <td>0.0</td>\n",
       "      <td>0.0</td>\n",
       "      <td>0.0</td>\n",
       "      <td>0.0</td>\n",
       "      <td>0.0</td>\n",
       "      <td>0</td>\n",
       "      <td>...</td>\n",
       "      <td>0.0</td>\n",
       "      <td>2.0</td>\n",
       "      <td>2.0</td>\n",
       "      <td>0.0</td>\n",
       "      <td>0.0</td>\n",
       "      <td>0.0</td>\n",
       "      <td>0.0</td>\n",
       "      <td>0.0</td>\n",
       "      <td>0.0</td>\n",
       "      <td>0</td>\n",
       "    </tr>\n",
       "  </tbody>\n",
       "</table>\n",
       "<p>5 rows × 85 columns</p>\n",
       "</div>"
      ],
      "text/plain": [
       "   activateexpense  activateotherincome  activatepayment  admindeactivation  \\\n",
       "0              0.0                    0              0.0                0.0   \n",
       "1              0.0                    0              0.0                0.0   \n",
       "2              0.0                    0              0.0                0.0   \n",
       "3              0.0                    0              0.0                0.0   \n",
       "4              0.0                    0              0.0                0.0   \n",
       "\n",
       "   adminonlinepaymentattempt  adminpayinvoiceonlineinvoice  \\\n",
       "0                        0.0                           0.0   \n",
       "1                        0.0                           0.0   \n",
       "2                        0.0                           0.0   \n",
       "3                        0.0                           0.0   \n",
       "4                        0.0                           0.0   \n",
       "\n",
       "   adminpayinvoiceonlinelistview  archiveclient  archiveexpense  \\\n",
       "0                            0.0            0.0             0.0   \n",
       "1                            0.0            0.0             0.0   \n",
       "2                            0.0            0.0             0.0   \n",
       "3                            0.0            0.0             0.0   \n",
       "4                            0.0            0.0             0.0   \n",
       "\n",
       "   archiveotherincome  ...  updatecategory  updateclient  \\\n",
       "0                   0  ...             0.0           3.0   \n",
       "1                   0  ...             0.0           0.0   \n",
       "2                   0  ...             0.0           2.0   \n",
       "3                   0  ...             0.0           0.0   \n",
       "4                   0  ...             0.0           2.0   \n",
       "\n",
       "   updatecompanyprofile  updatecontractor  updatecreditnote  updateestimate  \\\n",
       "0                   1.0               0.0               0.0             0.0   \n",
       "1                   0.0               0.0               0.0             0.0   \n",
       "2                   1.0               0.0               0.0             0.0   \n",
       "3                   0.0               0.0               0.0             0.0   \n",
       "4                   2.0               0.0               0.0             0.0   \n",
       "\n",
       "   updateexpense  updateinvoicesample  updateitem  updateservice  \n",
       "0            0.0                  0.0         0.0              0  \n",
       "1            0.0                  0.0         0.0              0  \n",
       "2            0.0                  0.0         0.0              0  \n",
       "3            0.0                  0.0         0.0              0  \n",
       "4            0.0                  0.0         0.0              0  \n",
       "\n",
       "[5 rows x 85 columns]"
      ]
     },
     "execution_count": 333,
     "metadata": {},
     "output_type": "execute_result"
    }
   ],
   "source": [
    "X.head()"
   ]
  },
  {
   "cell_type": "code",
   "execution_count": 334,
   "metadata": {
    "pycharm": {
     "name": "#%%\n"
    }
   },
   "outputs": [],
   "source": [
    "from sklearn.datasets import make_classification\n",
    "from sklearn.ensemble import ExtraTreesClassifier\n",
    "\n",
    "\n",
    "# Build a forest and compute the feature importances\n",
    "forest = ExtraTreesClassifier(n_estimators=250,\n",
    "                              random_state=0)\n",
    "\n",
    "forest.fit(X, y)\n",
    "importances = forest.feature_importances_\n",
    "std = np.std([tree.feature_importances_ for tree in forest.estimators_],\n",
    "             axis=0)\n",
    "indices = np.argsort(importances)[::-1]"
   ]
  },
  {
   "cell_type": "code",
   "execution_count": 335,
   "metadata": {
    "pycharm": {
     "name": "#%%\n"
    }
   },
   "outputs": [
    {
     "name": "stdout",
     "output_type": "stream",
     "text": [
      "Feature ranking:\n",
      "1. surveyquestionanswered, Score: 0.156519\n",
      "2. identitycompletedonboarding, Score: 0.133903\n",
      "3. updatebusiness, Score: 0.123808\n",
      "4. createservice, Score: 0.081417\n",
      "5. updateinvoicesample, Score: 0.060200\n",
      "6. emailinvoicesample, Score: 0.050092\n",
      "7. createitem, Score: 0.020519\n",
      "8. successfulonlinepayment, Score: 0.017868\n",
      "9. fbpayfirstinvoicesent, Score: 0.017195\n",
      "10. createbankaccount, Score: 0.016800\n",
      "11. emailinvoice, Score: 0.015958\n",
      "12. avg_wc_description, Score: 0.015774\n",
      "13. createexpense, Score: 0.015403\n",
      "14. updateclient, Score: 0.014678\n",
      "15. invoice_count, Score: 0.014004\n",
      "16. client_count, Score: 0.013899\n",
      "17. updateservice, Score: 0.013565\n",
      "18. avg_wc_terms, Score: 0.013499\n",
      "19. createestimate, Score: 0.011827\n",
      "20. avg_wc_notes, Score: 0.011478\n",
      "21. enablepaymentgateway, Score: 0.011269\n",
      "22. updateitem, Score: 0.010766\n",
      "23. fbpayenabled, Score: 0.009944\n",
      "24. createbanktransaction, Score: 0.009393\n",
      "25. declinedonlinepaymentnotification, Score: 0.009280\n",
      "26. updateestimate, Score: 0.009131\n",
      "27. deleteinvoice, Score: 0.008741\n",
      "28. updateexpense, Score: 0.008238\n",
      "29. login, Score: 0.007698\n",
      "30. creditcardclientaccessgranted, Score: 0.007166\n",
      "31. customemailsignature, Score: 0.006631\n",
      "32. fbpayupdatedacceptedcreditcards, Score: 0.006344\n",
      "33. emailestimate, Score: 0.006002\n",
      "34. createcontact, Score: 0.005915\n",
      "35. emailsent, Score: 0.005798\n",
      "36. updatecompanyprofile, Score: 0.005420\n",
      "37. updatecategory, Score: 0.005178\n",
      "38. createcategory, Score: 0.005134\n",
      "39. bulkimportclientscomplete, Score: 0.004765\n",
      "40. emailestimatetoself, Score: 0.003415\n",
      "41. clientimportcsvsucceeded, Score: 0.003177\n",
      "42. createcreditnote, Score: 0.003164\n",
      "43. deleteitem, Score: 0.002779\n",
      "44. createotherincome, Score: 0.002537\n",
      "45. deleteexpense, Score: 0.002515\n",
      "46. deleteproject, Score: 0.002206\n",
      "47. disconnectpaymentgateway, Score: 0.001987\n",
      "48. deleteestimate, Score: 0.001807\n",
      "49. deletecreditnote, Score: 0.001676\n",
      "50. dualstripepaypalgatewayexperienceinvoicepopupclick, Score: 0.001392\n",
      "51. hourslogged, Score: 0.001333\n",
      "52. createcontractor, Score: 0.001189\n",
      "53. updatecontractor, Score: 0.001128\n",
      "54. deleteuser, Score: 0.001025\n",
      "55. stripepaymentsuccessful, Score: 0.000920\n",
      "56. activatepayment, Score: 0.000916\n",
      "57. archivetask, Score: 0.000790\n",
      "58. adminonlinepaymentattempt, Score: 0.000617\n",
      "59. enableautobilling, Score: 0.000567\n",
      "60. deletebusinesspartner, Score: 0.000424\n",
      "61. deleteotherincome, Score: 0.000330\n",
      "62. adminpayinvoiceonlinelistview, Score: 0.000324\n",
      "63. adminpayinvoiceonlineinvoice, Score: 0.000322\n",
      "64. deletestaff, Score: 0.000318\n",
      "65. deletehours, Score: 0.000307\n",
      "66. archiveclient, Score: 0.000262\n",
      "67. createdexpense, Score: 0.000249\n",
      "68. emailreport, Score: 0.000248\n",
      "69. archiveexpense, Score: 0.000220\n",
      "70. autobillpayment, Score: 0.000170\n",
      "71. updatecreditnote, Score: 0.000170\n",
      "72. activateexpense, Score: 0.000147\n",
      "73. archiveotherincome, Score: 0.000055\n",
      "74. createbanktransfer, Score: 0.000052\n",
      "75. disconnectbankaccount, Score: 0.000030\n",
      "76. hitpaywallclientlimit, Score: 0.000013\n",
      "77. clientlimitupgradenudge, Score: 0.000002\n",
      "78. admindeactivation, Score: 0.000000\n",
      "79. activateotherincome, Score: 0.000000\n",
      "80. deletecollaborator, Score: 0.000000\n",
      "81. archiveproject, Score: 0.000000\n",
      "82. avg_wc_address, Score: 0.000000\n",
      "83. emailcreditnote, Score: 0.000000\n",
      "84. createreceipt, Score: 0.000000\n",
      "85. expenseimportsucceeded, Score: 0.000000\n"
     ]
    }
   ],
   "source": [
    "# Print the feature ranking\n",
    "print(\"Feature ranking:\")\n",
    "for f in range(X.shape[1]):\n",
    "    print(\"%d. %s, Score: %f\" % (f+1, X.columns[indices[f]], importances[indices[f]]))"
   ]
  },
  {
   "cell_type": "markdown",
   "metadata": {
    "pycharm": {
     "name": "#%% md\n"
    }
   },
   "source": [
    "### Features Distributions Similarity Measures\n"
   ]
  },
  {
   "cell_type": "code",
   "execution_count": 336,
   "metadata": {
    "pycharm": {
     "name": "#%%\n"
    }
   },
   "outputs": [],
   "source": [
    "######### Day 07 GMM Clusters Distribution Distances #######################################"
   ]
  },
  {
   "cell_type": "code",
   "execution_count": 337,
   "metadata": {
    "pycharm": {
     "name": "#%%\n"
    }
   },
   "outputs": [],
   "source": [
    "## Day 07: Fraud accounts activity day\n",
    "columns1 = ['admin_email', 'days_on_platform', 'effective_date', 'is_sales_managed', 'signup_date', 'systemid']\n",
    "df_fraud_accounts_activity_day_07.drop(columns1, inplace=True, axis=1)"
   ]
  },
  {
   "cell_type": "code",
   "execution_count": 338,
   "metadata": {
    "pycharm": {
     "name": "#%%\n"
    }
   },
   "outputs": [],
   "source": [
    "df_fra_day_07_avg = pd.DataFrame(df_fraud_accounts_activity_day_07.mean())"
   ]
  },
  {
   "cell_type": "code",
   "execution_count": 339,
   "metadata": {
    "pycharm": {
     "name": "#%%\n"
    }
   },
   "outputs": [],
   "source": [
    "## Import GMM (Day 07) clustering outputs\n",
    "df_gmm_day_07 =\\\n",
    "    pd.read_csv(\"/Users/dwahid/Documents/GitHub/fraud_detection/data/analyzing_fraud_accounts/gmm_clustering_outputs_day_07_k7.tsv\", sep=\"\\t\")"
   ]
  },
  {
   "cell_type": "code",
   "execution_count": 340,
   "metadata": {
    "pycharm": {
     "name": "#%%\n"
    }
   },
   "outputs": [],
   "source": [
    "## Separating 'systemid' according to 'cluster_id'\n",
    "df_c0 = df_gmm_day_07[df_gmm_day_07.cluster_id == 0]\n",
    "df_c1 = df_gmm_day_07[df_gmm_day_07.cluster_id == 1]\n",
    "df_c2 = df_gmm_day_07[df_gmm_day_07.cluster_id == 2]\n",
    "df_c3 = df_gmm_day_07[df_gmm_day_07.cluster_id == 3]\n",
    "df_c4 = df_gmm_day_07[df_gmm_day_07.cluster_id == 4]\n",
    "df_c5 = df_gmm_day_07[df_gmm_day_07.cluster_id == 5]\n",
    "df_c6 = df_gmm_day_07[df_gmm_day_07.cluster_id == 6]"
   ]
  },
  {
   "cell_type": "code",
   "execution_count": 341,
   "metadata": {
    "pycharm": {
     "name": "#%%\n"
    }
   },
   "outputs": [],
   "source": [
    "## Droping non-numeric features\n",
    "columns2 = ['systemid', 'cluster_id']\n",
    "df_c0.drop(columns2, inplace=True, axis=1)\n",
    "df_c1.drop(columns2, inplace=True, axis=1)\n",
    "df_c2.drop(columns2, inplace=True, axis=1)\n",
    "df_c3.drop(columns2, inplace=True, axis=1)\n",
    "df_c4.drop(columns2, inplace=True, axis=1)\n",
    "df_c5.drop(columns2, inplace=True, axis=1)\n",
    "df_c6.drop(columns2, inplace=True, axis=1)"
   ]
  },
  {
   "cell_type": "code",
   "execution_count": 342,
   "metadata": {
    "pycharm": {
     "name": "#%%\n"
    }
   },
   "outputs": [],
   "source": [
    "## Calculating \n",
    "df_c0_day_07_avg = pd.DataFrame(df_c0.mean())\n",
    "df_c1_day_07_avg = pd.DataFrame(df_c1.mean())\n",
    "df_c2_day_07_avg = pd.DataFrame(df_c2.mean())\n",
    "df_c3_day_07_avg = pd.DataFrame(df_c3.mean())\n",
    "df_c4_day_07_avg = pd.DataFrame(df_c4.mean())\n",
    "df_c5_day_07_avg = pd.DataFrame(df_c5.mean())\n",
    "df_c6_day_07_avg = pd.DataFrame(df_c6.mean())"
   ]
  },
  {
   "cell_type": "code",
   "execution_count": 343,
   "metadata": {
    "pycharm": {
     "name": "#%%\n"
    }
   },
   "outputs": [],
   "source": [
    "## Calculating distance between two distribution\n",
    "from scipy.spatial import distance\n",
    "d0 = distance.minkowski(df_fra_day_07_avg, df_c0_day_07_avg)\n",
    "d1 = distance.minkowski(df_fra_day_07_avg, df_c1_day_07_avg)\n",
    "d2 = distance.minkowski(df_fra_day_07_avg, df_c2_day_07_avg)\n",
    "d3 = distance.minkowski(df_fra_day_07_avg, df_c3_day_07_avg)\n",
    "d4 = distance.minkowski(df_fra_day_07_avg, df_c4_day_07_avg)\n",
    "d5 = distance.minkowski(df_fra_day_07_avg, df_c5_day_07_avg)\n",
    "d6 = distance.minkowski(df_fra_day_07_avg, df_c6_day_07_avg)"
   ]
  },
  {
   "cell_type": "code",
   "execution_count": 344,
   "metadata": {
    "pycharm": {
     "name": "#%%\n"
    }
   },
   "outputs": [
    {
     "data": {
      "text/html": [
       "<div>\n",
       "<style scoped>\n",
       "    .dataframe tbody tr th:only-of-type {\n",
       "        vertical-align: middle;\n",
       "    }\n",
       "\n",
       "    .dataframe tbody tr th {\n",
       "        vertical-align: top;\n",
       "    }\n",
       "\n",
       "    .dataframe thead th {\n",
       "        text-align: right;\n",
       "    }\n",
       "</style>\n",
       "<table border=\"1\" class=\"dataframe\">\n",
       "  <thead>\n",
       "    <tr style=\"text-align: right;\">\n",
       "      <th></th>\n",
       "      <th>cluster_id</th>\n",
       "      <th>W01</th>\n",
       "    </tr>\n",
       "  </thead>\n",
       "  <tbody>\n",
       "    <tr>\n",
       "      <th>0</th>\n",
       "      <td>cluster 00</td>\n",
       "      <td>90.853991</td>\n",
       "    </tr>\n",
       "    <tr>\n",
       "      <th>1</th>\n",
       "      <td>cluster 01</td>\n",
       "      <td>144.671779</td>\n",
       "    </tr>\n",
       "    <tr>\n",
       "      <th>2</th>\n",
       "      <td>cluster 02</td>\n",
       "      <td>90.244348</td>\n",
       "    </tr>\n",
       "    <tr>\n",
       "      <th>3</th>\n",
       "      <td>cluster 03</td>\n",
       "      <td>177.049458</td>\n",
       "    </tr>\n",
       "    <tr>\n",
       "      <th>4</th>\n",
       "      <td>cluster 04</td>\n",
       "      <td>84.680784</td>\n",
       "    </tr>\n",
       "    <tr>\n",
       "      <th>5</th>\n",
       "      <td>cluster 05</td>\n",
       "      <td>183.078144</td>\n",
       "    </tr>\n",
       "    <tr>\n",
       "      <th>6</th>\n",
       "      <td>cluster 06</td>\n",
       "      <td>83.970370</td>\n",
       "    </tr>\n",
       "  </tbody>\n",
       "</table>\n",
       "</div>"
      ],
      "text/plain": [
       "   cluster_id         W01\n",
       "0  cluster 00   90.853991\n",
       "1  cluster 01  144.671779\n",
       "2  cluster 02   90.244348\n",
       "3  cluster 03  177.049458\n",
       "4  cluster 04   84.680784\n",
       "5  cluster 05  183.078144\n",
       "6  cluster 06   83.970370"
      ]
     },
     "execution_count": 344,
     "metadata": {},
     "output_type": "execute_result"
    }
   ],
   "source": [
    "# Store and print cluster sizes \n",
    "cls_dist  = {'cluster_id': ['cluster 00', \n",
    "                            'cluster 01', \n",
    "                            'cluster 02', \n",
    "                            'cluster 03', \n",
    "                            'cluster 04', \n",
    "                            'cluster 05', \n",
    "                            'cluster 06'], \n",
    "             'W01' : [d0, d1, d2, d3, d4, d5, d6]}\n",
    "df_cls_dist = pd.DataFrame(cls_dist, columns =['cluster_id', 'W01'])\n",
    "df_cls_dist"
   ]
  },
  {
   "cell_type": "markdown",
   "metadata": {
    "pycharm": {
     "name": "#%% md\n"
    }
   },
   "source": [
    "### Fraud Account: Mutual Features' Dependency Plot:- 'invoice_count' vs. 'client_count'"
   ]
  },
  {
   "cell_type": "code",
   "execution_count": null,
   "metadata": {
    "pycharm": {
     "name": "#%%\n"
    }
   },
   "outputs": [],
   "source": []
  },
  {
   "cell_type": "code",
   "execution_count": 345,
   "metadata": {
    "pycharm": {
     "name": "#%%\n"
    }
   },
   "outputs": [
    {
     "data": {
      "image/png": "[encoded data removed]",
      "text/plain": [
       "<Figure size 432x288 with 1 Axes>"
      ]
     },
     "metadata": {},
     "output_type": "display_data"
    }
   ],
   "source": [
    "## 'declinedonlinepaymentnotification' vs. 'surveyquestionanswered'\n",
    "feature_x = 'invoice_count_day_7'\n",
    "feature_y = 'client_count_day_7'\n",
    "\n",
    "## Features data\n",
    "x1 = df_fraud_accounts_activity_day_07[feature_x]\n",
    "y1 = df_fraud_accounts_activity_day_07[feature_y]\n",
    "\n",
    "# Train Algorithm (Polynomial)\n",
    "degree = 3\n",
    "poly_fit = np.poly1d(np.polyfit(x1, y1, degree))\n",
    "\n",
    "# Polynomial fit plot data\n",
    "xx = np.linspace(min(x1), max(x1), 10000)\n",
    "plt.plot(xx, poly_fit(xx), c='r',linestyle='-')\n",
    "\n",
    "## Features mutual scatter plots\n",
    "plt.scatter(x1, y1, edgecolors=(0, 0, 0))\n",
    "plt.title('Features mutual dependency plot')\n",
    "plt.xlabel('invoice_count')\n",
    "plt.ylabel(feature_y)\n",
    "\n",
    "plt.show()"
   ]
  },
  {
   "cell_type": "code",
   "execution_count": 346,
   "metadata": {
    "pycharm": {
     "name": "#%%\n"
    }
   },
   "outputs": [],
   "source": [
    "## Identify the outliers index\n",
    "# for i in range(0,333):\n",
    "#     print(i, x1[i], y1[i])"
   ]
  },
  {
   "cell_type": "code",
   "execution_count": 347,
   "metadata": {
    "pycharm": {
     "name": "#%%\n"
    }
   },
   "outputs": [],
   "source": [
    "x2 = []\n",
    "y2 = []\n",
    "\n",
    "for i in range(0, 332):\n",
    "    if i == 19:\n",
    "        continue\n",
    "    elif i == 207:\n",
    "        continue\n",
    "    elif i == 243:\n",
    "        continue\n",
    "    else:\n",
    "        x2.append(x1[i])\n",
    "        y2.append(y1[i])\n",
    "            "
   ]
  },
  {
   "cell_type": "code",
   "execution_count": 348,
   "metadata": {
    "pycharm": {
     "name": "#%%\n"
    }
   },
   "outputs": [],
   "source": [
    "## Check the removing of the outliers\n",
    "# for i in range(0,len(x2)-1):\n",
    "#     print(i, x2[i], y2[i])"
   ]
  },
  {
   "cell_type": "code",
   "execution_count": 349,
   "metadata": {
    "pycharm": {
     "name": "#%%\n"
    }
   },
   "outputs": [
    {
     "data": {
      "image/png": "[encoded data removed]",
      "text/plain": [
       "<Figure size 432x288 with 1 Axes>"
      ]
     },
     "metadata": {},
     "output_type": "display_data"
    }
   ],
   "source": [
    "# Train Algorithm (Polynomial)\n",
    "degree = 2\n",
    "poly_fit = np.poly1d(np.polyfit(x2, y2, degree))\n",
    "\n",
    "# Polynomial fit plot data\n",
    "xx = np.linspace(min(x2), max(x2), 10000)\n",
    "# plt.plot(xx, poly_fit(xx), c='r',linestyle='-')\n",
    "\n",
    "## Features mutual scatter plots\n",
    "plt.scatter(x2, y2, edgecolors=(0, 0, 0))\n",
    "plt.title('Indentifie Fraud: Mutual features\\' dependency plot')\n",
    "plt.xlabel('invoice_count')\n",
    "plt.ylabel('client_count')\n",
    "\n",
    "plt.show()"
   ]
  },
  {
   "cell_type": "markdown",
   "metadata": {
    "pycharm": {
     "name": "#%% md\n"
    }
   },
   "source": [
    "### Fraud Account: Mutual Features' Dependency Plot: 'invoice_count' vs. 'emailinvoice'"
   ]
  },
  {
   "cell_type": "code",
   "execution_count": 350,
   "metadata": {
    "pycharm": {
     "name": "#%%\n"
    }
   },
   "outputs": [
    {
     "data": {
      "image/png": "[encoded data removed]",
      "text/plain": [
       "<Figure size 432x288 with 1 Axes>"
      ]
     },
     "metadata": {},
     "output_type": "display_data"
    }
   ],
   "source": [
    "## 'declinedonlinepaymentnotification' vs. 'emailsent'\n",
    "feature_x = 'invoice_count_day_7'\n",
    "feature_y = 'emailsent'\n",
    "\n",
    "## Features data\n",
    "x1 = df_fraud_accounts_activity_day_07[feature_x]\n",
    "y1 = df_fraud_accounts_activity_day_07[feature_y]\n",
    "\n",
    "# Train Algorithm (Polynomial)\n",
    "degree = 3\n",
    "poly_fit = np.poly1d(np.polyfit(x1, y1, degree))\n",
    "\n",
    "# Polynomial fit plot data\n",
    "xx = np.linspace(min(x1), max(x1), 10000)\n",
    "plt.plot(xx, poly_fit(xx), c='r',linestyle='-')\n",
    "\n",
    "## Features mutual scatter plots\n",
    "plt.scatter(x1, y1, edgecolors=(0, 0, 0))\n",
    "plt.title('Mutual features\\' dependency plot')\n",
    "plt.xlabel('invoice_count')\n",
    "plt.ylabel(feature_y)\n",
    "\n",
    "plt.show()"
   ]
  },
  {
   "cell_type": "code",
   "execution_count": 351,
   "metadata": {
    "pycharm": {
     "name": "#%%\n"
    }
   },
   "outputs": [],
   "source": [
    "## Identify the outliers index\n",
    "# for i in range(0,333):\n",
    "#     print(i, x1[i], y1[i])"
   ]
  },
  {
   "cell_type": "code",
   "execution_count": 352,
   "metadata": {
    "pycharm": {
     "name": "#%%\n"
    }
   },
   "outputs": [],
   "source": [
    "## Removing the outliers\n",
    "x2 = []\n",
    "y2 = []\n",
    "\n",
    "out = [2, 7, 19, 26, 51, 56, 57, 89, 185, 193, \n",
    "       203, 207, 212, 225, 228, 237, 242, 243, 247, \n",
    "       248, 258, 262, 275, 310]\n",
    "for i in range(0, 332):\n",
    "    if i in out:\n",
    "        continue\n",
    "    else:\n",
    "        x2.append(x1[i])\n",
    "        y2.append(y1[i])\n"
   ]
  },
  {
   "cell_type": "code",
   "execution_count": 353,
   "metadata": {
    "pycharm": {
     "name": "#%%\n"
    }
   },
   "outputs": [
    {
     "data": {
      "image/png": "[encoded data removed]",
      "text/plain": [
       "<Figure size 432x288 with 1 Axes>"
      ]
     },
     "metadata": {},
     "output_type": "display_data"
    }
   ],
   "source": [
    "## Plot after removing outliers\n",
    "# Train Algorithm (Polynomial)\n",
    "degree = 2\n",
    "poly_fit = np.poly1d(np.polyfit(x2, y2, degree))\n",
    "\n",
    "# Polynomial fit plot data\n",
    "xx = np.linspace(min(x2), max(x2), 10000)\n",
    "# plt.plot(xx, poly_fit(xx), c='r',linestyle='-')\n",
    "\n",
    "## Features mutual scatter plots\n",
    "plt.scatter(x2, y2, edgecolors=(0, 0, 0))\n",
    "plt.title('Identified Fraud: Mutual features\\' dependency plot')\n",
    "plt.xlabel('invoice_count')\n",
    "plt.ylabel(feature_y)\n",
    "\n",
    "plt.show()"
   ]
  },
  {
   "cell_type": "markdown",
   "metadata": {
    "pycharm": {
     "name": "#%% md\n"
    }
   },
   "source": [
    "### Non Fraud Account: Mutual Features' Dependency Plot - 'invoice_count' vs. 'emailsent'"
   ]
  },
  {
   "cell_type": "code",
   "execution_count": 361,
   "metadata": {
    "pycharm": {
     "name": "#%%\n"
    }
   },
   "outputs": [
    {
     "data": {
      "image/png": "[encoded data removed]",
      "text/plain": [
       "<Figure size 432x288 with 1 Axes>"
      ]
     },
     "metadata": {},
     "output_type": "display_data"
    }
   ],
   "source": [
    "## 'declinedonlinepaymentnotification' vs. 'emailsent'\n",
    "feature_x = 'invoice_count_day_7'\n",
    "feature_y = 'emailsent'\n",
    "\n",
    "## Features data\n",
    "x1 = df_non_fraud_accounts_activity_day_07[feature_x]\n",
    "y1 = df_non_fraud_accounts_activity_day_07[feature_y]\n",
    "\n",
    "# Train Algorithm (Polynomial)\n",
    "degree = 3\n",
    "poly_fit = np.poly1d(np.polyfit(x1, y1, degree))\n",
    "\n",
    "# Polynomial fit plot data\n",
    "xx = np.linspace(min(x1), max(x1), 10000)\n",
    "plt.plot(xx, poly_fit(xx), c='r',linestyle='-')\n",
    "\n",
    "## Features mutual scatter plots\n",
    "plt.scatter(x1, y1, edgecolors=(0, 0, 0))\n",
    "plt.title('Identified Non-Fraud Accounts: Mutual features\\' dependency plot')\n",
    "plt.xlabel('invoice_count')\n",
    "plt.ylabel(feature_y)\n",
    "\n",
    "plt.show()"
   ]
  },
  {
   "cell_type": "code",
   "execution_count": 355,
   "metadata": {
    "pycharm": {
     "name": "#%%\n"
    }
   },
   "outputs": [],
   "source": [
    "## Identify the outliers index\n",
    "# for i in range(0,len(x1)-1):\n",
    "#     print(i, x1[i], y1[i])"
   ]
  },
  {
   "cell_type": "code",
   "execution_count": 362,
   "metadata": {
    "pycharm": {
     "name": "#%%\n"
    }
   },
   "outputs": [],
   "source": [
    "## Removing the outliers\n",
    "x2 = []\n",
    "y2 = []\n",
    "\n",
    "out = [127, 173,2, 173, 201, 228, 267]\n",
    "for i in range(0, len(x1)):\n",
    "    if i in out:\n",
    "        continue\n",
    "    else:\n",
    "        x2.append(x1[i])\n",
    "        y2.append(y1[i])\n"
   ]
  },
  {
   "cell_type": "code",
   "execution_count": 363,
   "metadata": {
    "pycharm": {
     "name": "#%%\n"
    }
   },
   "outputs": [
    {
     "data": {
      "image/png": "[encoded data removed]",
      "text/plain": [
       "<Figure size 432x288 with 1 Axes>"
      ]
     },
     "metadata": {},
     "output_type": "display_data"
    }
   ],
   "source": [
    "## Plot after removing outliers\n",
    "# Train Algorithm (Polynomial)\n",
    "degree = 2\n",
    "poly_fit = np.poly1d(np.polyfit(x2, y2, degree))\n",
    "\n",
    "# Polynomial fit plot data\n",
    "xx = np.linspace(min(x2), max(x2), 10000)\n",
    "# plt.plot(xx, poly_fit(xx), c='r',linestyle='-')\n",
    "\n",
    "## Features mutual scatter plots\n",
    "plt.scatter(x2, y2, edgecolors=(0, 0, 0))\n",
    "plt.title('Identified Non-Fraud: Mutual features\\' dependency plot')\n",
    "plt.xlabel('invoice_count')\n",
    "plt.ylabel(feature_y)\n",
    "\n",
    "plt.show()"
   ]
  },
  {
   "cell_type": "markdown",
   "metadata": {
    "pycharm": {
     "name": "#%% md\n"
    }
   },
   "source": [
    "### Non Fraud Account: Mutual Dependency Plot - 'invoice_count' vs. 'client_count'"
   ]
  },
  {
   "cell_type": "code",
   "execution_count": 364,
   "metadata": {
    "pycharm": {
     "name": "#%%\n"
    }
   },
   "outputs": [
    {
     "data": {
      "image/png": "[encoded data removed]",
      "text/plain": [
       "<Figure size 432x288 with 1 Axes>"
      ]
     },
     "metadata": {},
     "output_type": "display_data"
    }
   ],
   "source": [
    "## 'declinedonlinepaymentnotification' vs. 'emailsent'\n",
    "feature_x = 'invoice_count_day_7'\n",
    "feature_y = 'client_count_day_7'\n",
    "\n",
    "## Features data\n",
    "x1 = df_non_fraud_accounts_activity_day_07[feature_x]\n",
    "y1 = df_non_fraud_accounts_activity_day_07[feature_y]\n",
    "\n",
    "# Train Algorithm (Polynomial)\n",
    "degree = 3\n",
    "poly_fit = np.poly1d(np.polyfit(x1, y1, degree))\n",
    "\n",
    "# Polynomial fit plot data\n",
    "xx = np.linspace(min(x1), max(x1), 10000)\n",
    "plt.plot(xx, poly_fit(xx), c='r',linestyle='-')\n",
    "\n",
    "## Features mutual scatter plots\n",
    "plt.scatter(x1, y1, edgecolors=(0, 0, 0))\n",
    "plt.title('Identified Non-Fraud Accounts: Mutual features\\' dependency plot')\n",
    "plt.xlabel('invoice_count')\n",
    "plt.ylabel(feature_y)\n",
    "\n",
    "plt.show()"
   ]
  },
  {
   "cell_type": "code",
   "execution_count": 371,
   "metadata": {
    "pycharm": {
     "name": "#%%\n"
    }
   },
   "outputs": [],
   "source": [
    "## Identify the outliers index\n",
    "# for i in range(0,len(x1)-1):\n",
    "#     print(i, x1[i], y1[i])"
   ]
  },
  {
   "cell_type": "code",
   "execution_count": null,
   "metadata": {
    "pycharm": {
     "name": "#%%\n"
    }
   },
   "outputs": [],
   "source": []
  },
  {
   "cell_type": "code",
   "execution_count": 369,
   "metadata": {
    "pycharm": {
     "name": "#%%\n"
    }
   },
   "outputs": [],
   "source": [
    "## Removing the outliers\n",
    "x2 = []\n",
    "y2 = []\n",
    "\n",
    "out = [21, 32, 91, 149, 155, 170, 184, 201, 228, 234, 264, 267, 285]\n",
    "for i in range(0, len(x1)):\n",
    "    if i in out:\n",
    "        continue\n",
    "    else:\n",
    "        x2.append(x1[i])\n",
    "        y2.append(y1[i])\n"
   ]
  },
  {
   "cell_type": "code",
   "execution_count": 370,
   "metadata": {
    "pycharm": {
     "name": "#%%\n"
    }
   },
   "outputs": [
    {
     "data": {
      "image/png": "[encoded data removed]",
      "text/plain": [
       "<Figure size 432x288 with 1 Axes>"
      ]
     },
     "metadata": {},
     "output_type": "display_data"
    }
   ],
   "source": [
    "## Plot after removing outliers\n",
    "# Train Algorithm (Polynomial)\n",
    "degree = 2\n",
    "poly_fit = np.poly1d(np.polyfit(x2, y2, degree))\n",
    "\n",
    "# Polynomial fit plot data\n",
    "xx = np.linspace(min(x2), max(x2), 10000)\n",
    "# plt.plot(xx, poly_fit(xx), c='r',linestyle='-')\n",
    "\n",
    "## Features mutual scatter plots\n",
    "plt.scatter(x2, y2, edgecolors=(0, 0, 0))\n",
    "plt.title('Identified Non-Fraud: Mutual features\\' dependency plot')\n",
    "plt.xlabel('invoice_count')\n",
    "plt.ylabel('client_count')\n",
    "\n",
    "plt.show()"
   ]
  },
  {
   "cell_type": "markdown",
   "metadata": {
    "pycharm": {
     "name": "#%% md\n"
    }
   },
   "source": [
    "### All Accounts: Mutual Features' Dependency Plot"
   ]
  },
  {
   "cell_type": "code",
   "execution_count": 375,
   "metadata": {
    "pycharm": {
     "name": "#%%\n"
    }
   },
   "outputs": [
    {
     "data": {
      "image/png": "[encoded data removed]",
      "text/plain": [
       "<Figure size 432x288 with 1 Axes>"
      ]
     },
     "metadata": {},
     "output_type": "display_data"
    }
   ],
   "source": [
    "## 'declinedonlinepaymentnotification' vs. 'emailsent'\n",
    "feature_x = 'invoice_count_day_7'\n",
    "feature_y = 'client_count_day_7'\n",
    "\n",
    "## Features data\n",
    "x3 = df_all_accounts_day_07[feature_x]\n",
    "y3 = df_all_accounts_day_07[feature_y]\n",
    "\n",
    "## Features mutual scatter plots\n",
    "plt.scatter(x3, y3, edgecolors=(0, 0, 0))\n",
    "plt.title('All Accounts: Mutual features\\' dependency plot')\n",
    "plt.xlabel('invoice_count')\n",
    "plt.ylabel(feature_y)\n",
    "\n",
    "plt.show()"
   ]
  },
  {
   "cell_type": "code",
   "execution_count": 377,
   "metadata": {
    "pycharm": {
     "name": "#%%\n"
    }
   },
   "outputs": [],
   "source": [
    "## Removing outliers\n",
    "x4 = []\n",
    "y4 = []\n",
    "\n",
    "x_cut = 1000\n",
    "y_cut = 5000\n",
    "\n",
    "for i in range(0, len(x3)-1):\n",
    "    if x3[i] < x_cut and y3[i] < y_cut :\n",
    "        x4.append(x3[i])\n",
    "        y4.append(y3[i])\n",
    "    else:\n",
    "        continue"
   ]
  },
  {
   "cell_type": "code",
   "execution_count": 378,
   "metadata": {
    "pycharm": {
     "name": "#%%\n"
    }
   },
   "outputs": [
    {
     "data": {
      "image/png": "[encoded data removed]",
      "text/plain": [
       "<Figure size 432x288 with 1 Axes>"
      ]
     },
     "metadata": {},
     "output_type": "display_data"
    }
   ],
   "source": [
    "\n",
    "## Features mutual scatter plots\n",
    "plt.scatter(x4, y4, edgecolors=(0, 0, 0))\n",
    "plt.title('All Accounts: Mutual features\\' dependency plot')\n",
    "plt.xlabel('invoice_count')\n",
    "plt.ylabel('client_count')\n",
    "\n",
    "plt.show()"
   ]
  },
  {
   "cell_type": "code",
   "execution_count": null,
   "metadata": {
    "pycharm": {
     "name": "#%%\n"
    }
   },
   "outputs": [],
   "source": []
  },
  {
   "cell_type": "code",
   "execution_count": 379,
   "metadata": {
    "pycharm": {
     "name": "#%%\n"
    }
   },
   "outputs": [
    {
     "data": {
      "image/png": "[encoded data removed]",
      "text/plain": [
       "<Figure size 432x288 with 1 Axes>"
      ]
     },
     "metadata": {},
     "output_type": "display_data"
    }
   ],
   "source": [
    "## 'declinedonlinepaymentnotification' vs. 'emailsent'\n",
    "feature_x = 'invoice_count_day_7'\n",
    "feature_y = 'emailsent'\n",
    "\n",
    "## Features data\n",
    "x3 = df_all_accounts_day_07[feature_x]\n",
    "y3 = df_all_accounts_day_07[feature_y]\n",
    "\n",
    "## Features mutual scatter plots\n",
    "plt.scatter(x3, y3, edgecolors=(0, 0, 0))\n",
    "plt.title('All Accounts: Mutual features\\' dependency plot')\n",
    "plt.xlabel('invoice_count')\n",
    "plt.ylabel(feature_y)\n",
    "\n",
    "plt.show()"
   ]
  },
  {
   "cell_type": "code",
   "execution_count": 380,
   "metadata": {
    "pycharm": {
     "name": "#%%\n"
    }
   },
   "outputs": [],
   "source": [
    "## Removing outliers\n",
    "x4 = []\n",
    "y4 = []\n",
    "\n",
    "x_cut = 1000\n",
    "y_cut = 500\n",
    "\n",
    "for i in range(0, len(x3)-1):\n",
    "    if x3[i] < x_cut and y3[i] < y_cut :\n",
    "        x4.append(x3[i])\n",
    "        y4.append(y3[i])\n",
    "    else:\n",
    "        continue"
   ]
  },
  {
   "cell_type": "code",
   "execution_count": 381,
   "metadata": {
    "pycharm": {
     "name": "#%%\n"
    }
   },
   "outputs": [
    {
     "data": {
      "image/png": "[encoded data removed]",
      "text/plain": [
       "<Figure size 432x288 with 1 Axes>"
      ]
     },
     "metadata": {},
     "output_type": "display_data"
    }
   ],
   "source": [
    "\n",
    "## Features mutual scatter plots\n",
    "plt.scatter(x4, y4, edgecolors=(0, 0, 0))\n",
    "plt.title('All Accounts: Mutual features\\' dependency plot')\n",
    "plt.xlabel('invoice_count')\n",
    "plt.ylabel(feature_y)\n",
    "\n",
    "plt.show()"
   ]
  },
  {
   "cell_type": "markdown",
   "metadata": {
    "pycharm": {
     "name": "#%% md\n"
    }
   },
   "source": [
    "### Client distribution of the fraud accounts"
   ]
  },
  {
   "cell_type": "code",
   "execution_count": null,
   "metadata": {
    "pycharm": {
     "name": "#%%\n"
    }
   },
   "outputs": [],
   "source": [
    "# Histogram for client number distribution with outliers cutoff \n",
    "n_bins = 10\n",
    "outliers_cutoff = 1000\n",
    "\n",
    "histo_client_fraud_account = sorted(df_fraud_accounts_activity_v2['client_count'])\n",
    "histo_client_fraud_account_leOutlier = [i for i in histo_client_fraud_account if i < outliers_cutoff]\n",
    "histo_client_fraud_account_geOutlier = [i for i in histo_client_fraud_account if i > outliers_cutoff]\n",
    "histo_client_fraud_account = [histo_client_fraud_account_leOutlier, histo_client_fraud_account_geOutlier ] \n",
    "\n",
    "\n",
    "fig, axes = plt.subplots(ncols=2, figsize=(15,5))\n",
    "ax0, ax1 = axes.flatten()\n",
    "\n",
    "ax0.hist(histo_client_fraud_account_leOutlier, n_bins, density=False, histtype='bar')\n",
    "ax0.set_xlabel('client_count')\n",
    "ax0.set_ylabel('accounts_frequency')\n",
    "ax0.set_title('Client distribution of the fraud accounts (less than ' + str(outliers_cutoff) + ')')\n",
    "\n",
    "ax1.hist(histo_client_fraud_account_geOutlier, n_bins, density=False, histtype='bar')   \n",
    "ax1.set_xlabel('client_count')\n",
    "ax1.set_ylabel('accounts_frequency')\n",
    "ax1.set_title('Client distribution of the fraud accounts (greater than ' + str(outliers_cutoff) + ')')"
   ]
  },
  {
   "cell_type": "markdown",
   "metadata": {
    "pycharm": {
     "name": "#%% md\n"
    }
   },
   "source": [
    "### Client count over different time periods"
   ]
  },
  {
   "cell_type": "code",
   "execution_count": null,
   "metadata": {
    "pycharm": {
     "name": "#%%\n"
    }
   },
   "outputs": [],
   "source": [
    "df = df_fraud_accounts_activity_v2[['client_count_day_7',\n",
    "                                 'client_count_day_15',\n",
    "                                 'client_count_day_30',\n",
    "                                 'client_count_day_45',\n",
    "                                 'client_count_day_60',\n",
    "                                 'client_count_day_75',\n",
    "                                 'client_count_day_90',\n",
    "                                 'client_count_month_6',\n",
    "                                 'client_count_year_1',\n",
    "                                 'client_count_year_2',\n",
    "                                 'client_count_year_3',\n",
    "                                 'client_count_year_4',\n",
    "                                 'client_count_year_5',\n",
    "                                 'client_count_year_6',\n",
    "                                 'client_count_year_7',\n",
    "                                 'client_count_year_8',\n",
    "                                 'client_count_year_9',\n",
    "                                 'client_count_year_10'\n",
    "                                ]].dropna().astype(int)"
   ]
  },
  {
   "cell_type": "code",
   "execution_count": null,
   "metadata": {
    "pycharm": {
     "name": "#%%\n"
    }
   },
   "outputs": [],
   "source": [
    "# Pair-to-pair cross-validation plot\n",
    "fig, axes = plt.subplots(nrows=3, ncols=2, figsize=(15,10))\n",
    "ax0, ax1, ax2, ax3, ax4, ax5 = axes.flatten()\n",
    "\n",
    "#------------------------------------------------------\n",
    "x0 = df['client_count_day_7']\n",
    "y0 = df['client_count_day_15']\n",
    "\n",
    "ax0.scatter(x0, y0, edgecolors=(0, 0, 0))\n",
    "ax0.plot([y0.min(), y0.max()], [y0.min(), y0.max()], 'k--', lw=2)\n",
    "ax0.set_xlabel('client_count_day_7')\n",
    "ax0.set_ylabel('client_count_day_15')\n",
    "\n",
    "#------------------------------------------------------\n",
    "x1 = df['client_count_day_15']\n",
    "y1 = df['client_count_day_30']\n",
    "\n",
    "ax1.scatter(x1, y1, edgecolors=(0, 0, 0))\n",
    "ax1.plot([y1.min(), y1.max()], [y1.min(), y1.max()], 'k--', lw=2)\n",
    "ax1.set_xlabel('client_count_day_15')\n",
    "ax1.set_ylabel('client_count_day_30')\n",
    "\n",
    "#------------------------------------------------------\n",
    "x2 = df['client_count_day_30']\n",
    "y2 = df['client_count_day_45']\n",
    "\n",
    "ax2.scatter(x2, y2, edgecolors=(0, 0, 0))\n",
    "ax2.plot([y2.min(), y2.max()], [y2.min(), y2.max()], 'k--', lw=2)\n",
    "ax2.set_xlabel('client_count_day_30')\n",
    "ax2.set_ylabel('client_count_day_45')\n",
    "\n",
    "\n",
    "#------------------------------------------------------\n",
    "x3 = df['client_count_day_45']\n",
    "y3 = df['client_count_day_60']\n",
    "\n",
    "ax3.scatter(x3, y3, edgecolors=(0, 0, 0))\n",
    "ax3.plot([y3.min(), y3.max()], [y3.min(), y3.max()], 'k--', lw=2)\n",
    "ax3.set_xlabel('client_count_day_45')\n",
    "ax3.set_ylabel('client_count_day_60')\n",
    "\n",
    "#------------------------------------------------------\n",
    "x4 = df['client_count_day_60']\n",
    "y4 = df['client_count_day_75']\n",
    "\n",
    "ax4.scatter(x4, y4, edgecolors=(0, 0, 0))\n",
    "ax4.plot([y4.min(), y4.max()], [y4.min(), y4.max()], 'k--', lw=2)\n",
    "ax4.set_xlabel('client_count_day_60')\n",
    "ax4.set_ylabel('client_count_day_75')\n",
    "\n",
    "\n",
    "#------------------------------------------------------\n",
    "x5 = df['client_count_day_75']\n",
    "y5 = df['client_count_day_90']\n",
    "\n",
    "ax5.scatter(x5, y5, edgecolors=(0, 0, 0))\n",
    "ax5.plot([y5.min(), y5.max()], [y5.min(), y5.max()], 'k--', lw=2)\n",
    "ax5.set_xlabel('client_count_day_75')\n",
    "ax5.set_ylabel('client_count_day_90')\n",
    "\n",
    "plt.show()"
   ]
  },
  {
   "cell_type": "code",
   "execution_count": null,
   "metadata": {
    "pycharm": {
     "name": "#%%\n"
    }
   },
   "outputs": [],
   "source": [
    "# Aggregrating column values\n",
    "col_count = {'client_count_day_7':[df['client_count_day_7'].sum()],\n",
    "             'client_count_day_15':[df['client_count_day_15'].sum()],\n",
    "             'client_count_day_30':[df['client_count_day_30'].sum()],\n",
    "             'client_count_day_45':[df['client_count_day_45'].sum()],\n",
    "             'client_count_day_60':[df['client_count_day_60'].sum()],\n",
    "             'client_count_day_75':[df['client_count_day_75'].sum()],\n",
    "             'client_count_day_90':[df['client_count_day_90'].sum()],\n",
    "             'client_count_month_6':[df['client_count_month_6'].sum()],\n",
    "             'client_count_year_1':[df['client_count_year_1'].sum()],\n",
    "             'client_count_year_2':[df['client_count_year_2'].sum()],\n",
    "             'client_count_year_3':[df['client_count_year_3'].sum()],\n",
    "             'client_count_year_4':[df['client_count_year_4'].sum()],\n",
    "             'client_count_year_5':[df['client_count_year_5'].sum()],\n",
    "             'client_count_year_6':[df['client_count_year_6'].sum()],\n",
    "             'client_count_year_7':[df['client_count_year_7'].sum()],\n",
    "             'client_count_year_8':[df['client_count_year_8'].sum()],\n",
    "             'client_count_year_9':[df['client_count_year_9'].sum()],\n",
    "             'client_count_year_10':[df['client_count_year_10'].sum()]\n",
    "            }\n",
    "\n",
    "df2 = pd.DataFrame(col_count, columns=[ 'client_count_day_7', 'client_count_day_15', 'client_count_day_30',\n",
    "                                        'client_count_day_45','client_count_day_60', 'client_count_day_75',\n",
    "                                        'client_count_day_90','client_count_month_6','client_count_year_1',\n",
    "                                        'client_count_year_2','client_count_year_3', 'client_count_year_4',\n",
    "                                        'client_count_year_5','client_count_year_6', 'client_count_year_7',\n",
    "                                        'client_count_year_8','client_count_year_9', 'client_count_year_10'\n",
    "                                      ])\n"
   ]
  },
  {
   "cell_type": "code",
   "execution_count": null,
   "metadata": {
    "pycharm": {
     "name": "#%%\n"
    }
   },
   "outputs": [],
   "source": [
    "df2"
   ]
  },
  {
   "cell_type": "code",
   "execution_count": null,
   "metadata": {
    "pycharm": {
     "name": "#%%\n"
    }
   },
   "outputs": [],
   "source": [
    "height = [10473, 16808, 24865, \n",
    "          31068, 36064, 40556, \n",
    "          44526, 62225, 84201,\n",
    "          105868, 109745, 111486,\n",
    "          112152, 112520, 112866, \n",
    "          113054, 113172, 113192]\n",
    "bars = ('day_7',  'day_15', 'day_30', 'day_45',  'day_60', 'day_75', \n",
    "        'day_90', 'month_6',  'year_1',  'year_2',   'year_3',  'year_4',\n",
    "        'year_5',  'year_6',  'year_7',   'year_8',   'year_9',  'year_10'\n",
    "        )\n",
    "x_pos = [1,2,3,4,5,6,7,8,9,10,11,12,13,14,15,17,18,19]\n",
    "y_pos = np.arange(len(bars))\n",
    "\n",
    "# Create legend\n",
    "plt.legend()\n",
    "\n",
    "# Create bars\n",
    "plt.bar(y_pos, height, width=0.9)\n",
    "\n",
    "\n",
    "# Create names on the x-axis\n",
    "plt.xticks(y_pos, bars, rotation=90)\n",
    " \n",
    "# Show graphic\n",
    "plt.xlabel('fraud_accounts_lifespan_period')\n",
    "plt.ylabel('frequency')\n",
    "plt.title('Client count in different time periods of fraud account lifespan')\n",
    "plt.show() "
   ]
  },
  {
   "cell_type": "markdown",
   "metadata": {
    "pycharm": {
     "name": "#%% md\n"
    }
   },
   "source": [
    "#### Client Count of Fraud Accounts: Column Statistics"
   ]
  },
  {
   "cell_type": "code",
   "execution_count": null,
   "metadata": {
    "pycharm": {
     "name": "#%%\n"
    }
   },
   "outputs": [],
   "source": [
    "df_client_count_fraud_account_stat = df.describe()\n",
    "df_client_count_fraud_account_stat"
   ]
  },
  {
   "cell_type": "markdown",
   "metadata": {
    "pycharm": {
     "name": "#%% md\n"
    }
   },
   "source": [
    "### Invoice Count Activities of Fraud Accounts"
   ]
  },
  {
   "cell_type": "code",
   "execution_count": null,
   "metadata": {
    "pycharm": {
     "name": "#%%\n"
    }
   },
   "outputs": [],
   "source": [
    "# Histogram for invoice number distribution\n",
    "n_bins = 10\n",
    "plt.hist(df_fraud_accounts_activity_v2['invoice_count'], n_bins, density=False, histtype='bar')\n",
    "plt.xlabel('invoice_count')\n",
    "plt.ylabel('accounts_frequency')\n",
    "plt.title('Invoicedistribution of the fraud accounts (less than ' + str(outliers_cutoff) + ')')"
   ]
  },
  {
   "cell_type": "code",
   "execution_count": null,
   "metadata": {
    "pycharm": {
     "name": "#%%\n"
    }
   },
   "outputs": [],
   "source": [
    "# Histogram for invoice number distribution with outliers cutoff \n",
    "n_bins = 10\n",
    "outliers_cutoff = 500\n",
    "\n",
    "invoice_count_sorted_fraud_account = sorted(df_fraud_accounts_activity_v2['invoice_count'])\n",
    "invoice_count_sorted_fraud_account_leOutlier = [i for i in invoice_count_sorted_fraud_account if i < outliers_cutoff]\n",
    "invoice_count_sorted_fraud_account_geOutlier = [i for i in invoice_count_sorted_fraud_account if i > outliers_cutoff]\n",
    "#histo_invoice_fraud_account = [histo_invoice_fraud_account_leOutlier, histo_invoice_fraud_account_geOutlier ] \n",
    "\n",
    "\n",
    "fig, axes = plt.subplots(ncols=2, figsize=(15,5))\n",
    "ax0, ax1 = axes.flatten()\n",
    "\n",
    "ax0.hist(invoice_count_sorted_fraud_account_leOutlier, n_bins, density=False, histtype='bar')\n",
    "ax0.set_xlabel('invoice_count')\n",
    "ax0.set_ylabel('accounts_frequency')\n",
    "ax0.set_title('Invoicedistribution of the fraud accounts (less than ' + str(outliers_cutoff) + ')')\n",
    "\n",
    "ax1.hist(invoice_count_sorted_fraud_account_geOutlier, n_bins, density=False, histtype='bar')   \n",
    "ax1.set_xlabel('invoice_count')\n",
    "ax1.set_ylabel('accounts_frequency')\n",
    "ax1.set_title('Invoice distribution of the fraud accounts (greater than ' + str(outliers_cutoff) + ')')\n"
   ]
  },
  {
   "cell_type": "markdown",
   "metadata": {
    "pycharm": {
     "name": "#%% md\n"
    }
   },
   "source": [
    "### Client count over different time periods"
   ]
  },
  {
   "cell_type": "code",
   "execution_count": null,
   "metadata": {
    "pycharm": {
     "name": "#%%\n"
    }
   },
   "outputs": [],
   "source": [
    "df3 = df_fraud_accounts_activity_v2[['invoice_count_day_7',\n",
    "                                 'invoice_count_day_15',\n",
    "                                 'invoice_count_day_30',\n",
    "                                 'invoice_count_day_45',\n",
    "                                 'invoice_count_day_60',\n",
    "                                 'invoice_count_day_75',\n",
    "                                 'invoice_count_day_90',\n",
    "                                 'invoice_count_month_6',\n",
    "                                 'invoice_count_year_1',\n",
    "                                 'invoice_count_year_2',\n",
    "                                 'invoice_count_year_3',\n",
    "                                 'invoice_count_year_4',\n",
    "                                 'invoice_count_year_5',\n",
    "                                 'invoice_count_year_6',\n",
    "                                 'invoice_count_year_7',\n",
    "                                 'invoice_count_year_8',\n",
    "                                 'invoice_count_year_9',\n",
    "                                 'invoice_count_year_10'\n",
    "                                ]].dropna().astype(int)"
   ]
  },
  {
   "cell_type": "code",
   "execution_count": null,
   "metadata": {
    "pycharm": {
     "name": "#%%\n"
    }
   },
   "outputs": [],
   "source": []
  },
  {
   "cell_type": "code",
   "execution_count": null,
   "metadata": {
    "pycharm": {
     "name": "#%%\n"
    }
   },
   "outputs": [],
   "source": [
    "# Pair-to-pair cross-validation plot for invoce count in different time period\n",
    "fig, axes = plt.subplots(nrows=3, ncols=2, figsize=(15,10))\n",
    "ax0, ax1, ax2, ax3, ax4, ax5 = axes.flatten()\n",
    "\n",
    "#------------------------------------------------------\n",
    "x0 = df3['invoice_count_day_7']\n",
    "y0 = df3['invoice_count_day_15']\n",
    "\n",
    "ax0.scatter(x0, y0, edgecolors=(0, 0, 0))\n",
    "ax0.plot([y0.min(), y0.max()], [y0.min(), y0.max()], 'k--', lw=2)\n",
    "ax0.set_xlabel('invoice_count_day_7')\n",
    "ax0.set_ylabel('invoice_count_day_15')\n",
    "\n",
    "#------------------------------------------------------\n",
    "x1 = df3['invoice_count_day_15']\n",
    "y1 = df3['invoice_count_day_30']\n",
    "\n",
    "ax1.scatter(x1, y1, edgecolors=(0, 0, 0))\n",
    "ax1.plot([y1.min(), y1.max()], [y1.min(), y1.max()], 'k--', lw=2)\n",
    "ax1.set_xlabel('invoice_count_day_15')\n",
    "ax1.set_ylabel('invoice_count_day_30')\n",
    "\n",
    "#------------------------------------------------------\n",
    "x2 = df3['invoice_count_day_30']\n",
    "y2 = df3['invoice_count_day_45']\n",
    "\n",
    "ax2.scatter(x2, y2, edgecolors=(0, 0, 0))\n",
    "ax2.plot([y2.min(), y2.max()], [y2.min(), y2.max()], 'k--', lw=2)\n",
    "ax2.set_xlabel('invoice_count_day_30')\n",
    "ax2.set_ylabel('invoice_count_day_45')\n",
    "\n",
    "\n",
    "#------------------------------------------------------\n",
    "x3 = df3['invoice_count_day_45']\n",
    "y3 = df3['invoice_count_day_60']\n",
    "\n",
    "ax3.scatter(x3, y3, edgecolors=(0, 0, 0))\n",
    "ax3.plot([y3.min(), y3.max()], [y3.min(), y3.max()], 'k--', lw=2)\n",
    "ax3.set_xlabel('invoice_count_day_45')\n",
    "ax3.set_ylabel('invoice_count_day_60')\n",
    "\n",
    "#------------------------------------------------------\n",
    "x4 = df3['invoice_count_day_60']\n",
    "y4 = df3['invoice_count_day_75']\n",
    "\n",
    "ax4.scatter(x4, y4, edgecolors=(0, 0, 0))\n",
    "ax4.plot([y4.min(), y4.max()], [y4.min(), y4.max()], 'k--', lw=2)\n",
    "ax4.set_xlabel('client_count_day_60')\n",
    "ax4.set_ylabel('client_count_day_75')\n",
    "\n",
    "\n",
    "#------------------------------------------------------\n",
    "x5 = df3['invoice_count_day_75']\n",
    "y5 = df3['invoice_count_day_90']\n",
    "\n",
    "ax5.scatter(x5, y5, edgecolors=(0, 0, 0))\n",
    "ax5.plot([y5.min(), y5.max()], [y5.min(), y5.max()], 'k--', lw=2)\n",
    "ax5.set_xlabel('invoice_count_day_75')\n",
    "ax5.set_ylabel('invoice_count_day_90')\n",
    "\n",
    "plt.show()"
   ]
  },
  {
   "cell_type": "code",
   "execution_count": null,
   "metadata": {
    "pycharm": {
     "name": "#%%\n"
    }
   },
   "outputs": [],
   "source": [
    "# Aggregrating column values\n",
    "invoice_col_count = {'invoice_count_day_7' :[df3['invoice_count_day_7'].sum()],\n",
    "                     'invoice_count_day_15':[df3['invoice_count_day_15'].sum()],\n",
    "                     'invoice_count_day_30':[df3['invoice_count_day_30'].sum()],\n",
    "                     'invoice_count_day_45':[df3['invoice_count_day_45'].sum()],\n",
    "                     'invoice_count_day_60':[df3['invoice_count_day_60'].sum()],\n",
    "                     'invoice_count_day_75':[df3['invoice_count_day_75'].sum()],\n",
    "                     'invoice_count_day_90':[df3['invoice_count_day_90'].sum()],\n",
    "                     'invoice_count_month_6':[df3['invoice_count_month_6'].sum()],\n",
    "                     'invoice_count_year_1':[df3['invoice_count_year_1'].sum()],\n",
    "                     'invoice_count_year_2':[df3['invoice_count_year_2'].sum()],\n",
    "                     'invoice_count_year_3':[df3['invoice_count_year_3'].sum()],\n",
    "                     'invoice_count_year_4':[df3['invoice_count_year_4'].sum()],\n",
    "                     'invoice_count_year_5':[df3['invoice_count_year_5'].sum()],\n",
    "                     'invoice_count_year_6':[df3['invoice_count_year_6'].sum()],\n",
    "                     'invoice_count_year_7':[df3['invoice_count_year_7'].sum()],\n",
    "                     'invoice_count_year_8':[df3['invoice_count_year_8'].sum()],\n",
    "                     'invoice_count_year_9':[df3['invoice_count_year_9'].sum()],\n",
    "                     'invoice_count_year_10':[df3['invoice_count_year_10'].sum()]\n",
    "            }\n",
    "\n",
    "df4 = pd.DataFrame(invoice_col_count, columns=[ 'invoice_count_day_7', 'invoice_count_day_15', 'invoice_count_day_30',\n",
    "                                                'invoice_count_day_45','invoice_count_day_60', 'invoice_count_day_75',\n",
    "                                                'invoice_count_day_90','invoice_count_month_6','invoice_count_year_1',\n",
    "                                                'invoice_count_year_2','invoice_count_year_3', 'invoice_count_year_4',\n",
    "                                                'invoice_count_year_5','invoice_count_year_6', 'invoice_count_year_7',\n",
    "                                                'invoice_count_year_8','invoice_count_year_9', 'invoice_count_year_10'\n",
    "                                              ])\n",
    "# Printing histogram bar heitht\n",
    "height = df4.values.tolist()\n",
    "height"
   ]
  },
  {
   "cell_type": "code",
   "execution_count": null,
   "metadata": {
    "pycharm": {
     "name": "#%%\n"
    }
   },
   "outputs": [],
   "source": [
    "height = [15769, 10574, 19640, 26998, 33646, 39673, 45588, 73193, \n",
    "          114960, 175531, 204357, 220022, 226549, 231151, 236013, \n",
    "          239781, 240574, 240804]\n",
    "\n",
    "bars = ('day_7',  'day_15', 'day_30', 'day_45',  'day_60', 'day_75', \n",
    "        'day_90', 'month_6',  'year_1',  'year_2',   'year_3',  'year_4',\n",
    "        'year_5',  'year_6',  'year_7',   'year_8',   'year_9',  'year_10'\n",
    "        )\n",
    "x_pos = [1,2,3,4,5,6,7,8,9,10,11,12,13,14,15,17,18,19]\n",
    "y_pos = np.arange(len(bars))\n",
    "\n",
    "# Create legend\n",
    "plt.legend()\n",
    "\n",
    "# Create bars\n",
    "plt.bar(y_pos, height, width=0.9)\n",
    "\n",
    "\n",
    "# Create names on the x-axis\n",
    "plt.xticks(y_pos, bars, rotation=90)\n",
    " \n",
    "# Show graphic\n",
    "plt.xlabel('fraud_accounts_lifespan_period')\n",
    "plt.ylabel('frequency')\n",
    "plt.title('Client count in different time periods of fraud account lifespan')\n",
    "plt.show()"
   ]
  },
  {
   "cell_type": "code",
   "execution_count": null,
   "metadata": {
    "pycharm": {
     "name": "#%%\n"
    }
   },
   "outputs": [],
   "source": [
    "height = [15769, 10574, 19640, \n",
    "          26998, 33646, 39673, \n",
    "          45588, 73193, 114960]\n",
    "\n",
    "bars = ('day_7',  'day_15', 'day_30', \n",
    "        'day_45',  'day_60', 'day_75', \n",
    "        'day_90', 'month_6',  'year_1'\n",
    "        )\n",
    "x_pos = [0,1,2,3,4,5,6,7,8]\n",
    "y_pos = np.arange(len(bars))\n",
    "\n",
    "# Create legend\n",
    "plt.legend()\n",
    "\n",
    "# Create bars\n",
    "plt.bar(y_pos, height, width=0.9)\n",
    "\n",
    "\n",
    "# Create names on the x-axis\n",
    "plt.xticks(y_pos, bars, rotation=90)\n",
    " \n",
    "# Show graphic\n",
    "plt.xlabel('fraud_accounts_lifespan_period')\n",
    "plt.ylabel('frequency')\n",
    "plt.title('Client count in different time periods of fraud account lifespan')\n",
    "plt.show()"
   ]
  },
  {
   "cell_type": "markdown",
   "metadata": {
    "pycharm": {
     "name": "#%% md\n"
    }
   },
   "source": [
    "### Word Count per Invoice in Fraud Accounts\n",
    "\n",
    "#### Invoice description word count"
   ]
  },
  {
   "cell_type": "code",
   "execution_count": null,
   "metadata": {
    "pycharm": {
     "name": "#%%\n"
    }
   },
   "outputs": [],
   "source": [
    "# Import fraud account life span (days to ban) data\n",
    "df_fraud_accounts_invoices = pd.read_csv(\"/Users/dwahid/Documents/GitHub/fraud_detection/data/fraud_accounts_invoices_descriptions.csv\", sep=\"\\t\")"
   ]
  },
  {
   "cell_type": "code",
   "execution_count": null,
   "metadata": {
    "scrolled": true,
    "pycharm": {
     "name": "#%%\n"
    }
   },
   "outputs": [],
   "source": [
    "df_fraud_accounts_invoices.head(5)"
   ]
  },
  {
   "cell_type": "code",
   "execution_count": null,
   "metadata": {
    "pycharm": {
     "name": "#%%\n"
    }
   },
   "outputs": [],
   "source": [
    "import re\n",
    "def words_count (strg):\n",
    "    \n",
    "    #print(strg)\n",
    "    \n",
    "    if strg == '' or pd.isnull(strg):\n",
    "        no_of_words = 0\n",
    "        #print('NaN')\n",
    "    else:\n",
    "        strg_words_list = re.findall(r\"[\\w']+\", strg)\n",
    "        no_of_words = len(strg_words_list)\n",
    "\n",
    "        \n",
    "        #print(strg_words_list)\n",
    "    \n",
    "    return no_of_words \n",
    "    "
   ]
  },
  {
   "cell_type": "code",
   "execution_count": null,
   "metadata": {
    "scrolled": false,
    "pycharm": {
     "name": "#%%\n"
    }
   },
   "outputs": [],
   "source": [
    "# Words count list\n",
    "words_count_list_description = []  # for invoice description\n",
    "words_count_list_notes = []        # for invoice notes\n",
    "words_count_list_terms = []        # for invoice terms\n",
    "words_count_list_address = []      # for invoice address\n",
    "\n",
    "# Iterating through the row of the dataframe \n",
    "for index, row in df_fraud_accounts_invoices.iterrows():\n",
    "    #print('\\n')\n",
    "    #print(index)\n",
    "    \n",
    "    # itemes string\n",
    "    description = row['description']\n",
    "    notes = row['notes']\n",
    "    terms = row['terms']\n",
    "    address = row['address']\n",
    "    \n",
    "    # word count using 'word_count(string)' function\n",
    "    wc_description = words_count(description)\n",
    "    wc_notes = words_count(notes)\n",
    "    wc_terms = words_count(terms)\n",
    "    wc_address = words_count(address)\n",
    "    \n",
    "    # adding word counts to the list\n",
    "    words_count_list_description.append(wc_description)\n",
    "    words_count_list_notes.append(wc_notes)\n",
    "    words_count_list_terms.append(wc_terms)\n",
    "    words_count_list_address.append(wc_address)\n",
    "    \n",
    "    #print(index, invoice_description, wc)\n",
    "    #print(index, wc)\n",
    "    #print('\\n')\n"
   ]
  },
  {
   "cell_type": "code",
   "execution_count": null,
   "metadata": {
    "pycharm": {
     "name": "#%%\n"
    }
   },
   "outputs": [],
   "source": [
    "# Adding words count columns in the dataframe\n",
    "df_fraud_accounts_invoices['description_words_count'] = words_count_list_description\n",
    "df_fraud_accounts_invoices['notes_words_count'] = words_count_list_notes\n",
    "df_fraud_accounts_invoices['terms_words_count'] = words_count_list_terms\n",
    "df_fraud_accounts_invoices['address_words_count'] = words_count_list_address\n"
   ]
  },
  {
   "cell_type": "code",
   "execution_count": null,
   "metadata": {
    "pycharm": {
     "name": "#%%\n"
    }
   },
   "outputs": [],
   "source": [
    "df_fraud_accounts_invoices.head()"
   ]
  }
 ],
 "metadata": {
  "kernelspec": {
   "display_name": "Python 2",
   "language": "python",
   "name": "python2"
  },
  "language_info": {
   "codemirror_mode": {
    "name": "ipython",
    "version": 2
   },
   "file_extension": ".py",
   "mimetype": "text/x-python",
   "name": "python",
   "nbconvert_exporter": "python",
   "pygments_lexer": "ipython2",
   "version": "2.7.17"
  }
 },
 "nbformat": 4,
 "nbformat_minor": 2
}