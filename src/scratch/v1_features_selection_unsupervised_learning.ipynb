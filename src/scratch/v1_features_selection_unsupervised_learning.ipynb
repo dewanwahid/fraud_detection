{
 "cells": [
  {
   "cell_type": "markdown",
   "metadata": {},
   "source": [
    "# Features Selection For Unsupervised Learning\n",
    "\n",
    "Implementation: \n",
    "https://stats.stackexchange.com/questions/108743/methods-in-r-or-python-to-perform-feature-selection-in-unsupervised-learning\n",
    "\n",
    "Original Paper:\n",
    "http://venom.cs.utsa.edu/dmz/techrep/2007/CS-TR-2007-011.pdf\n",
    "\n",
    "Note: I run five times of this algorithm for 100 features and finally aggregate all of the features and drop any duplicate!"
   ]
  },
  {
   "cell_type": "code",
   "execution_count": 1,
   "metadata": {},
   "outputs": [],
   "source": [
    "import pandas as pd\n",
    "import numpy as np"
   ]
  },
  {
   "cell_type": "markdown",
   "metadata": {},
   "source": [
    "## Import Data"
   ]
  },
  {
   "cell_type": "code",
   "execution_count": 4,
   "metadata": {},
   "outputs": [],
   "source": [
    "# Import CSV\n",
    "df_events_all_accounts_day_7 = pd.read_csv(\n",
    "    \"/Users/dwahid/Documents/GitHub/fraud_detection/data_v1/events_all_accounts_day_7.csv\", \n",
    "            sep=\"\\t\")"
   ]
  },
  {
   "cell_type": "code",
   "execution_count": 5,
   "metadata": {},
   "outputs": [],
   "source": [
    "# The features in the \n",
    "features_list = list(df_events_all_accounts_day_7)\n",
    "\n",
    "# Remove the 'systemid'\n",
    "del features_list[0]"
   ]
  },
  {
   "cell_type": "code",
   "execution_count": 6,
   "metadata": {},
   "outputs": [],
   "source": [
    "from sklearn.decomposition import PCA\n",
    "from sklearn.cluster import KMeans\n",
    "from collections import defaultdict\n",
    "from sklearn.metrics.pairwise import euclidean_distances\n",
    "from sklearn.preprocessing import StandardScaler\n",
    "\n",
    "# Features selection for unsupervised learning\n",
    "class PFA(object):\n",
    "    def __init__(self, n_features, q=None):\n",
    "        self.q = q\n",
    "        self.n_features = n_features\n",
    "\n",
    "    def fit(self, X):\n",
    "        if not self.q:\n",
    "            self.q = X.shape[1]\n",
    "\n",
    "        sc = StandardScaler()\n",
    "        X = sc.fit_transform(X)\n",
    "\n",
    "        pca = PCA(n_components=self.q).fit(X)\n",
    "        A_q = pca.components_.T\n",
    "\n",
    "        kmeans = KMeans(n_clusters=self.n_features).fit(A_q)\n",
    "        clusters = kmeans.predict(A_q)\n",
    "        cluster_centers = kmeans.cluster_centers_\n",
    "\n",
    "        dists = defaultdict(list)\n",
    "        for i, c in enumerate(clusters):\n",
    "            dist = euclidean_distances([A_q[i, :]], [cluster_centers[c, :]])[0][0]\n",
    "            dists[c].append((i, dist))\n",
    "\n",
    "        self.indices_ = [sorted(f, key=lambda x: x[1])[0][0] for f in dists.values()]\n",
    "        self.features_ = X[:, self.indices_]"
   ]
  },
  {
   "cell_type": "code",
   "execution_count": 7,
   "metadata": {},
   "outputs": [
    {
     "name": "stderr",
     "output_type": "stream",
     "text": [
      "/Users/dwahid/Documents/GitHub/fraud_detection/venv_fraud/lib/python2.7/site-packages/sklearn/preprocessing/data.py:645: DataConversionWarning: Data with input dtype int64 were all converted to float64 by StandardScaler.\n",
      "  return self.partial_fit(X, y)\n",
      "/Users/dwahid/Documents/GitHub/fraud_detection/venv_fraud/lib/python2.7/site-packages/sklearn/base.py:464: DataConversionWarning: Data with input dtype int64 were all converted to float64 by StandardScaler.\n",
      "  return self.fit(X, **fit_params).transform(X)\n"
     ]
    }
   ],
   "source": [
    "pfa = PFA(n_features=100)\n",
    "pfa.fit(df_events_all_accounts_day_7)\n",
    "\n",
    "# To get the transformed matrix\n",
    "X = pfa.features_\n",
    "\n",
    "# To get the column indices of the kept features\n",
    "column_indices = pfa.indices_"
   ]
  },
  {
   "cell_type": "code",
   "execution_count": 8,
   "metadata": {},
   "outputs": [
    {
     "name": "stdout",
     "output_type": "stream",
     "text": [
      "activateclient\n",
      "timeentriesunbilled\n",
      "clientimportcsvfailed\n",
      "adddiscounttoinvoice\n",
      "activatestaff\n",
      "activateproject\n",
      "api\n",
      "deletebusinessaccountant\n",
      "migrationhub-index-desktop-nav-move-later-blue-cta\n",
      "createtax\n",
      "customdefaultinvoiceterms\n",
      "stripepaymentsuccessful\n",
      "identitysignedupwithgoogle\n",
      "passwordchanged\n",
      "hoursupdatedapi\n",
      "contractorinvitationsubscribe\n",
      "ariasupplementalplandowngraded\n",
      "bulkimportitemsandservicescomplete\n",
      "balancesheetviewed\n",
      "migrationhub-existfeature-know-and-love-start-move-cta\n",
      "createbankaccount\n",
      "emailfirstlatereminder\n",
      "clickthrough:weekly_account_summary_report\n",
      "clickthrough:weekly_account_summary_settings\n",
      "ariasupplementalplanupgraded\n",
      "estimatenotviewedbyclientnotification\n",
      "adminautobilladdcardattempt\n",
      "migrationhub-index-desktop-nav-start-move-cta\n",
      "invoiceoverdue\n",
      "migrationhub-index-modal-start-move-cta\n",
      "deleteinvoice\n",
      "subscriptiondeferredupgradeplancreated\n",
      "expenseimportfailed\n",
      "deletestaff\n",
      "upgradeform-paymenterror\n",
      "enabledoauth\n",
      "adminde-activation\n",
      "onlinepaymentrefund\n",
      "collaboratorinvitationaccepted\n",
      "migratedstafffromfreshapptosmux\n",
      "createcancellationfeedback\n",
      "groupmemberadded\n",
      "retainerperiodtimebilledchange\n",
      "deletepayment\n",
      "renamefolder\n",
      "customermigrationtonewfreshbooks-landingadclick\n",
      "employeerolechanged\n",
      "disconnectbankaccount\n",
      "referralemailsent\n",
      "latepaymentnotification3\n",
      "emailestimate\n",
      "createinvoicedispute\n",
      "archiverecurringprofile\n",
      "projectbilledamountchange\n",
      "balancesheetcreateformviewed\n",
      "movefile\n",
      "createfolder\n",
      "latepaymentnotification2\n",
      "landedonnewinvoice\n",
      "deletefolder\n",
      "deletebusinessemployee\n",
      "createrecurringexpense\n",
      "acceptestimate\n",
      "hitpaywall-clientlimit\n",
      "land'sendme-inv'invitation\n",
      "updatepayment\n",
      "deleteclient\n",
      "superadminupdatesubdomain\n",
      "customdefaultcreditterms\n",
      "adminautobilladdcardsuccess\n",
      "updateitem\n",
      "deletematchedtransaction\n",
      "creditcardremovedfromauto-billnotification\n",
      "updateclient\n",
      "banktransferdisabled\n",
      "balancesheetsviewed(empty)\n",
      "deletebusinesspartner\n",
      "archiveestimate\n",
      "migrationhub-newfeature-desktop-nav-start-move-cta\n",
      "customdefaultestimateterms\n",
      "estimateconvertedtorecurringinvoice\n",
      "returnfile(unchanged)\n",
      "creupgradepage-visit\n",
      "deletehours\n",
      "selectedaplan\n",
      "connectsystemsnow\n",
      "migrationhub-index-modal-move-later-confirm-cta\n",
      "adminonlinepaymentfailed\n",
      "adminpayinvoiceonline-listview\n",
      "providedaddressinfo\n",
      "changedapitoken\n",
      "createcontractor\n",
      "subscriptiondeferredupgradeplanapplied\n",
      "updateadmin\n",
      "addedtimetoprofile\n",
      "connectedgateway\n",
      "resendcallbackverifier\n",
      "createbanktransaction\n",
      "deletetask\n",
      "updatetimeentry\n"
     ]
    }
   ],
   "source": [
    "# Printing the important features\n",
    "for i in column_indices:\n",
    "    print(features_list[i])"
   ]
  },
  {
   "cell_type": "code",
   "execution_count": null,
   "metadata": {},
   "outputs": [],
   "source": []
  }
 ],
 "metadata": {
  "kernelspec": {
   "display_name": "Python 2",
   "language": "python",
   "name": "python2"
  },
  "language_info": {
   "codemirror_mode": {
    "name": "ipython",
    "version": 2
   },
   "file_extension": ".py",
   "mimetype": "text/x-python",
   "name": "python",
   "nbconvert_exporter": "python",
   "pygments_lexer": "ipython2",
   "version": "2.7.10"
  }
 },
 "nbformat": 4,
 "nbformat_minor": 2
}
