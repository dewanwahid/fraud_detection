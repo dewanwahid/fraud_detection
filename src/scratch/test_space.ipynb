{
 "cells": [
  {
   "cell_type": "code",
   "execution_count": 2,
   "metadata": {},
   "outputs": [],
   "source": [
    "import numpy as np\n",
    "import pandas as pd\n",
    "\n",
    "import matplotlib.pyplot as plt\n",
    "plt.style.use('ggplot')\n",
    "%matplotlib inline\n"
   ]
  },
  {
   "cell_type": "code",
   "execution_count": 21,
   "metadata": {},
   "outputs": [],
   "source": [
    "######## Iris data set: KMean ###############\n",
    "df07 = pd.read_csv(\"/Users/dwahid/Documents/GitHub/fraud_detection/data/training_data/final_features_day_07_no_fbtest_onlyimp_noinactive.tsv\", sep='\\t')\n",
    "df14 = pd.read_csv(\"/Users/dwahid/Documents/GitHub/fraud_detection/data/training_data/final_features_day_14_no_fbtest_onlyimp_noinactive.tsv\", sep='\\t')\n",
    "df21 = pd.read_csv(\"/Users/dwahid/Documents/GitHub/fraud_detection/data/training_data/final_features_day_21_no_fbtest_onlyimp_noinactive.tsv\", sep='\\t')\n",
    "df28 = pd.read_csv(\"/Users/dwahid/Documents/GitHub/fraud_detection/data/training_data/final_features_day_28_no_fbtest_onlyimp_noinactive.tsv\", sep='\\t')\n",
    "df35 = pd.read_csv(\"/Users/dwahid/Documents/GitHub/fraud_detection/data/training_data/final_features_day_35_no_fbtest_onlyimp_noinactive.tsv\", sep='\\t')\n",
    "df42 = pd.read_csv(\"/Users/dwahid/Documents/GitHub/fraud_detection/data/training_data/final_features_day_42_no_fbtest_onlyimp_noinactive.tsv\", sep='\\t')\n",
    "df49 = pd.read_csv(\"/Users/dwahid/Documents/GitHub/fraud_detection/data/training_data/final_features_day_49_no_fbtest_onlyimp_noinactive.tsv\", sep='\\t')\n",
    "df56 = pd.read_csv(\"/Users/dwahid/Documents/GitHub/fraud_detection/data/training_data/final_features_day_56_no_fbtest_onlyimp.tsv\", sep='\\t')\n",
    "df63 = pd.read_csv(\"/Users/dwahid/Documents/GitHub/fraud_detection/data/training_data/final_features_day_63_no_fbtest_onlyimp.tsv\", sep='\\t')\n",
    "df70 = pd.read_csv(\"/Users/dwahid/Documents/GitHub/fraud_detection/data/training_data/final_features_day_70_no_fbtest_onlyimp.tsv\", sep='\\t')\n",
    "df77 = pd.read_csv(\"/Users/dwahid/Documents/GitHub/fraud_detection/data/training_data/final_features_day_77_no_fbtest_onlyimp.tsv\", sep='\\t')\n",
    "df84 = pd.read_csv(\"/Users/dwahid/Documents/GitHub/fraud_detection/data/training_data/final_features_day_84_no_fbtest_onlyimp.tsv\", sep='\\t')\n",
    "df91 = pd.read_csv(\"/Users/dwahid/Documents/GitHub/fraud_detection/data/training_data/final_features_day_91_no_fbtest_onlyimp.tsv\", sep='\\t')"
   ]
  },
  {
   "cell_type": "code",
   "execution_count": 6,
   "metadata": {},
   "outputs": [
    {
     "data": {
      "text/plain": [
       "(438297, 105)"
      ]
     },
     "execution_count": 6,
     "metadata": {},
     "output_type": "execute_result"
    }
   ],
   "source": [
    "df07.shape"
   ]
  },
  {
   "cell_type": "code",
   "execution_count": 8,
   "metadata": {},
   "outputs": [
    {
     "data": {
      "text/plain": [
       "(438299, 105)"
      ]
     },
     "execution_count": 8,
     "metadata": {},
     "output_type": "execute_result"
    }
   ],
   "source": [
    "df14.shape"
   ]
  },
  {
   "cell_type": "code",
   "execution_count": 10,
   "metadata": {},
   "outputs": [
    {
     "data": {
      "text/plain": [
       "(438299, 105)"
      ]
     },
     "execution_count": 10,
     "metadata": {},
     "output_type": "execute_result"
    }
   ],
   "source": [
    "df21.shape"
   ]
  },
  {
   "cell_type": "code",
   "execution_count": 11,
   "metadata": {},
   "outputs": [
    {
     "data": {
      "text/plain": [
       "(438299, 105)"
      ]
     },
     "execution_count": 11,
     "metadata": {},
     "output_type": "execute_result"
    }
   ],
   "source": [
    "df28.shape"
   ]
  },
  {
   "cell_type": "code",
   "execution_count": 12,
   "metadata": {},
   "outputs": [
    {
     "data": {
      "text/plain": [
       "(438336, 105)"
      ]
     },
     "execution_count": 12,
     "metadata": {},
     "output_type": "execute_result"
    }
   ],
   "source": [
    "df35.shape"
   ]
  },
  {
   "cell_type": "code",
   "execution_count": 14,
   "metadata": {},
   "outputs": [
    {
     "data": {
      "text/plain": [
       "(438299, 105)"
      ]
     },
     "execution_count": 14,
     "metadata": {},
     "output_type": "execute_result"
    }
   ],
   "source": [
    "df42.shape"
   ]
  },
  {
   "cell_type": "code",
   "execution_count": 23,
   "metadata": {},
   "outputs": [
    {
     "data": {
      "text/plain": [
       "(438299, 105)"
      ]
     },
     "execution_count": 23,
     "metadata": {},
     "output_type": "execute_result"
    }
   ],
   "source": [
    "df49.shape"
   ]
  },
  {
   "cell_type": "code",
   "execution_count": 22,
   "metadata": {},
   "outputs": [
    {
     "data": {
      "text/plain": [
       "(452565, 104)"
      ]
     },
     "execution_count": 22,
     "metadata": {},
     "output_type": "execute_result"
    }
   ],
   "source": [
    "df56.shape"
   ]
  },
  {
   "cell_type": "code",
   "execution_count": 17,
   "metadata": {},
   "outputs": [
    {
     "data": {
      "text/plain": [
       "(15897, 104)"
      ]
     },
     "execution_count": 17,
     "metadata": {},
     "output_type": "execute_result"
    }
   ],
   "source": [
    "df63.shape"
   ]
  },
  {
   "cell_type": "code",
   "execution_count": 29,
   "metadata": {},
   "outputs": [
    {
     "data": {
      "text/plain": [
       "['systemid',\n",
       " 'activateestimate',\n",
       " 'activateexpense',\n",
       " 'activateotherincome',\n",
       " 'activatepayment',\n",
       " 'activateproject',\n",
       " 'activaterecurringprofile',\n",
       " 'activatestaff',\n",
       " 'adminde-activation',\n",
       " 'adminonlinepaymentattempt',\n",
       " 'adminpayinvoiceonline-invoice',\n",
       " 'adminpayinvoiceonline-listview',\n",
       " 'archiveclient',\n",
       " 'archiveexpense',\n",
       " 'archiveotherincome',\n",
       " 'archiveproject',\n",
       " 'archivetask',\n",
       " 'autobillpayment',\n",
       " 'banktransferdisabled',\n",
       " 'banktransferenabled',\n",
       " 'bulkimportclientscomplete',\n",
       " 'bulkimportitemsandservicescomplete',\n",
       " 'clientimportcsvsucceeded',\n",
       " 'clientlimitupgradenudge',\n",
       " 'createbankaccount',\n",
       " 'createbanktransaction',\n",
       " 'createbanktransfer',\n",
       " 'createcategory',\n",
       " 'createcontact',\n",
       " 'createcontractor',\n",
       " 'createcreditnote',\n",
       " 'createdexpense',\n",
       " 'createestimate',\n",
       " 'createexpense',\n",
       " 'createitem',\n",
       " 'createotherincome',\n",
       " 'createreceipt',\n",
       " 'createservice',\n",
       " 'creditcardclientaccessgranted',\n",
       " 'creditcardsystemaccessrevoked',\n",
       " 'customemailsignature',\n",
       " 'declinedonlinepaymentnotification',\n",
       " 'deletebusinessaccountant',\n",
       " 'deletebusinesspartner',\n",
       " 'deletecollaborator',\n",
       " 'deletecreditnote',\n",
       " 'deleteestimate',\n",
       " 'deleteexpense',\n",
       " 'deletehours',\n",
       " 'deleteinvoice',\n",
       " 'deleteitem',\n",
       " 'deleteotherincome',\n",
       " 'deleteproject',\n",
       " 'deleterecurringexpense',\n",
       " 'deleteretainerprofile',\n",
       " 'deletestaff',\n",
       " 'deletesystemgateway',\n",
       " 'deletetimeentry',\n",
       " 'deleteuser',\n",
       " 'disconnectbankaccount',\n",
       " 'disconnectpaymentgateway',\n",
       " 'dualstripe/paypalgatewayexperienceinvoicepopupclick',\n",
       " 'emailcreditnote',\n",
       " 'emailestimate',\n",
       " 'emailestimatetoself',\n",
       " 'emailinvoice',\n",
       " 'emailinvoicesample',\n",
       " 'emailreport',\n",
       " 'emailsent',\n",
       " 'enableautobilling',\n",
       " 'enablepaymentgateway',\n",
       " 'expenseimportsucceeded',\n",
       " 'exportjournalentries',\n",
       " 'fbpayenabled',\n",
       " 'fbpayfirstinvoicesent',\n",
       " 'fbpayupdatedacceptedcreditcards',\n",
       " 'fbpayuserconnectedbank',\n",
       " 'generateinvoicefromrecurringprofile',\n",
       " 'hitpaywall-clientlimit',\n",
       " 'hourslogged',\n",
       " 'identitycompletedonboarding',\n",
       " 'login',\n",
       " 'stripepaymentsuccessful',\n",
       " 'successfulonlinepayment',\n",
       " 'surveyquestionanswered',\n",
       " 'updatebusiness',\n",
       " 'updatecategory',\n",
       " 'updateclient',\n",
       " 'updatecompanyprofile',\n",
       " 'updatecontractor',\n",
       " 'updatecreditnote',\n",
       " 'updateestimate',\n",
       " 'updateexpense',\n",
       " 'updateinvoicesample',\n",
       " 'updateitem',\n",
       " 'updateservice',\n",
       " 'is_sales_managed',\n",
       " 'is_freshbooks_account_active',\n",
       " 'is_paying',\n",
       " 'avg_wc_description_day_49',\n",
       " 'avg_wc_notes_day_49',\n",
       " 'avg_wc_terms_day_49',\n",
       " 'avg_wc_address_day_49',\n",
       " 'invoice_count_day_49',\n",
       " 'client_count_day_49']"
      ]
     },
     "execution_count": 29,
     "metadata": {},
     "output_type": "execute_result"
    }
   ],
   "source": [
    "list(df49)"
   ]
  },
  {
   "cell_type": "code",
   "execution_count": 25,
   "metadata": {},
   "outputs": [
    {
     "data": {
      "text/plain": [
       "['systemid',\n",
       " 'activateestimate',\n",
       " 'activateexpense',\n",
       " 'activateotherincome',\n",
       " 'activatepayment',\n",
       " 'activateproject',\n",
       " 'activaterecurringprofile',\n",
       " 'activatestaff',\n",
       " 'adminde-activation',\n",
       " 'adminonlinepaymentattempt',\n",
       " 'adminpayinvoiceonline-invoice',\n",
       " 'adminpayinvoiceonline-listview',\n",
       " 'archiveclient',\n",
       " 'archiveexpense',\n",
       " 'archiveotherincome',\n",
       " 'archiveproject',\n",
       " 'archivetask',\n",
       " 'autobillpayment',\n",
       " 'banktransferdisabled',\n",
       " 'banktransferenabled',\n",
       " 'bulkimportclientscomplete',\n",
       " 'bulkimportitemsandservicescomplete',\n",
       " 'clientimportcsvsucceeded',\n",
       " 'clientlimitupgradenudge',\n",
       " 'createbankaccount',\n",
       " 'createbanktransaction',\n",
       " 'createbanktransfer',\n",
       " 'createcategory',\n",
       " 'createcontact',\n",
       " 'createcontractor',\n",
       " 'createcreditnote',\n",
       " 'createdexpense',\n",
       " 'createestimate',\n",
       " 'createexpense',\n",
       " 'createitem',\n",
       " 'createotherincome',\n",
       " 'createreceipt',\n",
       " 'createservice',\n",
       " 'creditcardclientaccessgranted',\n",
       " 'creditcardsystemaccessrevoked',\n",
       " 'customemailsignature',\n",
       " 'declinedonlinepaymentnotification',\n",
       " 'deletebusinessaccountant',\n",
       " 'deletebusinesspartner',\n",
       " 'deletecollaborator',\n",
       " 'deletecreditnote',\n",
       " 'deleteestimate',\n",
       " 'deleteexpense',\n",
       " 'deletehours',\n",
       " 'deleteinvoice',\n",
       " 'deleteitem',\n",
       " 'deleteotherincome',\n",
       " 'deleteproject',\n",
       " 'deleterecurringexpense',\n",
       " 'deleteretainerprofile',\n",
       " 'deletestaff',\n",
       " 'deletesystemgateway',\n",
       " 'deletetimeentry',\n",
       " 'deleteuser',\n",
       " 'disconnectbankaccount',\n",
       " 'disconnectpaymentgateway',\n",
       " 'dualstripe/paypalgatewayexperienceinvoicepopupclick',\n",
       " 'emailcreditnote',\n",
       " 'emailestimate',\n",
       " 'emailestimatetoself',\n",
       " 'emailinvoice',\n",
       " 'emailinvoicesample',\n",
       " 'emailreport',\n",
       " 'emailsent',\n",
       " 'enableautobilling',\n",
       " 'enablepaymentgateway',\n",
       " 'expenseimportsucceeded',\n",
       " 'exportjournalentries',\n",
       " 'fbpayenabled',\n",
       " 'fbpayfirstinvoicesent',\n",
       " 'fbpayupdatedacceptedcreditcards',\n",
       " 'fbpayuserconnectedbank',\n",
       " 'generateinvoicefromrecurringprofile',\n",
       " 'hitpaywall-clientlimit',\n",
       " 'hourslogged',\n",
       " 'identitycompletedonboarding',\n",
       " 'login',\n",
       " 'stripepaymentsuccessful',\n",
       " 'successfulonlinepayment',\n",
       " 'surveyquestionanswered',\n",
       " 'updatebusiness',\n",
       " 'updatecategory',\n",
       " 'updateclient',\n",
       " 'updatecompanyprofile',\n",
       " 'updatecontractor',\n",
       " 'updatecreditnote',\n",
       " 'updateestimate',\n",
       " 'updateexpense',\n",
       " 'updateinvoicesample',\n",
       " 'updateitem',\n",
       " 'updateservice',\n",
       " 'is_sales_managed',\n",
       " 'is_freshbooks_account_active',\n",
       " 'is_paying',\n",
       " 'avg_wc_description_day_49',\n",
       " 'avg_wc_notes_day_49',\n",
       " 'avg_wc_terms_day_49',\n",
       " 'avg_wc_address_day_49',\n",
       " 'invoice_count_day_49',\n",
       " 'client_count_day_49']"
      ]
     },
     "execution_count": 25,
     "metadata": {},
     "output_type": "execute_result"
    }
   ],
   "source": [
    "list(df49)"
   ]
  },
  {
   "cell_type": "code",
   "execution_count": null,
   "metadata": {},
   "outputs": [],
   "source": []
  }
 ],
 "metadata": {
  "kernelspec": {
   "display_name": "Python 2",
   "language": "python",
   "name": "python2"
  },
  "language_info": {
   "codemirror_mode": {
    "name": "ipython",
    "version": 2
   },
   "file_extension": ".py",
   "mimetype": "text/x-python",
   "name": "python",
   "nbconvert_exporter": "python",
   "pygments_lexer": "ipython2",
   "version": "2.7.16"
  }
 },
 "nbformat": 4,
 "nbformat_minor": 2
}
