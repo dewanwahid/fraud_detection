{
 "cells": [
  {
   "cell_type": "markdown",
   "metadata": {},
   "source": [
    "# S02: Merging and Saving Labeled Fraud Risk Accounts\n",
    "\n",
    "Human-in-the-Loop: Please run this script only after labeling today's pulled fraud risk account. "
   ]
  },
  {
   "cell_type": "code",
   "execution_count": null,
   "metadata": {},
   "outputs": [],
   "source": [
    "import pandas as pd\n",
    "import numpy as np\n",
    "from datetime import date\n",
    "\n",
    "from scipy import stats\n",
    "get_ipython().magic(u'config IPCompleter.greedy=True')\n",
    "today = str(date.today())"
   ]
  },
  {
   "cell_type": "code",
   "execution_count": null,
   "metadata": {},
   "outputs": [],
   "source": [
    "#################### HUMAN-IN-THE-LOOP: New Labeled Users Accounts By Support Team #######################\n",
    "\n",
    "## Please enter the date of the labled data file that you are mergin and saving now\n",
    "date_ = today \n",
    "\n",
    "## Import the labeled fraud risk account by the support team\n",
    "path = \"file-path\"\n",
    "\n",
    "# with date\n",
    "file_name = \"new_fraud_risk_acc_tbl_for_support_\"\n",
    "path_fra_labeled_new = path + file_name + date_ + \".csv\"  # the labeled data file path and name\n",
    "\n",
    "df1 = pd.read_csv(path_fra_labeled_new, sep=\",\")  # read the labeled data\n",
    "df1 = df1[df1.fraud_label != 'TBL']  # get only labeled accounts\n",
    "df1_id = df1[['id', 'fraud_label', 'support_note']]"
   ]
  },
  {
   "cell_type": "markdown",
   "metadata": {},
   "source": [
    "## Merge Labeled User Accounts (From Begining): For Support CSV"
   ]
  },
  {
   "cell_type": "code",
   "execution_count": null,
   "metadata": {},
   "outputs": [],
   "source": [
    "########################### Merge: Labeled Users Accounts (From Begining) #######################\n",
    "\n",
    "## Import all already labeled fraud risk accounts (FRA)\n",
    "df2 = pd.read_csv('file-path', sep=\",\")"
   ]
  },
  {
   "cell_type": "code",
   "execution_count": null,
   "metadata": {},
   "outputs": [],
   "source": [
    "## Merge new labeled accounts with already labeled accounts\n",
    "df2_merged = df2.append(df1, sort=False)\n",
    "df2_merged = df2_merged.reset_index(drop=True)\n",
    "\n",
    "## Save the merge list of fraud status labeled accounts labeled by support team\n",
    "df2_merged.to_csv('path_and_file_name', sep=\",\", index=False)"
   ]
  },
  {
   "cell_type": "markdown",
   "metadata": {},
   "source": [
    "## Merge Labele Fraud Accounts (From Bigining): For Training Data TSV"
   ]
  },
  {
   "cell_type": "code",
   "execution_count": null,
   "metadata": {},
   "outputs": [],
   "source": [
    "######################### New RL Training Data: Unlabeled ########################################\n",
    "\n",
    "## with date\n",
    "file_name = \"new_fraud_risk_acc_tbl_all_features_\"\n",
    "path_fra_new_unlabeled = 'path' + file_name + date_ + \".tsv\"  # the labeled data file path and name\n",
    "\n",
    "df3 = pd.read_csv(path_fra_new_unlabeled, sep=\"\\t\")  # read the labeled data\n",
    "df3 = df3.drop(columns=['fraud_label', 'support_note'], axis=1)"
   ]
  },
  {
   "cell_type": "code",
   "execution_count": null,
   "metadata": {},
   "outputs": [],
   "source": [
    "######################### New RL Training Data: Labeled by Support Team ###########################\n",
    "\n",
    "## Cross users accounts, if any account is already labeled then remove it \n",
    "df4 = pd.merge(df3, df1_id, how='left', on=['id'], indicator=True)\n",
    "df1 = df4[df4._merge == 'both']\n",
    "df1 = df1.drop(columns=['_merge'], axis=1)"
   ]
  },
  {
   "cell_type": "code",
   "execution_count": null,
   "metadata": {},
   "outputs": [],
   "source": [
    "################## Merge RL Training Data: From Begining ##########################################\n",
    "df5 = pd.read_csv('path', sep=\"\\t\")\n",
    "\n",
    "## Merging new RL training data with the old RL training data\n",
    "df5_merged = df5.append(df1)\n",
    "df5_merged = df5_merged.reset_index(drop=True)\n",
    "\n",
    "## Save the merge list of fraud status labeled accounts labeled by support team\n",
    "df5_merged.to_csv('path_and_file_name2', sep=\"\\t\", index=False)"
   ]
  }
 ],
 "metadata": {
  "kernelspec": {
   "display_name": "Python 2",
   "language": "python",
   "name": "python2"
  },
  "language_info": {
   "codemirror_mode": {
    "name": "ipython",
    "version": 2
   },
   "file_extension": ".py",
   "mimetype": "text/x-python",
   "name": "python",
   "nbconvert_exporter": "python",
   "pygments_lexer": "ipython2",
   "version": "2.7.17"
  }
 },
 "nbformat": 4,
 "nbformat_minor": 2
}
