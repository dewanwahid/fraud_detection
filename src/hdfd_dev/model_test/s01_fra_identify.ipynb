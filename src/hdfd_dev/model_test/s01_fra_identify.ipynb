{
 "cells": [
  {
   "cell_type": "markdown",
   "metadata": {},
   "source": [
    "# Script 01: Identifying Fraud Risk Accounts"
   ]
  },
  {
   "cell_type": "code",
   "execution_count": null,
   "metadata": {},
   "outputs": [],
   "source": [
    "import pandas as pd\n",
    "import numpy as np\n",
    "from datetime import date\n",
    "\n",
    "from scipy import stats\n",
    "get_ipython().magic(u'config IPCompleter.greedy=True')"
   ]
  },
  {
   "cell_type": "code",
   "execution_count": null,
   "metadata": {},
   "outputs": [],
   "source": [
    "## Testing AWS Connectivity\n",
    "from contextlib import closing\n",
    "\n",
    "\n",
    "import psycopg2\n",
    "import simplejson\n",
    "import sys\n",
    "reload(sys)\n",
    "sys.setdefaultencoding('utf8')\n",
    "\n",
    "DEFAULT_DB = 'xxx'\n",
    "DEFAULT_HOST = 'xxxx'\n",
    "DEFAULT_PORT = 1111\n",
    "\n",
    "\n",
    "class PsycopgConnector:\n",
    "    '''\n",
    "    A database connector that uses Psycopg to connect to Redshift.\n",
    "\n",
    "    How to play:\n",
    "\n",
    "        psy_conn = PsycopgConnector(username, password)\n",
    "        df = psy_conn.run_query(sql=sql, return_data=True)\n",
    "\n",
    "    NOTE: This class commits queries to redshift if return_data=False.\n",
    "    This means INSERT, DROP, TRUNCATE, etc. all work against the DB.\n",
    "    '''\n",
    "\n",
    "    def __init__(\n",
    "        self,\n",
    "        username=None,\n",
    "        password=None,\n",
    "        db=DEFAULT_DB,\n",
    "        host=DEFAULT_HOST,\n",
    "        port=DEFAULT_PORT,\n",
    "    ):\n",
    "\n",
    "        self.db = DEFAULT_DB\n",
    "        self.host = DEFAULT_HOST\n",
    "        self.port = DEFAULT_PORT\n",
    "\n",
    "        self.username = username\n",
    "        self.password = password\n",
    "\n",
    "    def _get_connection(self):\n",
    "\n",
    "        self.conn = psycopg2.connect(\n",
    "            dbname=self.db,\n",
    "            user=self.username,\n",
    "            password=self.password,\n",
    "            host=self.host,\n",
    "            port=self.port\n",
    "        )\n",
    "\n",
    "        return self.conn\n",
    "\n",
    "    def run_query(self, sql, return_data=False):\n",
    "\n",
    "        with closing(self._get_connection()) as conn:\n",
    "            with conn, conn.cursor() as cur:\n",
    "                if return_data:\n",
    "                    return pd.read_sql(sql=sql, con=conn)\n",
    "                else:\n",
    "                    cur.execute(sql)\n",
    "                    \n",
    "\n",
    "# Read the database's credentials file \n",
    "with open(\"credentials.json.nogit\") as fh:\n",
    "    creds = simplejson.loads(fh.read())\n",
    "    \n",
    "username = creds.get(\"user_name\")\n",
    "password = creds.get(\"password\")\n",
    "\n",
    "pig = PsycopgConnector(username, password)"
   ]
  },
  {
   "cell_type": "markdown",
   "metadata": {},
   "source": [
    "## Number of Fraud Risk Accounts (N)\n",
    "\n",
    "Please enter the nubmer **(N)** of Fraud Risk Accounts that you want to check today."
   ]
  },
  {
   "cell_type": "code",
   "execution_count": null,
   "metadata": {},
   "outputs": [],
   "source": [
    "#------------------------------------------------------------\n",
    "# PLEASE READ AND ANSWER THIS QUESTION\n",
    "#\n",
    "# Question: How many accounts you want to check today?\n",
    "# Answer: Number of Accounts: N\n",
    "#-----------------------------------------------------------\n",
    "N = 25\n",
    "#-------------------------------------------------------------"
   ]
  },
  {
   "cell_type": "markdown",
   "metadata": {},
   "source": [
    "## Computing Fraud Risk Score (FRS)\n",
    "\n",
    "This following script will query new account (if already not labeled) those are signed-up within last 91 days (from today), and compute the corresponding **Fraud Risk Score (FRS)**."
   ]
  },
  {
   "cell_type": "code",
   "execution_count": null,
   "metadata": {},
   "outputs": [],
   "source": [
    "## Pull new user accounts and compute Fraud Risk Score (FRS)\n",
    "%run ./fraud_risk_score_computing.ipynb"
   ]
  },
  {
   "cell_type": "code",
   "execution_count": null,
   "metadata": {},
   "outputs": [],
   "source": [
    "## Import new user accounts and corresponding Fraud Risk Score (FRS)\n",
    "path = \"/Users/dwahid/Documents/GitHub/fraud_detection/data/fraud_risk_acc_to_be_labeled_all_features/\"\n",
    "\n",
    "## Without date\n",
    "# file_name = \"new_fraud_risk_acc_tbl_all_features\"\n",
    "# data = path + file_name + \".tsv\"\n",
    "\n",
    "## With date\n",
    "file_name = \"new_fraud_risk_acc_tbl_all_features_\"\n",
    "today = str(date.today())\n",
    "data = path + file_name + today + \".tsv\"\n",
    "\n",
    "df_fra_all_features = pd.read_csv(data, sep=\"\\t\")   # FRA - Fraud Risk Accounts"
   ]
  },
  {
   "cell_type": "code",
   "execution_count": null,
   "metadata": {},
   "outputs": [],
   "source": [
    "df_fra_all_features.tail()"
   ]
  },
  {
   "cell_type": "code",
   "execution_count": null,
   "metadata": {},
   "outputs": [],
   "source": [
    "df_fra_all_features.shape"
   ]
  },
  {
   "cell_type": "markdown",
   "metadata": {},
   "source": [
    "## Return Top N Fraud Risk Accounts for Support Labeling\n",
    "It will return a list of top N FRA accounts for support labeleing. "
   ]
  },
  {
   "cell_type": "code",
   "execution_count": null,
   "metadata": {},
   "outputs": [],
   "source": [
    "## Top N accounts for support team reporting\n",
    "df_fra_topN_all_features = df_fra_all_features.head(N)\n",
    "\n",
    "## Selecting colums for support team reporting\n",
    "df_fra_topN_for_support = df_fra_topN_all_features[['systemid', 'admin_email', 'signup_date', \n",
    "                                                   'effective_date', 'days_on_platform', 'fraud_label', 'support_note']]\n",
    "\n",
    "## Path and file name for user accounts for need to be labeled by support team\n",
    "path = \"/Users/dwahid/Documents/GitHub/fraud_detection/data/fraud_risk_acc_to_be_labeled_for_support/\"\n",
    "\n",
    "## Without date\n",
    "# file_name = \"new_fraud_risk_acc_tbl_for_support\"\n",
    "# path_fra_topN_for_support = path + file_name + \".csv\"\n",
    "\n",
    "## With date \n",
    "file_name = \"new_fraud_risk_acc_tbl_for_support_\"\n",
    "today = str(date.today())\n",
    "path_fra_topN_for_support = path + file_name + today + \".csv\"\n",
    "\n",
    "## Save the user accounts for need to be labeled by support team\n",
    "df_fra_topN_for_support.to_csv(path_fra_topN_for_support, sep=\",\", index=False)"
   ]
  },
  {
   "cell_type": "code",
   "execution_count": null,
   "metadata": {},
   "outputs": [],
   "source": [
    "df_fra_topN_for_support.head(25)"
   ]
  },
  {
   "cell_type": "code",
   "execution_count": null,
   "metadata": {},
   "outputs": [],
   "source": [
    "df_fra_topN_for_support.shape"
   ]
  },
  {
   "cell_type": "code",
   "execution_count": null,
   "metadata": {},
   "outputs": [],
   "source": [
    "\"You data file for Support labeling is ready\""
   ]
  }
 ],
 "metadata": {
  "kernelspec": {
   "display_name": "Python 2",
   "language": "python",
   "name": "python2"
  },
  "language_info": {
   "codemirror_mode": {
    "name": "ipython",
    "version": 2
   },
   "file_extension": ".py",
   "mimetype": "text/x-python",
   "name": "python",
   "nbconvert_exporter": "python",
   "pygments_lexer": "ipython2",
   "version": "2.7.17"
  }
 },
 "nbformat": 4,
 "nbformat_minor": 4
}
