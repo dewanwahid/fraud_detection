{
 "cells": [
  {
   "cell_type": "markdown",
   "metadata": {
    "pycharm": {
     "name": "#%% md\n"
    }
   },
   "source": [
    "# Analysis: All Accounts in Last 12 Months"
   ]
  },
  {
   "cell_type": "code",
   "execution_count": null,
   "metadata": {
    "pycharm": {
     "name": "#%%\n"
    }
   },
   "outputs": [],
   "source": [
    "import pandas as pd\n",
    "import seaborn as sns\n",
    "import matplotlib.pyplot as plt\n",
    "plt.style.use('ggplot')\n",
    "get_ipython().magic(u'config IPCompleter.greedy=True')\n",
    "\n",
    "sns.set(color_codes=True)"
   ]
  },
  {
   "cell_type": "markdown",
   "metadata": {
    "pycharm": {
     "name": "#%% md\n"
    }
   },
   "source": [
    "## 1. Import Data"
   ]
  },
  {
   "cell_type": "code",
   "execution_count": null,
   "metadata": {
    "pycharm": {
     "name": "#%%\n"
    }
   },
   "outputs": [],
   "source": [
    "# Import CSV file for final features for different periods\n",
    "df_final_features_day_7  = pd.read_csv(\"final_features_day_7.tsv\", sep=\"\\t\")\n",
    "df_final_features_day_14 = pd.read_csv(\"final_features_day_7.tsv\", sep=\"\\t\")\n",
    "df_final_features_day_21 = pd.read_csv(\"final_features_day_7.tsv\", sep=\"\\t\")\n",
    "df_final_features_day_28 = pd.read_csv(\"final_features_day_7.tsv\", sep=\"\\t\")\n",
    "df_final_features_day_35 = pd.read_csv(\"final_features_day_7.tsv\", sep=\"\\t\")\n",
    "df_final_features_day_42 = pd.read_csv(\"final_features_day_7.tsv\", sep=\"\\t\")\n",
    "df_final_features_day_49 = pd.read_csv(\"final_features_day_7.tsv\", sep=\"\\t\")\n",
    "df_final_features_day_56 = pd.read_csv(\"final_features_day_7.tsv\", sep=\"\\t\")\n",
    "df_final_features_day_63 = pd.read_csv(\"final_features_day_7.tsv\", sep=\"\\t\")\n",
    "df_final_features_day_70 = pd.read_csv(\"final_features_day_7.tsv\", sep=\"\\t\")\n",
    "df_final_features_day_77 = pd.read_csv(\"final_features_day_7.tsv\", sep=\"\\t\")\n",
    "df_final_features_day_84 = pd.read_csv(\"final_features_day_7.tsv\", sep=\"\\t\")\n",
    "df_final_features_day_91 = pd.read_csv(\"final_features_day_7.tsv\", sep=\"\\t\")\n",
    "\n"
   ]
  },
  {
   "cell_type": "code",
   "execution_count": null,
   "metadata": {
    "pycharm": {
     "name": "#%%\n"
    }
   },
   "outputs": [],
   "source": [
    "################################## Import Periodic Invoice Word Counts Data ###############################\n",
    "df_periodic_invoice_all_counts = pd.read_csv(\"\", sep=\"\\t\")"
   ]
  },
  {
   "cell_type": "code",
   "execution_count": null,
   "metadata": {
    "pycharm": {
     "name": "#%%\n"
    }
   },
   "outputs": [],
   "source": [
    "df_periodic_invoice_all_counts.shape"
   ]
  },
  {
   "cell_type": "code",
   "execution_count": null,
   "metadata": {
    "pycharm": {
     "name": "#%%\n"
    }
   },
   "outputs": [],
   "source": [
    "########################################### Import Fraud Data ##############################################\n",
    "df_fraud_accounts_list = pd.read_csv(\" \", sep=\"\\t\")"
   ]
  },
  {
   "cell_type": "code",
   "execution_count": null,
   "metadata": {
    "pycharm": {
     "name": "#%%\n"
    }
   },
   "outputs": [],
   "source": [
    "# Drop unnecessay columns from the \n",
    "df_fraud_accounts_list = df_fraud_accounts_list.drop(columns=['is_account_active', 'is_sales_managed', 'signup_date', 'status_date', 'notes'], axis=1)"
   ]
  },
  {
   "cell_type": "code",
   "execution_count": null,
   "metadata": {
    "pycharm": {
     "name": "#%%\n"
    }
   },
   "outputs": [],
   "source": [
    "# Drop two columns\n",
    "# df_fraud_accounts_list = df_fraud_accounts_list.drop(['is_account_active', 'is_sales_managed'], axis=1)"
   ]
  },
  {
   "cell_type": "markdown",
   "metadata": {
    "pycharm": {
     "name": "#%% md\n"
    }
   },
   "source": [
    "## 2. Excluding all fraud accounts activities"
   ]
  },
  {
   "cell_type": "code",
   "execution_count": null,
   "metadata": {
    "pycharm": {
     "name": "#%%\n"
    }
   },
   "outputs": [],
   "source": [
    "# Periodic invoice activities excluding identified fraud accounts\n",
    "df_merge_all_and_fraud = df_periodic_invoice_all_counts.merge(df_fraud_accounts_list,\n",
    "                                                             on='systemid', how='left', indicator=True)\n",
    "\n",
    "# Drop all fraud accounts from the merge dataframe\n",
    "df_periodic_invoice_all_count_no_fraud = df_merge_all_and_fraud[df_merge_all_and_fraud[\"_merge\"] == \"left_only\"].drop(columns=[\"_merge\"])"
   ]
  },
  {
   "cell_type": "markdown",
   "metadata": {
    "pycharm": {
     "name": "#%% md\n"
    }
   },
   "source": [
    "## 2. Separating outliers and inactive accounts\n",
    "\n",
    "### 2.1 Removing inactive account (except systemid all of the columns entries are zero)"
   ]
  },
  {
   "cell_type": "code",
   "execution_count": null,
   "metadata": {
    "pycharm": {
     "name": "#%%\n"
    }
   },
   "outputs": [],
   "source": [
    "# Function for aggregating selected column values\n",
    "def cell_value_sum (row, ex_cols_list):\n",
    "    #print(row)\n",
    "    sum = 0\n",
    "    cols = range(len(row))\n",
    "    new_cols = list(set(cols) - set(ex_cols_list))\n",
    "    #print(new_cols)\n",
    "    \n",
    "    for i in new_cols:\n",
    "        #print(row[i])\n",
    "        sum =+ row[i]\n",
    "    \n",
    "    #print('Final sum: ', sum)\n",
    "    return sum\n",
    "    "
   ]
  },
  {
   "cell_type": "code",
   "execution_count": null,
   "metadata": {
    "pycharm": {
     "name": "#%%\n"
    },
    "scrolled": true
   },
   "outputs": [],
   "source": [
    "# Removing all inactive acounts (ie. all entries are zeros except 'systemid', 'is_fb_active', 'is_sales_manage')\n",
    "ex_cols_list = [0, 1, 2, 55, 56, 57, 58, 59, 60, 61, 62]\n",
    "df_periodic_invoice_all_count_no_fraud = df_periodic_invoice_all_count_no_fraud[\n",
    "    df_periodic_invoice_all_count_no_fraud.apply(lambda x: cell_value_sum(x, ex_cols_list) > 0, axis=1)]"
   ]
  },
  {
   "cell_type": "markdown",
   "metadata": {
    "pycharm": {
     "name": "#%% md\n"
    }
   },
   "source": [
    "## 3. Analysis: Invoice and Client Counts\n",
    "\n",
    "### 3.1 Invoice vs. Client Plot (Before Removing Outliers)"
   ]
  },
  {
   "cell_type": "code",
   "execution_count": null,
   "metadata": {
    "pycharm": {
     "name": "#%%\n"
    }
   },
   "outputs": [],
   "source": [
    "# Pair-to-pair cross-validation plot\n",
    "fig, axes = plt.subplots(nrows=3, ncols=2, figsize=(15,15))\n",
    "# ax0, ax1, ax2, ax3, ax4, ax5 = axes.flatten()\n",
    "ax7, ax14, ax28, ax56, ax77, ax91 = axes.flatten()\n",
    "\n",
    "#------------------------------------------------------\n",
    "x7 = df_periodic_invoice_all_count_no_fraud['client_count_day_7']\n",
    "y7 = df_periodic_invoice_all_count_no_fraud['invoice_count_day_7']\n",
    "\n",
    "ax7.scatter(x7, y7, edgecolors=(0, 0, 0))\n",
    "ax7.set_xlabel('client_count_day_7')\n",
    "ax7.set_ylabel('invoice_count_day_7')\n",
    "\n",
    "\n",
    "#------------------------------------------------------\n",
    "x14 = df_periodic_invoice_all_count_no_fraud['client_count_day_14']\n",
    "y14 = df_periodic_invoice_all_count_no_fraud['invoice_count_day_14']\n",
    "\n",
    "ax14.scatter(x14, y14, edgecolors=(0, 0, 0))\n",
    "ax14.set_xlabel('client_count_day_14')\n",
    "ax14.set_ylabel('invoice_count_day_14')\n",
    "\n",
    "\n",
    "# ------------------------------------------------------\n",
    "x28 = df_periodic_invoice_all_count_no_fraud['client_count_day_28']\n",
    "y28 = df_periodic_invoice_all_count_no_fraud['invoice_count_day_28']\n",
    "\n",
    "ax28.scatter(x28, y28, edgecolors=(0, 0, 0))\n",
    "ax28.set_xlabel('client_count_day_28')\n",
    "ax28.set_ylabel('invoice_count_day_28')\n",
    "\n",
    "# ------------------------------------------------------\n",
    "x56 = df_periodic_invoice_all_count_no_fraud['client_count_day_56']\n",
    "y56 = df_periodic_invoice_all_count_no_fraud['invoice_count_day_56']\n",
    "\n",
    "ax56.scatter(x56, y56, edgecolors=(0, 0, 0))\n",
    "ax56.set_xlabel('client_count_day_56')\n",
    "ax56.set_ylabel('invoice_count_day_56')\n",
    "\n",
    "# ------------------------------------------------------\n",
    "x77 = df_periodic_invoice_all_count_no_fraud['client_count_day_77']\n",
    "y77 = df_periodic_invoice_all_count_no_fraud['invoice_count_day_77']\n",
    "\n",
    "ax77.scatter(x77, y77, edgecolors=(0, 0, 0))\n",
    "ax77.set_xlabel('client_count_day_77')\n",
    "ax77.set_ylabel('invoice_count_day_77')\n",
    "\n",
    "# ------------------------------------------------------\n",
    "x91 = df_periodic_invoice_all_count_no_fraud['client_count_day_91']\n",
    "y91 = df_periodic_invoice_all_count_no_fraud['invoice_count_day_91']\n",
    "\n",
    "ax91.scatter(x56, y56, edgecolors=(0, 0, 0))\n",
    "ax91.set_xlabel('client_count_day_91')\n",
    "ax91.set_ylabel('invoice_count_day_91')\n",
    "\n",
    "plt.show()"
   ]
  },
  {
   "cell_type": "markdown",
   "metadata": {
    "pycharm": {
     "name": "#%% md\n"
    }
   },
   "source": [
    "### 3.2 Check the summary statistics\n",
    "\n",
    "We can notice in `avg_we_description_day_7` column that the mean is `4.048`, and max is `1797`. There are some outliers driving the max up!"
   ]
  },
  {
   "cell_type": "markdown",
   "metadata": {
    "pycharm": {
     "name": "#%% md\n"
    }
   },
   "source": [
    "### 3.3 Detemine and separation of outliers\n",
    "\n",
    "#### 3.3.1 Determine the client outliers cutoff"
   ]
  },
  {
   "cell_type": "code",
   "execution_count": null,
   "metadata": {
    "pycharm": {
     "name": "#%%\n"
    }
   },
   "outputs": [],
   "source": [
    "# Determine the outliers cutoff (iterative process)\n",
    "outliers_client_cutoff = 200\n",
    "df_sorted = sorted(df_periodic_invoice_all_count_no_fraud['client_count_day_91'])\n",
    "no_outliers = [i for i in df_sorted if i <= outliers_client_cutoff]\n",
    "outliers = [i for i in df_sorted if i > outliers_client_cutoff]"
   ]
  },
  {
   "cell_type": "markdown",
   "metadata": {
    "pycharm": {
     "name": "#%% md\n"
    }
   },
   "source": [
    "#### 3.3.2 Determine the invoice outliers cutoff"
   ]
  },
  {
   "cell_type": "code",
   "execution_count": null,
   "metadata": {
    "pycharm": {
     "name": "#%%\n"
    }
   },
   "outputs": [],
   "source": [
    "# Determine the outliers cutoff (iterative process)\n",
    "outliers_invoice_cutoff = 250\n",
    "df_sorted = sorted(df_periodic_invoice_all_count_no_fraud['invoice_count_day_91'])\n",
    "no_outliers = [i for i in df_sorted if i <= outliers_invoice_cutoff]\n",
    "outliers = [i for i in df_sorted if i > outliers_invoice_cutoff]"
   ]
  },
  {
   "cell_type": "markdown",
   "metadata": {
    "pycharm": {
     "name": "#%% md\n"
    }
   },
   "source": [
    "#### 3.3.3 Sepatating dataframes based on both invoice and client outliers cutoffs"
   ]
  },
  {
   "cell_type": "code",
   "execution_count": null,
   "metadata": {
    "pycharm": {
     "name": "#%%\n"
    }
   },
   "outputs": [],
   "source": [
    "# No client and invoice outliers dataframe\n",
    "df_periodic_invoice_no_client_outliers = df_periodic_invoice_all_count_no_fraud[\n",
    "                            df_periodic_invoice_all_count_no_fraud['client_count_day_91'].astype(int) <= outliers_client_cutoff]\n",
    "\n",
    "df_periodic_invoice_no_client_invoice_outliers = df_periodic_invoice_no_client_outliers[\n",
    "                            df_periodic_invoice_no_client_outliers['invoice_count_day_91'].astype(int) <= outliers_invoice_cutoff]\n"
   ]
  },
  {
   "cell_type": "code",
   "execution_count": null,
   "metadata": {
    "pycharm": {
     "name": "#%%\n"
    }
   },
   "outputs": [],
   "source": [
    "# Outliers \n",
    "df_merge_all = df_periodic_invoice_all_count_no_fraud.merge(df_periodic_invoice_no_client_invoice_outliers['systemid'],\n",
    "                                                             on='systemid', how='left', indicator=True)\n",
    "\n",
    "df_periodic_invoice_outliers = df_merge_all[df_merge_all[\"_merge\"] == \"left_only\"].drop(columns=[\"_merge\"])"
   ]
  },
  {
   "cell_type": "code",
   "execution_count": null,
   "metadata": {
    "pycharm": {
     "name": "#%%\n"
    }
   },
   "outputs": [],
   "source": [
    "# CSV export of the invoice outliers list\n",
    "df_periodic_invoice_outliers.to_csv(\" \", sep=\"\\t\", index=False)"
   ]
  },
  {
   "cell_type": "markdown",
   "metadata": {
    "pycharm": {
     "name": "#%% md\n"
    }
   },
   "source": [
    "#### 3.3.4 Invoice vs. client plot: No Client and Invoice outliers (after sepateing both outliers)"
   ]
  },
  {
   "cell_type": "code",
   "execution_count": null,
   "metadata": {
    "pycharm": {
     "name": "#%%\n"
    }
   },
   "outputs": [],
   "source": [
    "# Pair-to-pair cross-validation plot\n",
    "fig, axes = plt.subplots(nrows=3, ncols=2, figsize=(15,15))\n",
    "# ax0, ax1, ax2, ax3, ax4, ax5 = axes.flatten()\n",
    "ax7, ax14, ax28, ax56, ax77, ax91 = axes.flatten()\n",
    "\n",
    "#------------------------------------------------------\n",
    "x7 = df_periodic_invoice_no_client_invoice_outliers['client_count_day_7']\n",
    "y7 = df_periodic_invoice_no_client_invoice_outliers['invoice_count_day_7']\n",
    "\n",
    "ax7.scatter(x7, y7, edgecolors=(0, 0, 0))\n",
    "ax7.set_xlabel('client_count_day_7')\n",
    "ax7.set_ylabel('invoice_count_day_7')\n",
    "\n",
    "\n",
    "#------------------------------------------------------\n",
    "x14 = df_periodic_invoice_no_client_invoice_outliers['client_count_day_14']\n",
    "y14 = df_periodic_invoice_no_client_invoice_outliers['invoice_count_day_14']\n",
    "\n",
    "ax14.scatter(x14, y14, edgecolors=(0, 0, 0))\n",
    "ax14.set_xlabel('client_count_day_14')\n",
    "ax14.set_ylabel('invoice_count_day_14')\n",
    "\n",
    "\n",
    "# ------------------------------------------------------\n",
    "x28 = df_periodic_invoice_no_client_invoice_outliers['client_count_day_28']\n",
    "y28 = df_periodic_invoice_no_client_invoice_outliers['invoice_count_day_28']\n",
    "\n",
    "ax28.scatter(x28, y28, edgecolors=(0, 0, 0))\n",
    "ax28.set_xlabel('client_count_day_28')\n",
    "ax28.set_ylabel('invoice_count_day_28')\n",
    "\n",
    "# ------------------------------------------------------\n",
    "x56 = df_periodic_invoice_no_client_invoice_outliers['client_count_day_56']\n",
    "y56 = df_periodic_invoice_no_client_invoice_outliers['invoice_count_day_56']\n",
    "\n",
    "ax56.scatter(x56, y56, edgecolors=(0, 0, 0))\n",
    "ax56.set_xlabel('client_count_day_56')\n",
    "ax56.set_ylabel('invoice_count_day_56')\n",
    "\n",
    "# ------------------------------------------------------\n",
    "x77 = df_periodic_invoice_no_client_invoice_outliers['client_count_day_77']\n",
    "y77 = df_periodic_invoice_no_client_invoice_outliers['invoice_count_day_77']\n",
    "\n",
    "ax77.scatter(x77, y77, edgecolors=(0, 0, 0))\n",
    "ax77.set_xlabel('client_count_day_77')\n",
    "ax77.set_ylabel('invoice_count_day_77')\n",
    "\n",
    "# ------------------------------------------------------\n",
    "x91 = df_periodic_invoice_no_client_invoice_outliers['client_count_day_91']\n",
    "y91 = df_periodic_invoice_no_client_invoice_outliers['invoice_count_day_91']\n",
    "\n",
    "ax91.scatter(x56, y56, edgecolors=(0, 0, 0))\n",
    "ax91.set_xlabel('client_count_day_91')\n",
    "ax91.set_ylabel('invoice_count_day_91')\n",
    "\n",
    "plt.show()"
   ]
  },
  {
   "cell_type": "markdown",
   "metadata": {
    "pycharm": {
     "name": "#%% md\n"
    }
   },
   "source": [
    "#### 3.3.5 Invoice vs. client plot: Client and Invoice outliers (after sepateing invoice outliers)"
   ]
  },
  {
   "cell_type": "code",
   "execution_count": null,
   "metadata": {
    "pycharm": {
     "name": "#%%\n"
    }
   },
   "outputs": [],
   "source": [
    "# Pair-to-pair cross-validation plot\n",
    "fig, axes = plt.subplots(nrows=3, ncols=2, figsize=(15,15))\n",
    "# ax0, ax1, ax2, ax3, ax4, ax5 = axes.flatten()\n",
    "ax7, ax14, ax28, ax56, ax77, ax91 = axes.flatten()\n",
    "\n",
    "#------------------------------------------------------\n",
    "x7 = df_periodic_invoice_outliers['client_count_day_7']\n",
    "y7 = df_periodic_invoice_outliers['invoice_count_day_7']\n",
    "\n",
    "ax7.scatter(x7, y7, edgecolors=(0, 0, 0))\n",
    "ax7.set_xlabel('client_count_day_7')\n",
    "ax7.set_ylabel('invoice_count_day_7')\n",
    "\n",
    "\n",
    "#------------------------------------------------------\n",
    "x14 = df_periodic_invoice_outliers['client_count_day_14']\n",
    "y14 = df_periodic_invoice_outliers['invoice_count_day_14']\n",
    "\n",
    "ax14.scatter(x14, y14, edgecolors=(0, 0, 0))\n",
    "ax14.set_xlabel('client_count_day_14')\n",
    "ax14.set_ylabel('invoice_count_day_14')\n",
    "\n",
    "\n",
    "# ------------------------------------------------------\n",
    "x28 = df_periodic_invoice_outliers['client_count_day_28']\n",
    "y28 = df_periodic_invoice_outliers['invoice_count_day_28']\n",
    "\n",
    "ax28.scatter(x28, y28, edgecolors=(0, 0, 0))\n",
    "ax28.set_xlabel('client_count_day_28')\n",
    "ax28.set_ylabel('invoice_count_day_28')\n",
    "\n",
    "# ------------------------------------------------------\n",
    "x56 = df_periodic_invoice_outliers['client_count_day_56']\n",
    "y56 = df_periodic_invoice_outliers['invoice_count_day_56']\n",
    "\n",
    "ax56.scatter(x56, y56, edgecolors=(0, 0, 0))\n",
    "ax56.set_xlabel('client_count_day_56')\n",
    "ax56.set_ylabel('invoice_count_day_56')\n",
    "\n",
    "# ------------------------------------------------------\n",
    "x77 = df_periodic_invoice_outliers['client_count_day_77']\n",
    "y77 = df_periodic_invoice_outliers['invoice_count_day_77']\n",
    "\n",
    "ax77.scatter(x77, y77, edgecolors=(0, 0, 0))\n",
    "ax77.set_xlabel('client_count_day_77')\n",
    "ax77.set_ylabel('invoice_count_day_77')\n",
    "\n",
    "# ------------------------------------------------------\n",
    "x91 = df_periodic_invoice_outliers['client_count_day_91']\n",
    "y91 = df_periodic_invoice_outliers['invoice_count_day_91']\n",
    "\n",
    "ax91.scatter(x56, y56, edgecolors=(0, 0, 0))\n",
    "ax91.set_xlabel('client_count_day_91')\n",
    "ax91.set_ylabel('invoice_count_day_91')\n",
    "\n",
    "plt.show()"
   ]
  },
  {
   "cell_type": "markdown",
   "metadata": {
    "pycharm": {
     "name": "#%% md\n"
    }
   },
   "source": [
    "## 4. Analysis: Separated Periodic Features"
   ]
  },
  {
   "cell_type": "code",
   "execution_count": null,
   "metadata": {
    "pycharm": {
     "name": "#%%\n"
    }
   },
   "outputs": [],
   "source": [
    "# Periodic client count\n",
    "df_periodic_client_counts_no_outliers = df_periodic_invoice_no_client_invoice_outliers[['systemid',\n",
    "                                                         'client_count_day_7',\n",
    "                                                         'client_count_day_14',\n",
    "                                                         'client_count_day_21',\n",
    "                                                         'client_count_day_28',\n",
    "                                                         'client_count_day_35',\n",
    "                                                         'client_count_day_42',\n",
    "                                                         'client_count_day_49',\n",
    "                                                         'client_count_day_56',\n",
    "                                                         'client_count_day_63',\n",
    "                                                         'client_count_day_70',\n",
    "                                                         'client_count_day_77',\n",
    "                                                         'client_count_day_84',\n",
    "                                                         'client_count_day_91']]"
   ]
  },
  {
   "cell_type": "code",
   "execution_count": null,
   "metadata": {
    "pycharm": {
     "name": "#%%\n"
    }
   },
   "outputs": [],
   "source": [
    "# Periodic invoice count\n",
    "df_periodic_invoice_counts_no_outliers = df_periodic_invoice_no_client_invoice_outliers[['systemid',\n",
    "                                                         'invoice_count_day_7',\n",
    "                                                         'invoice_count_day_14',\n",
    "                                                         'invoice_count_day_21',\n",
    "                                                         'invoice_count_day_28',\n",
    "                                                         'invoice_count_day_35',\n",
    "                                                         'invoice_count_day_42',\n",
    "                                                         'invoice_count_day_49',\n",
    "                                                         'invoice_count_day_56',\n",
    "                                                         'invoice_count_day_63',\n",
    "                                                         'invoice_count_day_70',\n",
    "                                                         'invoice_count_day_77',\n",
    "                                                         'invoice_count_day_84',\n",
    "                                                         'invoice_count_day_91']]"
   ]
  },
  {
   "cell_type": "code",
   "execution_count": null,
   "metadata": {
    "pycharm": {
     "name": "#%%\n"
    }
   },
   "outputs": [],
   "source": [
    "# Periodic average word count in invoice description\n",
    "df_periodic_invoice_avg_wc_description_no_outliers = df_periodic_invoice_no_client_invoice_outliers[['systemid',\n",
    "                                                        'avg_wc_description_day_7',\n",
    "                                                        'avg_wc_description_day_14',\n",
    "                                                        'avg_wc_description_day_21',\n",
    "                                                        'avg_wc_description_day_28',\n",
    "                                                        'avg_wc_description_day_35',\n",
    "                                                        'avg_wc_description_day_42',\n",
    "                                                        'avg_wc_description_day_49',\n",
    "                                                        'avg_wc_description_day_56',\n",
    "                                                        'avg_wc_description_day_63',\n",
    "                                                        'avg_wc_description_day_70',\n",
    "                                                        'avg_wc_description_day_77',\n",
    "                                                        'avg_wc_description_day_84',\n",
    "                                                        'avg_wc_description_day_91']]"
   ]
  },
  {
   "cell_type": "code",
   "execution_count": null,
   "metadata": {
    "pycharm": {
     "name": "#%%\n"
    }
   },
   "outputs": [],
   "source": [
    "# Periodic average word count in invoice notes\n",
    "df_periodic_invoice_avg_wc_notes_no_outliers = df_periodic_invoice_no_client_invoice_outliers[['systemid',\n",
    "                                                        'avg_wc_notes_day_7',\n",
    "                                                        'avg_wc_notes_day_14',\n",
    "                                                        'avg_wc_notes_day_21',\n",
    "                                                        'avg_wc_notes_day_28',\n",
    "                                                        'avg_wc_notes_day_35',\n",
    "                                                        'avg_wc_notes_day_42',\n",
    "                                                        'avg_wc_notes_day_49',\n",
    "                                                        'avg_wc_notes_day_56',\n",
    "                                                        'avg_wc_notes_day_63',\n",
    "                                                        'avg_wc_notes_day_70',\n",
    "                                                        'avg_wc_notes_day_77',\n",
    "                                                        'avg_wc_notes_day_84',\n",
    "                                                        'avg_wc_notes_day_91']]"
   ]
  },
  {
   "cell_type": "code",
   "execution_count": null,
   "metadata": {
    "pycharm": {
     "name": "#%%\n"
    }
   },
   "outputs": [],
   "source": [
    "# Periodic average word count in invoice terms\n",
    "df_periodic_invoice_avg_wc_terms_no_outliers = df_periodic_invoice_no_client_invoice_outliers[['systemid',\n",
    "                                                        'avg_wc_terms_day_7',\n",
    "                                                        'avg_wc_terms_day_14',\n",
    "                                                        'avg_wc_terms_day_21',\n",
    "                                                        'avg_wc_terms_day_28',\n",
    "                                                        'avg_wc_terms_day_35',\n",
    "                                                        'avg_wc_terms_day_42',\n",
    "                                                        'avg_wc_terms_day_49',\n",
    "                                                        'avg_wc_terms_day_56',\n",
    "                                                        'avg_wc_terms_day_63',\n",
    "                                                        'avg_wc_terms_day_70',\n",
    "                                                        'avg_wc_terms_day_77',\n",
    "                                                        'avg_wc_terms_day_84',\n",
    "                                                        'avg_wc_terms_day_91']]"
   ]
  },
  {
   "cell_type": "code",
   "execution_count": null,
   "metadata": {
    "pycharm": {
     "name": "#%%\n"
    }
   },
   "outputs": [],
   "source": [
    "# Periodic average word count in invoice address\n",
    "df_periodic_invoice_avg_wc_address_no_outliers = df_periodic_invoice_no_client_invoice_outliers[['systemid',\n",
    "                                                        'avg_wc_address_day_7',\n",
    "                                                        'avg_wc_address_day_14',\n",
    "                                                        'avg_wc_address_day_21',\n",
    "                                                        'avg_wc_address_day_28',\n",
    "                                                        'avg_wc_address_day_35',\n",
    "                                                        'avg_wc_address_day_42',\n",
    "                                                        'avg_wc_address_day_49',\n",
    "                                                        'avg_wc_address_day_56',\n",
    "                                                        'avg_wc_address_day_63',\n",
    "                                                        'avg_wc_address_day_70',\n",
    "                                                        'avg_wc_address_day_77',\n",
    "                                                        'avg_wc_address_day_84',\n",
    "                                                        'avg_wc_address_day_91']]"
   ]
  }
 ],
 "metadata": {
  "kernelspec": {
   "display_name": "Python 2",
   "language": "python",
   "name": "python2"
  },
  "language_info": {
   "codemirror_mode": {
    "name": "ipython",
    "version": 2
   },
   "file_extension": ".py",
   "mimetype": "text/x-python",
   "name": "python",
   "nbconvert_exporter": "python",
   "pygments_lexer": "ipython2",
   "version": "2.7.17"
  }
 },
 "nbformat": 4,
 "nbformat_minor": 2
}
