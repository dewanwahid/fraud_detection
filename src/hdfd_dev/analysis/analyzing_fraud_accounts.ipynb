{
 "cells": [
  {
   "cell_type": "markdown",
   "metadata": {
    "pycharm": {
     "name": "#%% md\n"
    }
   },
   "source": [
    "# Analysis: Identified Fraud Accounts\n",
    "\n",
    "#### Goal:\n",
    "Define fraud/bad actors in platform.\n"
   ]
  },
  {
   "cell_type": "code",
   "execution_count": null,
   "metadata": {
    "pycharm": {
     "name": "#%%\n"
    }
   },
   "outputs": [],
   "source": [
    "import pandas as pd\n",
    "import numpy as np\n",
    "import matplotlib.pyplot as plt\n",
    "import multipolyfit as mpf\n",
    "import seaborn as sns\n",
    "plt.style.use('ggplot')\n",
    "from scipy import stats\n",
    "get_ipython().magic(u'config IPCompleter.greedy=True')\n",
    "\n",
    "sns.set(color_codes=True) "
   ]
  },
  {
   "cell_type": "markdown",
   "metadata": {
    "pycharm": {
     "name": "#%% md\n"
    }
   },
   "source": [
    "## Fraud Accounts Lifespan"
   ]
  },
  {
   "cell_type": "code",
   "execution_count": null,
   "metadata": {
    "pycharm": {
     "name": "#%%\n"
    }
   },
   "outputs": [],
   "source": [
    "## Import fraud account life span (days to ban) data\n",
    "df_fraud_accounts_lifespan =pd.read_csv(\" \", sep=\"\\t\")\n",
    "\n",
    "\n",
    "## Droping 'NaN' by zero \n",
    "df_fraud_accounts_lifespan = df_fraud_accounts_lifespan.fillna(0)"
   ]
  },
  {
   "cell_type": "markdown",
   "metadata": {
    "pycharm": {
     "name": "#%% md\n"
    }
   },
   "source": [
    "### Lifespan distribution of the fraud accounts"
   ]
  },
  {
   "cell_type": "code",
   "execution_count": null,
   "metadata": {
    "pycharm": {
     "name": "#%%\n"
    }
   },
   "outputs": [],
   "source": [
    "## Histogram to represent the account_frequency vs. days_before_ban\n",
    "plt.hist(df_fraud_accounts_lifespan['days_before_ban'], bins=39)\n",
    "plt.xlabel('days_before_ban')\n",
    "plt.ylabel('fraudaccounts_frequency')\n",
    "plt.title('Lifespan distribution of the fraud accounts')\n",
    "plt.show()\n",
    "\n",
    "## Save figure\n",
    "path = \"\"\n",
    "fig_name = path + 'fig_fraud_accounts_lifespan.png'\n",
    "plt.savefig(fig_name)"
   ]
  },
  {
   "cell_type": "code",
   "execution_count": null,
   "metadata": {
    "pycharm": {
     "name": "#%%\n"
    }
   },
   "outputs": [],
   "source": [
    "## Histogram to represent the account_frequency vs. days_before_ban (closer look)\n",
    "n_bins = 13\n",
    "outliers_cutoff = 91\n",
    "\n",
    "histo_fraud_accounts_lifespan= sorted(df_fraud_accounts_lifespan['days_before_ban'])\n",
    "histo_fraud_accounts_lifespan_leOutlier = [i for i in histo_fraud_accounts_lifespan if i < outliers_cutoff]\n",
    "histo_fraud_accounts_lifespan_geOutlier = [i for i in histo_fraud_accounts_lifespan if i > outliers_cutoff]\n",
    "histo_fraud_accounts_lifespan = [histo_fraud_accounts_lifespan_leOutlier, histo_fraud_accounts_lifespan_geOutlier ] \n",
    "\n",
    "plt.hist(histo_fraud_accounts_lifespan_leOutlier, n_bins, density=False, histtype='bar')\n",
    "plt.xlabel('days_before_ban')\n",
    "plt.ylabel('accounts_frequency')\n",
    "# plt.xticks(ind, ('0', '01', '02', '03', '04', '05', '06', '07', '08', '09', '10', '11', '12', '13'))\n",
    "plt.title('Lifesapn distribution of fraud accounts (within first 13 weeks)')\n",
    "\n",
    "## Save Figure\n",
    "path = \"\"\n",
    "fig_name = path + 'fig_fraud_accounts_lifespan_le100days.png'\n",
    "plt.savefig(fig_name)"
   ]
  },
  {
   "cell_type": "markdown",
   "metadata": {
    "pycharm": {
     "name": "#%% md\n"
    }
   },
   "source": [
    "### Data Import: Identified Fraud and Non-Fraud Accounts Features"
   ]
  },
  {
   "cell_type": "code",
   "execution_count": null,
   "metadata": {
    "pycharm": {
     "name": "#%%\n"
    }
   },
   "outputs": [],
   "source": [
    "## Importing Identifed Fraud Accounts\n",
    "df_fraud_accounts_activity_day_07 = pd.read_csv(\"fraud_accounts_features_day_07.tsv\", sep=\"\\t\")\n",
    "df_fraud_accounts_activity_day_14 = pd.read_csv(\"fraud_accounts_features_day_14.tsv\", sep=\"\\t\")\n",
    "df_fraud_accounts_activity_day_21 = pd.read_csv(\"fraud_accounts_features_day_21.tsv\", sep=\"\\t\")\n",
    "df_fraud_accounts_activity_day_28 = pd.read_csv(\"fraud_accounts_features_day_28.tsv\", sep=\"\\t\")\n",
    "df_fraud_accounts_activity_day_35 = pd.read_csv(\"fraud_accounts_features_day_35.tsv\", sep=\"\\t\")\n",
    "df_fraud_accounts_activity_day_42 = pd.read_csv(\"fraud_accounts_features_day_42.tsv\", sep=\"\\t\")\n",
    "df_fraud_accounts_activity_day_49 = pd.read_csv(\"fraud_accounts_features_day_49.tsv\", sep=\"\\t\")\n",
    "df_fraud_accounts_activity_day_56 = pd.read_csv(\"fraud_accounts_features_day_56.tsv\", sep=\"\\t\")\n",
    "df_fraud_accounts_activity_day_63 = pd.read_csv(\"fraud_accounts_features_day_63.tsv\", sep=\"\\t\")\n",
    "df_fraud_accounts_activity_day_70 = pd.read_csv(\"fraud_accounts_features_day_70.tsv\", sep=\"\\t\")\n",
    "df_fraud_accounts_activity_day_77 = pd.read_csv(\"fraud_accounts_features_day_77.tsv\", sep=\"\\t\")\n",
    "df_fraud_accounts_activity_day_84 = pd.read_csv(\"fraud_accounts_features_day_84.tsv\", sep=\"\\t\")\n",
    "df_fraud_accounts_activity_day_91 = pd.read_csv(\"fraud_accounts_features_day_91.tsv\", sep=\"\\t\")\n"
   ]
  },
  {
   "cell_type": "code",
   "execution_count": null,
   "metadata": {
    "pycharm": {
     "name": "#%%\n"
    }
   },
   "outputs": [],
   "source": [
    "## Importing Identified Non-Fraud Accounts\n",
    "df_non_fraud_accounts_activity_day_07 =\\\n",
    "    pd.read_csv(\"non_fraud_accounts_features_day_07_20180801_20190730.tsv\", sep=\"\\t\")"
   ]
  },
  {
   "cell_type": "code",
   "execution_count": null,
   "metadata": {
    "pycharm": {
     "name": "#%%\n"
    }
   },
   "outputs": [],
   "source": [
    "## Importing Identified All Accounts\n",
    "df_all_accounts_day_07 =\\\n",
    "    pd.read_csv(\"final_features_day_07_no_fbtest_onlyimp.tsv\", sep=\"\\t\")"
   ]
  },
  {
   "cell_type": "markdown",
   "metadata": {
    "pycharm": {
     "name": "#%% md\n"
    }
   },
   "source": [
    "### Indentifying Features Importance with Scores"
   ]
  },
  {
   "cell_type": "code",
   "execution_count": null,
   "metadata": {
    "pycharm": {
     "name": "#%%\n"
    }
   },
   "outputs": [],
   "source": [
    "## Creating a merge (Non Fraud and Fraud accounts) data set\n",
    "df_fraud_data_07 = df_fraud_accounts_activity_day_07.copy()\n",
    "df_fraud_data_07['fraud_label'] = '1'        # adding fraud_label = 1 in the fraud accounts\n",
    "\n",
    "df_non_fraud_data_07 = df_non_fraud_accounts_activity_day_07.copy()\n",
    "df_non_fraud_data_07['fraud_label'] = '0'    # adding fraud_label = 0 in the non-fraud accounts\n",
    "\n",
    "df_data_07 = df_fraud_data_07.append(df_non_fraud_data_07)  # Joining fraud and non-fraud data sets\n",
    "df_data_07 = df_data_07.reset_index(drop=True)"
   ]
  },
  {
   "cell_type": "code",
   "execution_count": null,
   "metadata": {
    "pycharm": {
     "name": "#%%\n"
    }
   },
   "outputs": [],
   "source": [
    "# Renaming columns names\n",
    "df_data_07.rename(columns={ 'avg_wc_address_day_7': 'avg_wc_address', \n",
    "                    'avg_wc_description_day_7': 'avg_wc_description',\n",
    "                    'avg_wc_notes_day_7': 'avg_wc_notes',\n",
    "                    'avg_wc_terms_day_7': 'avg_wc_terms',\n",
    "                    'client_count_day_7': 'client_count',\n",
    "                    'invoice_count_day_7': 'invoice_count'}, inplace=True)"
   ]
  },
  {
   "cell_type": "code",
   "execution_count": null,
   "metadata": {
    "pycharm": {
     "name": "#%%\n"
    }
   },
   "outputs": [],
   "source": [
    "# Create a copy of the datafram for analysis\n",
    "df_data_07_v2 = df_data_07.copy()\n",
    "df = df_data_07.copy()"
   ]
  },
  {
   "cell_type": "code",
   "execution_count": null,
   "metadata": {
    "pycharm": {
     "name": "#%%\n"
    }
   },
   "outputs": [],
   "source": [
    "## Drop Identifying columns\n",
    "columns = ['admin_email', 'is_account_active', \n",
    "           'is_paying', 'effective_date', 'is_sales_managed', \n",
    "           'signup_date', 'systemid', 'days_on_platform']\n",
    "df_data_07_v2.drop(columns, inplace=True, axis=1)"
   ]
  },
  {
   "cell_type": "code",
   "execution_count": null,
   "metadata": {
    "pycharm": {
     "name": "#%%\n"
    }
   },
   "outputs": [],
   "source": [
    "## Spliting data (X) and target (y) \n",
    "target = ['fraud_label']\n",
    "y = df_data_07_v2['fraud_label']\n",
    "\n",
    "df_data_07_v2.drop(target, inplace=True, axis=1)\n",
    "X = df_data_07_v2"
   ]
  },
  {
   "cell_type": "code",
   "execution_count": null,
   "metadata": {
    "pycharm": {
     "name": "#%%\n"
    }
   },
   "outputs": [],
   "source": [
    "from sklearn.datasets import make_classification\n",
    "from sklearn.ensemble import ExtraTreesClassifier\n",
    "\n",
    "\n",
    "# Build a forest and compute the feature importances\n",
    "forest = ExtraTreesClassifier(n_estimators=250,\n",
    "                              random_state=0)\n",
    "\n",
    "forest.fit(X, y)\n",
    "importances = forest.feature_importances_\n",
    "std = np.std([tree.feature_importances_ for tree in forest.estimators_],\n",
    "             axis=0)\n",
    "indices = np.argsort(importances)[::-1]"
   ]
  },
  {
   "cell_type": "markdown",
   "metadata": {
    "pycharm": {
     "name": "#%% md\n"
    }
   },
   "source": [
    "### Features Distributions Similarity Measures\n"
   ]
  },
  {
   "cell_type": "code",
   "execution_count": null,
   "metadata": {
    "pycharm": {
     "name": "#%%\n"
    }
   },
   "outputs": [],
   "source": [
    "######### Day 07 GMM Clusters Distribution Distances #######################################"
   ]
  },
  {
   "cell_type": "code",
   "execution_count": null,
   "metadata": {
    "pycharm": {
     "name": "#%%\n"
    }
   },
   "outputs": [],
   "source": [
    "## Day 07: Fraud accounts activity day\n",
    "columns1 = ['admin_email', 'days_on_platform', 'effective_date', 'is_sales_managed', 'signup_date', 'systemid']\n",
    "df_fraud_accounts_activity_day_07.drop(columns1, inplace=True, axis=1)"
   ]
  },
  {
   "cell_type": "code",
   "execution_count": null,
   "metadata": {
    "pycharm": {
     "name": "#%%\n"
    }
   },
   "outputs": [],
   "source": [
    "df_fra_day_07_avg = pd.DataFrame(df_fraud_accounts_activity_day_07.mean())"
   ]
  },
  {
   "cell_type": "code",
   "execution_count": null,
   "metadata": {
    "pycharm": {
     "name": "#%%\n"
    }
   },
   "outputs": [],
   "source": [
    "## Import GMM (Day 07) clustering outputs\n",
    "df_gmm_day_07 =\\\n",
    "    pd.read_csv(\"gmm_clustering_outputs_day_07_k7.tsv\", sep=\"\\t\")"
   ]
  },
  {
   "cell_type": "code",
   "execution_count": null,
   "metadata": {
    "pycharm": {
     "name": "#%%\n"
    }
   },
   "outputs": [],
   "source": [
    "## Separating 'systemid' according to 'cluster_id'\n",
    "df_c0 = df_gmm_day_07[df_gmm_day_07.cluster_id == 0]\n",
    "df_c1 = df_gmm_day_07[df_gmm_day_07.cluster_id == 1]\n",
    "df_c2 = df_gmm_day_07[df_gmm_day_07.cluster_id == 2]\n",
    "df_c3 = df_gmm_day_07[df_gmm_day_07.cluster_id == 3]\n",
    "df_c4 = df_gmm_day_07[df_gmm_day_07.cluster_id == 4]\n",
    "df_c5 = df_gmm_day_07[df_gmm_day_07.cluster_id == 5]\n",
    "df_c6 = df_gmm_day_07[df_gmm_day_07.cluster_id == 6]"
   ]
  },
  {
   "cell_type": "code",
   "execution_count": null,
   "metadata": {
    "pycharm": {
     "name": "#%%\n"
    }
   },
   "outputs": [],
   "source": [
    "## Droping non-numeric features\n",
    "columns2 = ['systemid', 'cluster_id']\n",
    "df_c0.drop(columns2, inplace=True, axis=1)\n",
    "df_c1.drop(columns2, inplace=True, axis=1)\n",
    "df_c2.drop(columns2, inplace=True, axis=1)\n",
    "df_c3.drop(columns2, inplace=True, axis=1)\n",
    "df_c4.drop(columns2, inplace=True, axis=1)\n",
    "df_c5.drop(columns2, inplace=True, axis=1)\n",
    "df_c6.drop(columns2, inplace=True, axis=1)"
   ]
  },
  {
   "cell_type": "code",
   "execution_count": null,
   "metadata": {
    "pycharm": {
     "name": "#%%\n"
    }
   },
   "outputs": [],
   "source": [
    "## Calculating \n",
    "df_c0_day_07_avg = pd.DataFrame(df_c0.mean())\n",
    "df_c1_day_07_avg = pd.DataFrame(df_c1.mean())\n",
    "df_c2_day_07_avg = pd.DataFrame(df_c2.mean())\n",
    "df_c3_day_07_avg = pd.DataFrame(df_c3.mean())\n",
    "df_c4_day_07_avg = pd.DataFrame(df_c4.mean())\n",
    "df_c5_day_07_avg = pd.DataFrame(df_c5.mean())\n",
    "df_c6_day_07_avg = pd.DataFrame(df_c6.mean())"
   ]
  },
  {
   "cell_type": "code",
   "execution_count": null,
   "metadata": {
    "pycharm": {
     "name": "#%%\n"
    }
   },
   "outputs": [],
   "source": [
    "## Calculating distance between two distribution\n",
    "from scipy.spatial import distance\n",
    "d0 = distance.minkowski(df_fra_day_07_avg, df_c0_day_07_avg)\n",
    "d1 = distance.minkowski(df_fra_day_07_avg, df_c1_day_07_avg)\n",
    "d2 = distance.minkowski(df_fra_day_07_avg, df_c2_day_07_avg)\n",
    "d3 = distance.minkowski(df_fra_day_07_avg, df_c3_day_07_avg)\n",
    "d4 = distance.minkowski(df_fra_day_07_avg, df_c4_day_07_avg)\n",
    "d5 = distance.minkowski(df_fra_day_07_avg, df_c5_day_07_avg)\n",
    "d6 = distance.minkowski(df_fra_day_07_avg, df_c6_day_07_avg)"
   ]
  },
  {
   "cell_type": "code",
   "execution_count": null,
   "metadata": {
    "pycharm": {
     "name": "#%%\n"
    }
   },
   "outputs": [],
   "source": [
    "# Store and print cluster sizes \n",
    "cls_dist  = {'cluster_id': ['cluster 00', \n",
    "                            'cluster 01', \n",
    "                            'cluster 02', \n",
    "                            'cluster 03', \n",
    "                            'cluster 04', \n",
    "                            'cluster 05', \n",
    "                            'cluster 06'], \n",
    "             'W01' : [d0, d1, d2, d3, d4, d5, d6]}\n",
    "df_cls_dist = pd.DataFrame(cls_dist, columns =['cluster_id', 'W01'])\n",
    "df_cls_dist"
   ]
  },
  {
   "cell_type": "markdown",
   "metadata": {
    "pycharm": {
     "name": "#%% md\n"
    }
   },
   "source": [
    "### Fraud Account: Mutual Features' Dependency Plot:- 'invoice_count' vs. 'client_count'"
   ]
  },
  {
   "cell_type": "code",
   "execution_count": null,
   "metadata": {
    "pycharm": {
     "name": "#%%\n"
    }
   },
   "outputs": [],
   "source": [
    "## 'declinedonlinepaymentnotification' vs. 'surveyquestionanswered'\n",
    "feature_x = 'invoice_count_day_7'\n",
    "feature_y = 'client_count_day_7'\n",
    "\n",
    "## Features data\n",
    "x1 = df_fraud_accounts_activity_day_07[feature_x]\n",
    "y1 = df_fraud_accounts_activity_day_07[feature_y]\n",
    "\n",
    "# Train Algorithm (Polynomial)\n",
    "degree = 3\n",
    "poly_fit = np.poly1d(np.polyfit(x1, y1, degree))\n",
    "\n",
    "# Polynomial fit plot data\n",
    "xx = np.linspace(min(x1), max(x1), 10000)\n",
    "plt.plot(xx, poly_fit(xx), c='r',linestyle='-')\n",
    "\n",
    "## Features mutual scatter plots\n",
    "plt.scatter(x1, y1, edgecolors=(0, 0, 0))\n",
    "plt.title('Features mutual dependency plot')\n",
    "plt.xlabel('invoice_count')\n",
    "plt.ylabel(feature_y)\n",
    "\n",
    "plt.show()"
   ]
  },
  {
   "cell_type": "code",
   "execution_count": null,
   "metadata": {
    "pycharm": {
     "name": "#%%\n"
    }
   },
   "outputs": [],
   "source": [
    "## Identify the outliers index\n",
    "# for i in range(0,333):\n",
    "#     print(i, x1[i], y1[i])"
   ]
  },
  {
   "cell_type": "code",
   "execution_count": null,
   "metadata": {
    "pycharm": {
     "name": "#%%\n"
    }
   },
   "outputs": [],
   "source": [
    "## Check the removing of the outliers\n",
    "# for i in range(0,len(x2)-1):\n",
    "#     print(i, x2[i], y2[i])"
   ]
  },
  {
   "cell_type": "code",
   "execution_count": null,
   "metadata": {
    "pycharm": {
     "name": "#%%\n"
    }
   },
   "outputs": [],
   "source": [
    "# Train Algorithm (Polynomial)\n",
    "degree = 2\n",
    "poly_fit = np.poly1d(np.polyfit(x2, y2, degree))\n",
    "\n",
    "# Polynomial fit plot data\n",
    "xx = np.linspace(min(x2), max(x2), 10000)\n",
    "# plt.plot(xx, poly_fit(xx), c='r',linestyle='-')\n",
    "\n",
    "## Features mutual scatter plots\n",
    "plt.scatter(x2, y2, edgecolors=(0, 0, 0))\n",
    "plt.title('Indentifie Fraud: Mutual features\\' dependency plot')\n",
    "plt.xlabel('invoice_count')\n",
    "plt.ylabel('client_count')\n",
    "\n",
    "plt.show()"
   ]
  },
  {
   "cell_type": "markdown",
   "metadata": {
    "pycharm": {
     "name": "#%% md\n"
    }
   },
   "source": [
    "### Fraud Account: Mutual Features' Dependency Plot: 'invoice_count' vs. 'emailinvoice'"
   ]
  },
  {
   "cell_type": "code",
   "execution_count": null,
   "metadata": {
    "pycharm": {
     "name": "#%%\n"
    }
   },
   "outputs": [],
   "source": [
    "## 'declinedonlinepaymentnotification' vs. 'emailsent'\n",
    "feature_x = 'invoice_count_day_7'\n",
    "feature_y = 'emailsent'\n",
    "\n",
    "## Features data\n",
    "x1 = df_fraud_accounts_activity_day_07[feature_x]\n",
    "y1 = df_fraud_accounts_activity_day_07[feature_y]\n",
    "\n",
    "# Train Algorithm (Polynomial)\n",
    "degree = 3\n",
    "poly_fit = np.poly1d(np.polyfit(x1, y1, degree))\n",
    "\n",
    "# Polynomial fit plot data\n",
    "xx = np.linspace(min(x1), max(x1), 10000)\n",
    "plt.plot(xx, poly_fit(xx), c='r',linestyle='-')\n",
    "\n",
    "## Features mutual scatter plots\n",
    "plt.scatter(x1, y1, edgecolors=(0, 0, 0))\n",
    "plt.title('Mutual features\\' dependency plot')\n",
    "plt.xlabel('invoice_count')\n",
    "plt.ylabel(feature_y)\n",
    "\n",
    "plt.show()"
   ]
  },
  {
   "cell_type": "code",
   "execution_count": null,
   "metadata": {
    "pycharm": {
     "name": "#%%\n"
    }
   },
   "outputs": [],
   "source": [
    "## Identify the outliers index\n",
    "# for i in range(0,333):\n",
    "#     print(i, x1[i], y1[i])"
   ]
  },
  {
   "cell_type": "code",
   "execution_count": null,
   "metadata": {
    "pycharm": {
     "name": "#%%\n"
    }
   },
   "outputs": [],
   "source": [
    "## Removing the outliers\n",
    "x2 = []\n",
    "y2 = []\n",
    "\n",
    "out = [2, 7, 19, 26, 51, 56, 57, 89, 185, 193, \n",
    "       203, 207, 212, 225, 228, 237, 242, 243, 247, \n",
    "       248, 258, 262, 275, 310]\n",
    "for i in range(0, 332):\n",
    "    if i in out:\n",
    "        continue\n",
    "    else:\n",
    "        x2.append(x1[i])\n",
    "        y2.append(y1[i])\n"
   ]
  },
  {
   "cell_type": "code",
   "execution_count": null,
   "metadata": {
    "pycharm": {
     "name": "#%%\n"
    }
   },
   "outputs": [],
   "source": [
    "## Plot after removing outliers\n",
    "# Train Algorithm (Polynomial)\n",
    "degree = 2\n",
    "poly_fit = np.poly1d(np.polyfit(x2, y2, degree))\n",
    "\n",
    "# Polynomial fit plot data\n",
    "xx = np.linspace(min(x2), max(x2), 10000)\n",
    "# plt.plot(xx, poly_fit(xx), c='r',linestyle='-')\n",
    "\n",
    "## Features mutual scatter plots\n",
    "plt.scatter(x2, y2, edgecolors=(0, 0, 0))\n",
    "plt.title('Identified Fraud: Mutual features\\' dependency plot')\n",
    "plt.xlabel('invoice_count')\n",
    "plt.ylabel(feature_y)\n",
    "\n",
    "plt.show()"
   ]
  },
  {
   "cell_type": "markdown",
   "metadata": {
    "pycharm": {
     "name": "#%% md\n"
    }
   },
   "source": [
    "### Non Fraud Account: Mutual Features' Dependency Plot - 'invoice_count' vs. 'emailsent'"
   ]
  },
  {
   "cell_type": "code",
   "execution_count": null,
   "metadata": {
    "pycharm": {
     "name": "#%%\n"
    }
   },
   "outputs": [],
   "source": [
    "## 'declinedonlinepaymentnotification' vs. 'emailsent'\n",
    "feature_x = 'invoice_count_day_7'\n",
    "feature_y = 'emailsent'\n",
    "\n",
    "## Features data\n",
    "x1 = df_non_fraud_accounts_activity_day_07[feature_x]\n",
    "y1 = df_non_fraud_accounts_activity_day_07[feature_y]\n",
    "\n",
    "# Train Algorithm (Polynomial)\n",
    "degree = 3\n",
    "poly_fit = np.poly1d(np.polyfit(x1, y1, degree))\n",
    "\n",
    "# Polynomial fit plot data\n",
    "xx = np.linspace(min(x1), max(x1), 10000)\n",
    "plt.plot(xx, poly_fit(xx), c='r',linestyle='-')\n",
    "\n",
    "## Features mutual scatter plots\n",
    "plt.scatter(x1, y1, edgecolors=(0, 0, 0))\n",
    "plt.title('Identified Non-Fraud Accounts: Mutual features\\' dependency plot')\n",
    "plt.xlabel('invoice_count')\n",
    "plt.ylabel(feature_y)\n",
    "\n",
    "plt.show()"
   ]
  },
  {
   "cell_type": "code",
   "execution_count": null,
   "metadata": {
    "pycharm": {
     "name": "#%%\n"
    }
   },
   "outputs": [],
   "source": [
    "## Identify the outliers index\n",
    "# for i in range(0,len(x1)-1):\n",
    "#     print(i, x1[i], y1[i])"
   ]
  },
  {
   "cell_type": "code",
   "execution_count": null,
   "metadata": {
    "pycharm": {
     "name": "#%%\n"
    }
   },
   "outputs": [],
   "source": [
    "## Removing the outliers\n",
    "x2 = []\n",
    "y2 = []\n",
    "\n",
    "out = [127, 173,2, 173, 201, 228, 267]\n",
    "for i in range(0, len(x1)):\n",
    "    if i in out:\n",
    "        continue\n",
    "    else:\n",
    "        x2.append(x1[i])\n",
    "        y2.append(y1[i])\n"
   ]
  },
  {
   "cell_type": "code",
   "execution_count": null,
   "metadata": {
    "pycharm": {
     "name": "#%%\n"
    }
   },
   "outputs": [],
   "source": [
    "## Plot after removing outliers\n",
    "# Train Algorithm (Polynomial)\n",
    "degree = 2\n",
    "poly_fit = np.poly1d(np.polyfit(x2, y2, degree))\n",
    "\n",
    "# Polynomial fit plot data\n",
    "xx = np.linspace(min(x2), max(x2), 10000)\n",
    "# plt.plot(xx, poly_fit(xx), c='r',linestyle='-')\n",
    "\n",
    "## Features mutual scatter plots\n",
    "plt.scatter(x2, y2, edgecolors=(0, 0, 0))\n",
    "plt.title('Identified Non-Fraud: Mutual features\\' dependency plot')\n",
    "plt.xlabel('invoice_count')\n",
    "plt.ylabel(feature_y)\n",
    "\n",
    "plt.show()"
   ]
  },
  {
   "cell_type": "markdown",
   "metadata": {
    "pycharm": {
     "name": "#%% md\n"
    }
   },
   "source": [
    "### Non Fraud Account: Mutual Dependency Plot - 'invoice_count' vs. 'client_count'"
   ]
  },
  {
   "cell_type": "code",
   "execution_count": null,
   "metadata": {
    "pycharm": {
     "name": "#%%\n"
    }
   },
   "outputs": [],
   "source": [
    "## 'declinedonlinepaymentnotification' vs. 'emailsent'\n",
    "feature_x = 'invoice_count_day_7'\n",
    "feature_y = 'client_count_day_7'\n",
    "\n",
    "## Features data\n",
    "x1 = df_non_fraud_accounts_activity_day_07[feature_x]\n",
    "y1 = df_non_fraud_accounts_activity_day_07[feature_y]\n",
    "\n",
    "# Train Algorithm (Polynomial)\n",
    "degree = 3\n",
    "poly_fit = np.poly1d(np.polyfit(x1, y1, degree))\n",
    "\n",
    "# Polynomial fit plot data\n",
    "xx = np.linspace(min(x1), max(x1), 10000)\n",
    "plt.plot(xx, poly_fit(xx), c='r',linestyle='-')\n",
    "\n",
    "## Features mutual scatter plots\n",
    "plt.scatter(x1, y1, edgecolors=(0, 0, 0))\n",
    "plt.title('Identified Non-Fraud Accounts: Mutual features\\' dependency plot')\n",
    "plt.xlabel('invoice_count')\n",
    "plt.ylabel(feature_y)\n",
    "\n",
    "plt.show()"
   ]
  },
  {
   "cell_type": "code",
   "execution_count": null,
   "metadata": {
    "pycharm": {
     "name": "#%%\n"
    }
   },
   "outputs": [],
   "source": [
    "## Identify the outliers index\n",
    "# for i in range(0,len(x1)-1):\n",
    "#     print(i, x1[i], y1[i])"
   ]
  },
  {
   "cell_type": "code",
   "execution_count": null,
   "metadata": {
    "pycharm": {
     "name": "#%%\n"
    }
   },
   "outputs": [],
   "source": []
  },
  {
   "cell_type": "code",
   "execution_count": null,
   "metadata": {
    "pycharm": {
     "name": "#%%\n"
    }
   },
   "outputs": [],
   "source": [
    "## Removing the outliers\n",
    "x2 = []\n",
    "y2 = []\n",
    "\n",
    "out = [21, 32, 91, 149, 155, 170, 184, 201, 228, 234, 264, 267, 285]\n",
    "for i in range(0, len(x1)):\n",
    "    if i in out:\n",
    "        continue\n",
    "    else:\n",
    "        x2.append(x1[i])\n",
    "        y2.append(y1[i])\n"
   ]
  },
  {
   "cell_type": "code",
   "execution_count": null,
   "metadata": {
    "pycharm": {
     "name": "#%%\n"
    }
   },
   "outputs": [],
   "source": [
    "## Plot after removing outliers\n",
    "# Train Algorithm (Polynomial)\n",
    "degree = 2\n",
    "poly_fit = np.poly1d(np.polyfit(x2, y2, degree))\n",
    "\n",
    "# Polynomial fit plot data\n",
    "xx = np.linspace(min(x2), max(x2), 10000)\n",
    "# plt.plot(xx, poly_fit(xx), c='r',linestyle='-')\n",
    "\n",
    "## Features mutual scatter plots\n",
    "plt.scatter(x2, y2, edgecolors=(0, 0, 0))\n",
    "plt.title('Identified Non-Fraud: Mutual features\\' dependency plot')\n",
    "plt.xlabel('invoice_count')\n",
    "plt.ylabel('client_count')\n",
    "\n",
    "plt.show()"
   ]
  },
  {
   "cell_type": "markdown",
   "metadata": {
    "pycharm": {
     "name": "#%% md\n"
    }
   },
   "source": [
    "### All Accounts: Mutual Features' Dependency Plot"
   ]
  },
  {
   "cell_type": "code",
   "execution_count": null,
   "metadata": {
    "pycharm": {
     "name": "#%%\n"
    }
   },
   "outputs": [],
   "source": [
    "## 'declinedonlinepaymentnotification' vs. 'emailsent'\n",
    "feature_x = 'invoice_count_day_7'\n",
    "feature_y = 'client_count_day_7'\n",
    "\n",
    "## Features data\n",
    "x3 = df_all_accounts_day_07[feature_x]\n",
    "y3 = df_all_accounts_day_07[feature_y]\n",
    "\n",
    "## Features mutual scatter plots\n",
    "plt.scatter(x3, y3, edgecolors=(0, 0, 0))\n",
    "plt.title('All Accounts: Mutual features\\' dependency plot')\n",
    "plt.xlabel('invoice_count')\n",
    "plt.ylabel(feature_y)\n",
    "\n",
    "plt.show()"
   ]
  },
  {
   "cell_type": "code",
   "execution_count": null,
   "metadata": {
    "pycharm": {
     "name": "#%%\n"
    }
   },
   "outputs": [],
   "source": [
    "## Removing outliers\n",
    "x4 = []\n",
    "y4 = []\n",
    "\n",
    "x_cut = 1000\n",
    "y_cut = 5000\n",
    "\n",
    "for i in range(0, len(x3)-1):\n",
    "    if x3[i] < x_cut and y3[i] < y_cut :\n",
    "        x4.append(x3[i])\n",
    "        y4.append(y3[i])\n",
    "    else:\n",
    "        continue"
   ]
  },
  {
   "cell_type": "code",
   "execution_count": null,
   "metadata": {
    "pycharm": {
     "name": "#%%\n"
    }
   },
   "outputs": [],
   "source": [
    "\n",
    "## Features mutual scatter plots\n",
    "plt.scatter(x4, y4, edgecolors=(0, 0, 0))\n",
    "plt.title('All Accounts: Mutual features\\' dependency plot')\n",
    "plt.xlabel('invoice_count')\n",
    "plt.ylabel('client_count')\n",
    "\n",
    "plt.show()"
   ]
  },
  {
   "cell_type": "code",
   "execution_count": null,
   "metadata": {
    "pycharm": {
     "name": "#%%\n"
    }
   },
   "outputs": [],
   "source": []
  },
  {
   "cell_type": "code",
   "execution_count": null,
   "metadata": {
    "pycharm": {
     "name": "#%%\n"
    }
   },
   "outputs": [],
   "source": [
    "## 'declinedonlinepaymentnotification' vs. 'emailsent'\n",
    "feature_x = 'invoice_count_day_7'\n",
    "feature_y = 'emailsent'\n",
    "\n",
    "## Features data\n",
    "x3 = df_all_accounts_day_07[feature_x]\n",
    "y3 = df_all_accounts_day_07[feature_y]\n",
    "\n",
    "## Features mutual scatter plots\n",
    "plt.scatter(x3, y3, edgecolors=(0, 0, 0))\n",
    "plt.title('All Accounts: Mutual features\\' dependency plot')\n",
    "plt.xlabel('invoice_count')\n",
    "plt.ylabel(feature_y)\n",
    "\n",
    "plt.show()"
   ]
  },
  {
   "cell_type": "code",
   "execution_count": null,
   "metadata": {
    "pycharm": {
     "name": "#%%\n"
    }
   },
   "outputs": [],
   "source": [
    "## Removing outliers\n",
    "x4 = []\n",
    "y4 = []\n",
    "\n",
    "x_cut = 1000\n",
    "y_cut = 500\n",
    "\n",
    "for i in range(0, len(x3)-1):\n",
    "    if x3[i] < x_cut and y3[i] < y_cut :\n",
    "        x4.append(x3[i])\n",
    "        y4.append(y3[i])\n",
    "    else:\n",
    "        continue"
   ]
  },
  {
   "cell_type": "code",
   "execution_count": null,
   "metadata": {
    "pycharm": {
     "name": "#%%\n"
    }
   },
   "outputs": [],
   "source": [
    "\n",
    "## Features mutual scatter plots\n",
    "plt.scatter(x4, y4, edgecolors=(0, 0, 0))\n",
    "plt.title('All Accounts: Mutual features\\' dependency plot')\n",
    "plt.xlabel('invoice_count')\n",
    "plt.ylabel(feature_y)\n",
    "\n",
    "plt.show()"
   ]
  },
  {
   "cell_type": "markdown",
   "metadata": {
    "pycharm": {
     "name": "#%% md\n"
    }
   },
   "source": [
    "### Client distribution of the fraud accounts"
   ]
  },
  {
   "cell_type": "code",
   "execution_count": null,
   "metadata": {
    "pycharm": {
     "name": "#%%\n"
    }
   },
   "outputs": [],
   "source": [
    "# Histogram for client number distribution with outliers cutoff \n",
    "n_bins = 10\n",
    "outliers_cutoff = 1000\n",
    "\n",
    "histo_client_fraud_account = sorted(df_fraud_accounts_activity_v2['client_count'])\n",
    "histo_client_fraud_account_leOutlier = [i for i in histo_client_fraud_account if i < outliers_cutoff]\n",
    "histo_client_fraud_account_geOutlier = [i for i in histo_client_fraud_account if i > outliers_cutoff]\n",
    "histo_client_fraud_account = [histo_client_fraud_account_leOutlier, histo_client_fraud_account_geOutlier ] \n",
    "\n",
    "\n",
    "fig, axes = plt.subplots(ncols=2, figsize=(15,5))\n",
    "ax0, ax1 = axes.flatten()\n",
    "\n",
    "ax0.hist(histo_client_fraud_account_leOutlier, n_bins, density=False, histtype='bar')\n",
    "ax0.set_xlabel('client_count')\n",
    "ax0.set_ylabel('accounts_frequency')\n",
    "ax0.set_title('Client distribution of the fraud accounts (less than ' + str(outliers_cutoff) + ')')\n",
    "\n",
    "ax1.hist(histo_client_fraud_account_geOutlier, n_bins, density=False, histtype='bar')   \n",
    "ax1.set_xlabel('client_count')\n",
    "ax1.set_ylabel('accounts_frequency')\n",
    "ax1.set_title('Client distribution of the fraud accounts (greater than ' + str(outliers_cutoff) + ')')"
   ]
  },
  {
   "cell_type": "markdown",
   "metadata": {
    "pycharm": {
     "name": "#%% md\n"
    }
   },
   "source": [
    "### Client count over different time periods"
   ]
  },
  {
   "cell_type": "code",
   "execution_count": null,
   "metadata": {
    "pycharm": {
     "name": "#%%\n"
    }
   },
   "outputs": [],
   "source": [
    "df = df_fraud_accounts_activity_v2[['client_count_day_7',\n",
    "                                 'client_count_day_15',\n",
    "                                 'client_count_day_30',\n",
    "                                 'client_count_day_45',\n",
    "                                 'client_count_day_60',\n",
    "                                 'client_count_day_75',\n",
    "                                 'client_count_day_90',\n",
    "                                 'client_count_month_6',\n",
    "                                 'client_count_year_1',\n",
    "                                 'client_count_year_2',\n",
    "                                 'client_count_year_3',\n",
    "                                 'client_count_year_4',\n",
    "                                 'client_count_year_5',\n",
    "                                 'client_count_year_6',\n",
    "                                 'client_count_year_7',\n",
    "                                 'client_count_year_8',\n",
    "                                 'client_count_year_9',\n",
    "                                 'client_count_year_10'\n",
    "                                ]].dropna().astype(int)"
   ]
  },
  {
   "cell_type": "code",
   "execution_count": null,
   "metadata": {
    "pycharm": {
     "name": "#%%\n"
    }
   },
   "outputs": [],
   "source": [
    "# Pair-to-pair cross-validation plot\n",
    "fig, axes = plt.subplots(nrows=3, ncols=2, figsize=(15,10))\n",
    "ax0, ax1, ax2, ax3, ax4, ax5 = axes.flatten()\n",
    "\n",
    "#------------------------------------------------------\n",
    "x0 = df['client_count_day_7']\n",
    "y0 = df['client_count_day_15']\n",
    "\n",
    "ax0.scatter(x0, y0, edgecolors=(0, 0, 0))\n",
    "ax0.plot([y0.min(), y0.max()], [y0.min(), y0.max()], 'k--', lw=2)\n",
    "ax0.set_xlabel('client_count_day_7')\n",
    "ax0.set_ylabel('client_count_day_15')\n",
    "\n",
    "#------------------------------------------------------\n",
    "x1 = df['client_count_day_15']\n",
    "y1 = df['client_count_day_30']\n",
    "\n",
    "ax1.scatter(x1, y1, edgecolors=(0, 0, 0))\n",
    "ax1.plot([y1.min(), y1.max()], [y1.min(), y1.max()], 'k--', lw=2)\n",
    "ax1.set_xlabel('client_count_day_15')\n",
    "ax1.set_ylabel('client_count_day_30')\n",
    "\n",
    "#------------------------------------------------------\n",
    "x2 = df['client_count_day_30']\n",
    "y2 = df['client_count_day_45']\n",
    "\n",
    "ax2.scatter(x2, y2, edgecolors=(0, 0, 0))\n",
    "ax2.plot([y2.min(), y2.max()], [y2.min(), y2.max()], 'k--', lw=2)\n",
    "ax2.set_xlabel('client_count_day_30')\n",
    "ax2.set_ylabel('client_count_day_45')\n",
    "\n",
    "\n",
    "#------------------------------------------------------\n",
    "x3 = df['client_count_day_45']\n",
    "y3 = df['client_count_day_60']\n",
    "\n",
    "ax3.scatter(x3, y3, edgecolors=(0, 0, 0))\n",
    "ax3.plot([y3.min(), y3.max()], [y3.min(), y3.max()], 'k--', lw=2)\n",
    "ax3.set_xlabel('client_count_day_45')\n",
    "ax3.set_ylabel('client_count_day_60')\n",
    "\n",
    "#------------------------------------------------------\n",
    "x4 = df['client_count_day_60']\n",
    "y4 = df['client_count_day_75']\n",
    "\n",
    "ax4.scatter(x4, y4, edgecolors=(0, 0, 0))\n",
    "ax4.plot([y4.min(), y4.max()], [y4.min(), y4.max()], 'k--', lw=2)\n",
    "ax4.set_xlabel('client_count_day_60')\n",
    "ax4.set_ylabel('client_count_day_75')\n",
    "\n",
    "\n",
    "#------------------------------------------------------\n",
    "x5 = df['client_count_day_75']\n",
    "y5 = df['client_count_day_90']\n",
    "\n",
    "ax5.scatter(x5, y5, edgecolors=(0, 0, 0))\n",
    "ax5.plot([y5.min(), y5.max()], [y5.min(), y5.max()], 'k--', lw=2)\n",
    "ax5.set_xlabel('client_count_day_75')\n",
    "ax5.set_ylabel('client_count_day_90')\n",
    "\n",
    "plt.show()"
   ]
  },
  {
   "cell_type": "code",
   "execution_count": null,
   "metadata": {
    "pycharm": {
     "name": "#%%\n"
    }
   },
   "outputs": [],
   "source": [
    "# Aggregrating column values\n",
    "col_count = {'client_count_day_7':[df['client_count_day_7'].sum()],\n",
    "             'client_count_day_15':[df['client_count_day_15'].sum()],\n",
    "             'client_count_day_30':[df['client_count_day_30'].sum()],\n",
    "             'client_count_day_45':[df['client_count_day_45'].sum()],\n",
    "             'client_count_day_60':[df['client_count_day_60'].sum()],\n",
    "             'client_count_day_75':[df['client_count_day_75'].sum()],\n",
    "             'client_count_day_90':[df['client_count_day_90'].sum()],\n",
    "             'client_count_month_6':[df['client_count_month_6'].sum()],\n",
    "             'client_count_year_1':[df['client_count_year_1'].sum()],\n",
    "             'client_count_year_2':[df['client_count_year_2'].sum()],\n",
    "             'client_count_year_3':[df['client_count_year_3'].sum()],\n",
    "             'client_count_year_4':[df['client_count_year_4'].sum()],\n",
    "             'client_count_year_5':[df['client_count_year_5'].sum()],\n",
    "             'client_count_year_6':[df['client_count_year_6'].sum()],\n",
    "             'client_count_year_7':[df['client_count_year_7'].sum()],\n",
    "             'client_count_year_8':[df['client_count_year_8'].sum()],\n",
    "             'client_count_year_9':[df['client_count_year_9'].sum()],\n",
    "             'client_count_year_10':[df['client_count_year_10'].sum()]\n",
    "            }\n",
    "\n",
    "df2 = pd.DataFrame(col_count, columns=[ 'client_count_day_7', 'client_count_day_15', 'client_count_day_30',\n",
    "                                        'client_count_day_45','client_count_day_60', 'client_count_day_75',\n",
    "                                        'client_count_day_90','client_count_month_6','client_count_year_1',\n",
    "                                        'client_count_year_2','client_count_year_3', 'client_count_year_4',\n",
    "                                        'client_count_year_5','client_count_year_6', 'client_count_year_7',\n",
    "                                        'client_count_year_8','client_count_year_9', 'client_count_year_10'\n",
    "                                      ])\n"
   ]
  },
  {
   "cell_type": "code",
   "execution_count": null,
   "metadata": {
    "pycharm": {
     "name": "#%%\n"
    }
   },
   "outputs": [],
   "source": [
    "df2"
   ]
  },
  {
   "cell_type": "code",
   "execution_count": null,
   "metadata": {
    "pycharm": {
     "name": "#%%\n"
    }
   },
   "outputs": [],
   "source": [
    "height = [10473, 16808, 24865, \n",
    "          31068, 36064, 40556, \n",
    "          44526, 62225, 84201,\n",
    "          105868, 109745, 111486,\n",
    "          112152, 112520, 112866, \n",
    "          113054, 113172, 113192]\n",
    "bars = ('day_7',  'day_15', 'day_30', 'day_45',  'day_60', 'day_75', \n",
    "        'day_90', 'month_6',  'year_1',  'year_2',   'year_3',  'year_4',\n",
    "        'year_5',  'year_6',  'year_7',   'year_8',   'year_9',  'year_10'\n",
    "        )\n",
    "x_pos = [1,2,3,4,5,6,7,8,9,10,11,12,13,14,15,17,18,19]\n",
    "y_pos = np.arange(len(bars))\n",
    "\n",
    "# Create legend\n",
    "plt.legend()\n",
    "\n",
    "# Create bars\n",
    "plt.bar(y_pos, height, width=0.9)\n",
    "\n",
    "\n",
    "# Create names on the x-axis\n",
    "plt.xticks(y_pos, bars, rotation=90)\n",
    " \n",
    "# Show graphic\n",
    "plt.xlabel('fraud_accounts_lifespan_period')\n",
    "plt.ylabel('frequency')\n",
    "plt.title('Client count in different time periods of fraud account lifespan')\n",
    "plt.show() "
   ]
  },
  {
   "cell_type": "markdown",
   "metadata": {
    "pycharm": {
     "name": "#%% md\n"
    }
   },
   "source": [
    "#### Client Count of Fraud Accounts: Column Statistics"
   ]
  },
  {
   "cell_type": "code",
   "execution_count": null,
   "metadata": {
    "pycharm": {
     "name": "#%%\n"
    }
   },
   "outputs": [],
   "source": [
    "df_client_count_fraud_account_stat = df.describe()\n",
    "df_client_count_fraud_account_stat"
   ]
  },
  {
   "cell_type": "markdown",
   "metadata": {
    "pycharm": {
     "name": "#%% md\n"
    }
   },
   "source": [
    "### Invoice Count Activities of Fraud Accounts"
   ]
  },
  {
   "cell_type": "code",
   "execution_count": null,
   "metadata": {
    "pycharm": {
     "name": "#%%\n"
    }
   },
   "outputs": [],
   "source": [
    "# Histogram for invoice number distribution\n",
    "n_bins = 10\n",
    "plt.hist(df_fraud_accounts_activity_v2['invoice_count'], n_bins, density=False, histtype='bar')\n",
    "plt.xlabel('invoice_count')\n",
    "plt.ylabel('accounts_frequency')\n",
    "plt.title('Invoicedistribution of the fraud accounts (less than ' + str(outliers_cutoff) + ')')"
   ]
  },
  {
   "cell_type": "code",
   "execution_count": null,
   "metadata": {
    "pycharm": {
     "name": "#%%\n"
    }
   },
   "outputs": [],
   "source": [
    "# Histogram for invoice number distribution with outliers cutoff \n",
    "n_bins = 10\n",
    "outliers_cutoff = 500\n",
    "\n",
    "invoice_count_sorted_fraud_account = sorted(df_fraud_accounts_activity_v2['invoice_count'])\n",
    "invoice_count_sorted_fraud_account_leOutlier = [i for i in invoice_count_sorted_fraud_account if i < outliers_cutoff]\n",
    "invoice_count_sorted_fraud_account_geOutlier = [i for i in invoice_count_sorted_fraud_account if i > outliers_cutoff]\n",
    "#histo_invoice_fraud_account = [histo_invoice_fraud_account_leOutlier, histo_invoice_fraud_account_geOutlier ] \n",
    "\n",
    "\n",
    "fig, axes = plt.subplots(ncols=2, figsize=(15,5))\n",
    "ax0, ax1 = axes.flatten()\n",
    "\n",
    "ax0.hist(invoice_count_sorted_fraud_account_leOutlier, n_bins, density=False, histtype='bar')\n",
    "ax0.set_xlabel('invoice_count')\n",
    "ax0.set_ylabel('accounts_frequency')\n",
    "ax0.set_title('Invoicedistribution of the fraud accounts (less than ' + str(outliers_cutoff) + ')')\n",
    "\n",
    "ax1.hist(invoice_count_sorted_fraud_account_geOutlier, n_bins, density=False, histtype='bar')   \n",
    "ax1.set_xlabel('invoice_count')\n",
    "ax1.set_ylabel('accounts_frequency')\n",
    "ax1.set_title('Invoice distribution of the fraud accounts (greater than ' + str(outliers_cutoff) + ')')\n"
   ]
  },
  {
   "cell_type": "markdown",
   "metadata": {
    "pycharm": {
     "name": "#%% md\n"
    }
   },
   "source": [
    "### Client count over different time periods"
   ]
  },
  {
   "cell_type": "code",
   "execution_count": null,
   "metadata": {
    "pycharm": {
     "name": "#%%\n"
    }
   },
   "outputs": [],
   "source": [
    "df3 = df_fraud_accounts_activity_v2[['invoice_count_day_7',\n",
    "                                 'invoice_count_day_15',\n",
    "                                 'invoice_count_day_30',\n",
    "                                 'invoice_count_day_45',\n",
    "                                 'invoice_count_day_60',\n",
    "                                 'invoice_count_day_75',\n",
    "                                 'invoice_count_day_90',\n",
    "                                 'invoice_count_month_6',\n",
    "                                 'invoice_count_year_1',\n",
    "                                 'invoice_count_year_2',\n",
    "                                 'invoice_count_year_3',\n",
    "                                 'invoice_count_year_4',\n",
    "                                 'invoice_count_year_5',\n",
    "                                 'invoice_count_year_6',\n",
    "                                 'invoice_count_year_7',\n",
    "                                 'invoice_count_year_8',\n",
    "                                 'invoice_count_year_9',\n",
    "                                 'invoice_count_year_10'\n",
    "                                ]].dropna().astype(int)"
   ]
  },
  {
   "cell_type": "code",
   "execution_count": null,
   "metadata": {
    "pycharm": {
     "name": "#%%\n"
    }
   },
   "outputs": [],
   "source": []
  },
  {
   "cell_type": "code",
   "execution_count": null,
   "metadata": {
    "pycharm": {
     "name": "#%%\n"
    }
   },
   "outputs": [],
   "source": [
    "# Pair-to-pair cross-validation plot for invoce count in different time period\n",
    "fig, axes = plt.subplots(nrows=3, ncols=2, figsize=(15,10))\n",
    "ax0, ax1, ax2, ax3, ax4, ax5 = axes.flatten()\n",
    "\n",
    "#------------------------------------------------------\n",
    "x0 = df3['invoice_count_day_7']\n",
    "y0 = df3['invoice_count_day_15']\n",
    "\n",
    "ax0.scatter(x0, y0, edgecolors=(0, 0, 0))\n",
    "ax0.plot([y0.min(), y0.max()], [y0.min(), y0.max()], 'k--', lw=2)\n",
    "ax0.set_xlabel('invoice_count_day_7')\n",
    "ax0.set_ylabel('invoice_count_day_15')\n",
    "\n",
    "#------------------------------------------------------\n",
    "x1 = df3['invoice_count_day_15']\n",
    "y1 = df3['invoice_count_day_30']\n",
    "\n",
    "ax1.scatter(x1, y1, edgecolors=(0, 0, 0))\n",
    "ax1.plot([y1.min(), y1.max()], [y1.min(), y1.max()], 'k--', lw=2)\n",
    "ax1.set_xlabel('invoice_count_day_15')\n",
    "ax1.set_ylabel('invoice_count_day_30')\n",
    "\n",
    "#------------------------------------------------------\n",
    "x2 = df3['invoice_count_day_30']\n",
    "y2 = df3['invoice_count_day_45']\n",
    "\n",
    "ax2.scatter(x2, y2, edgecolors=(0, 0, 0))\n",
    "ax2.plot([y2.min(), y2.max()], [y2.min(), y2.max()], 'k--', lw=2)\n",
    "ax2.set_xlabel('invoice_count_day_30')\n",
    "ax2.set_ylabel('invoice_count_day_45')\n",
    "\n",
    "\n",
    "#------------------------------------------------------\n",
    "x3 = df3['invoice_count_day_45']\n",
    "y3 = df3['invoice_count_day_60']\n",
    "\n",
    "ax3.scatter(x3, y3, edgecolors=(0, 0, 0))\n",
    "ax3.plot([y3.min(), y3.max()], [y3.min(), y3.max()], 'k--', lw=2)\n",
    "ax3.set_xlabel('invoice_count_day_45')\n",
    "ax3.set_ylabel('invoice_count_day_60')\n",
    "\n",
    "#------------------------------------------------------\n",
    "x4 = df3['invoice_count_day_60']\n",
    "y4 = df3['invoice_count_day_75']\n",
    "\n",
    "ax4.scatter(x4, y4, edgecolors=(0, 0, 0))\n",
    "ax4.plot([y4.min(), y4.max()], [y4.min(), y4.max()], 'k--', lw=2)\n",
    "ax4.set_xlabel('client_count_day_60')\n",
    "ax4.set_ylabel('client_count_day_75')\n",
    "\n",
    "\n",
    "#------------------------------------------------------\n",
    "x5 = df3['invoice_count_day_75']\n",
    "y5 = df3['invoice_count_day_90']\n",
    "\n",
    "ax5.scatter(x5, y5, edgecolors=(0, 0, 0))\n",
    "ax5.plot([y5.min(), y5.max()], [y5.min(), y5.max()], 'k--', lw=2)\n",
    "ax5.set_xlabel('invoice_count_day_75')\n",
    "ax5.set_ylabel('invoice_count_day_90')\n",
    "\n",
    "plt.show()"
   ]
  },
  {
   "cell_type": "code",
   "execution_count": null,
   "metadata": {
    "pycharm": {
     "name": "#%%\n"
    }
   },
   "outputs": [],
   "source": [
    "# Aggregrating column values\n",
    "invoice_col_count = {'invoice_count_day_7' :[df3['invoice_count_day_7'].sum()],\n",
    "                     'invoice_count_day_15':[df3['invoice_count_day_15'].sum()],\n",
    "                     'invoice_count_day_30':[df3['invoice_count_day_30'].sum()],\n",
    "                     'invoice_count_day_45':[df3['invoice_count_day_45'].sum()],\n",
    "                     'invoice_count_day_60':[df3['invoice_count_day_60'].sum()],\n",
    "                     'invoice_count_day_75':[df3['invoice_count_day_75'].sum()],\n",
    "                     'invoice_count_day_90':[df3['invoice_count_day_90'].sum()],\n",
    "                     'invoice_count_month_6':[df3['invoice_count_month_6'].sum()],\n",
    "                     'invoice_count_year_1':[df3['invoice_count_year_1'].sum()],\n",
    "                     'invoice_count_year_2':[df3['invoice_count_year_2'].sum()],\n",
    "                     'invoice_count_year_3':[df3['invoice_count_year_3'].sum()],\n",
    "                     'invoice_count_year_4':[df3['invoice_count_year_4'].sum()],\n",
    "                     'invoice_count_year_5':[df3['invoice_count_year_5'].sum()],\n",
    "                     'invoice_count_year_6':[df3['invoice_count_year_6'].sum()],\n",
    "                     'invoice_count_year_7':[df3['invoice_count_year_7'].sum()],\n",
    "                     'invoice_count_year_8':[df3['invoice_count_year_8'].sum()],\n",
    "                     'invoice_count_year_9':[df3['invoice_count_year_9'].sum()],\n",
    "                     'invoice_count_year_10':[df3['invoice_count_year_10'].sum()]\n",
    "            }\n",
    "\n",
    "df4 = pd.DataFrame(invoice_col_count, columns=[ 'invoice_count_day_7', 'invoice_count_day_15', 'invoice_count_day_30',\n",
    "                                                'invoice_count_day_45','invoice_count_day_60', 'invoice_count_day_75',\n",
    "                                                'invoice_count_day_90','invoice_count_month_6','invoice_count_year_1',\n",
    "                                                'invoice_count_year_2','invoice_count_year_3', 'invoice_count_year_4',\n",
    "                                                'invoice_count_year_5','invoice_count_year_6', 'invoice_count_year_7',\n",
    "                                                'invoice_count_year_8','invoice_count_year_9', 'invoice_count_year_10'\n",
    "                                              ])\n",
    "# Printing histogram bar heitht\n",
    "height = df4.values.tolist()\n",
    "height"
   ]
  },
  {
   "cell_type": "code",
   "execution_count": null,
   "metadata": {
    "pycharm": {
     "name": "#%%\n"
    }
   },
   "outputs": [],
   "source": [
    "height = [15769, 10574, 19640, 26998, 33646, 39673, 45588, 73193, \n",
    "          114960, 175531, 204357, 220022, 226549, 231151, 236013, \n",
    "          239781, 240574, 240804]\n",
    "\n",
    "bars = ('day_7',  'day_15', 'day_30', 'day_45',  'day_60', 'day_75', \n",
    "        'day_90', 'month_6',  'year_1',  'year_2',   'year_3',  'year_4',\n",
    "        'year_5',  'year_6',  'year_7',   'year_8',   'year_9',  'year_10'\n",
    "        )\n",
    "x_pos = [1,2,3,4,5,6,7,8,9,10,11,12,13,14,15,17,18,19]\n",
    "y_pos = np.arange(len(bars))\n",
    "\n",
    "# Create legend\n",
    "plt.legend()\n",
    "\n",
    "# Create bars\n",
    "plt.bar(y_pos, height, width=0.9)\n",
    "\n",
    "\n",
    "# Create names on the x-axis\n",
    "plt.xticks(y_pos, bars, rotation=90)\n",
    " \n",
    "# Show graphic\n",
    "plt.xlabel('fraud_accounts_lifespan_period')\n",
    "plt.ylabel('frequency')\n",
    "plt.title('Client count in different time periods of fraud account lifespan')\n",
    "plt.show()"
   ]
  },
  {
   "cell_type": "code",
   "execution_count": null,
   "metadata": {
    "pycharm": {
     "name": "#%%\n"
    }
   },
   "outputs": [],
   "source": [
    "height = [15769, 10574, 19640, \n",
    "          26998, 33646, 39673, \n",
    "          45588, 73193, 114960]\n",
    "\n",
    "bars = ('day_7',  'day_15', 'day_30', \n",
    "        'day_45',  'day_60', 'day_75', \n",
    "        'day_90', 'month_6',  'year_1'\n",
    "        )\n",
    "x_pos = [0,1,2,3,4,5,6,7,8]\n",
    "y_pos = np.arange(len(bars))\n",
    "\n",
    "# Create legend\n",
    "plt.legend()\n",
    "\n",
    "# Create bars\n",
    "plt.bar(y_pos, height, width=0.9)\n",
    "\n",
    "\n",
    "# Create names on the x-axis\n",
    "plt.xticks(y_pos, bars, rotation=90)\n",
    " \n",
    "# Show graphic\n",
    "plt.xlabel('fraud_accounts_lifespan_period')\n",
    "plt.ylabel('frequency')\n",
    "plt.title('Client count in different time periods of fraud account lifespan')\n",
    "plt.show()"
   ]
  },
  {
   "cell_type": "markdown",
   "metadata": {
    "pycharm": {
     "name": "#%% md\n"
    }
   },
   "source": [
    "### Word Count per Invoice in Fraud Accounts\n",
    "\n",
    "#### Invoice description word count"
   ]
  },
  {
   "cell_type": "code",
   "execution_count": null,
   "metadata": {
    "pycharm": {
     "name": "#%%\n"
    }
   },
   "outputs": [],
   "source": [
    "# Import fraud account life span (days to ban) data\n",
    "df_fraud_accounts_invoices = pd.read_csv(\"fraud_accounts_invoices_descriptions.csv\", sep=\"\\t\")"
   ]
  },
  {
   "cell_type": "code",
   "execution_count": null,
   "metadata": {
    "pycharm": {
     "name": "#%%\n"
    }
   },
   "outputs": [],
   "source": [
    "import re\n",
    "def words_count (strg):\n",
    "    \n",
    "    #print(strg)\n",
    "    \n",
    "    if strg == '' or pd.isnull(strg):\n",
    "        no_of_words = 0\n",
    "        #print('NaN')\n",
    "    else:\n",
    "        strg_words_list = re.findall(r\"[\\w']+\", strg)\n",
    "        no_of_words = len(strg_words_list)\n",
    "\n",
    "        \n",
    "        #print(strg_words_list)\n",
    "    \n",
    "    return no_of_words \n",
    "    "
   ]
  },
  {
   "cell_type": "code",
   "execution_count": null,
   "metadata": {
    "pycharm": {
     "name": "#%%\n"
    },
    "scrolled": false
   },
   "outputs": [],
   "source": [
    "# Words count list\n",
    "words_count_list_description = []  # for invoice description\n",
    "words_count_list_notes = []        # for invoice notes\n",
    "words_count_list_terms = []        # for invoice terms\n",
    "words_count_list_address = []      # for invoice address\n",
    "\n",
    "# Iterating through the row of the dataframe \n",
    "for index, row in df_fraud_accounts_invoices.iterrows():\n",
    "    #print('\\n')\n",
    "    #print(index)\n",
    "    \n",
    "    # itemes string\n",
    "    description = row['description']\n",
    "    notes = row['notes']\n",
    "    terms = row['terms']\n",
    "    address = row['address']\n",
    "    \n",
    "    # word count using 'word_count(string)' function\n",
    "    wc_description = words_count(description)\n",
    "    wc_notes = words_count(notes)\n",
    "    wc_terms = words_count(terms)\n",
    "    wc_address = words_count(address)\n",
    "    \n",
    "    # adding word counts to the list\n",
    "    words_count_list_description.append(wc_description)\n",
    "    words_count_list_notes.append(wc_notes)\n",
    "    words_count_list_terms.append(wc_terms)\n",
    "    words_count_list_address.append(wc_address)\n",
    "    \n",
    "    #print(index, invoice_description, wc)\n",
    "    #print(index, wc)\n",
    "    #print('\\n')\n"
   ]
  },
  {
   "cell_type": "code",
   "execution_count": null,
   "metadata": {
    "pycharm": {
     "name": "#%%\n"
    }
   },
   "outputs": [],
   "source": [
    "# Adding words count columns in the dataframe\n",
    "df_fraud_accounts_invoices['description_words_count'] = words_count_list_description\n",
    "df_fraud_accounts_invoices['notes_words_count'] = words_count_list_notes\n",
    "df_fraud_accounts_invoices['terms_words_count'] = words_count_list_terms\n",
    "df_fraud_accounts_invoices['address_words_count'] = words_count_list_address\n"
   ]
  }
 ],
 "metadata": {
  "kernelspec": {
   "display_name": "env_py3_9",
   "language": "python",
   "name": "python3"
  },
  "language_info": {
   "codemirror_mode": {
    "name": "ipython",
    "version": 3
   },
   "file_extension": ".py",
   "mimetype": "text/x-python",
   "name": "python",
   "nbconvert_exporter": "python",
   "pygments_lexer": "ipython3",
   "version": "3.9.undefined"
  }
 },
 "nbformat": 4,
 "nbformat_minor": 2
}
