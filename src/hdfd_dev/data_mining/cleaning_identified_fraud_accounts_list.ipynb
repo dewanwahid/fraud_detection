{
 "cells": [
  {
   "cell_type": "code",
   "execution_count": null,
   "metadata": {
    "pycharm": {
     "name": "#%%\n"
    }
   },
   "outputs": [],
   "source": [
    "import pandas as pd\n",
    "import numpy as np\n",
    "%config IPCompleter.greedy=True"
   ]
  },
  {
   "cell_type": "code",
   "execution_count": null,
   "metadata": {
    "pycharm": {
     "name": "#%%\n"
    }
   },
   "outputs": [],
   "source": [
    "df_fraud_set_a = pd.read_csv(\"data_raw/Fraud_Status.csv\") "
   ]
  },
  {
   "cell_type": "code",
   "execution_count": null,
   "metadata": {
    "pycharm": {
     "is_executing": true,
     "name": "#%%\n"
    }
   },
   "outputs": [],
   "source": [
    "df_fraud_set_a.head()"
   ]
  },
  {
   "cell_type": "code",
   "execution_count": null,
   "metadata": {
    "pycharm": {
     "name": "#%%\n"
    }
   },
   "outputs": [],
   "source": [
    "# Identified fraud accounts by using anomaly detection model\n",
    "df_fraud_set_a = pd.read_csv(\"data_raw/Fraud_Status.csv\") \n",
    "df_fraud_set_a['id'].replace(' ', np.nan, inplace=True)  # replacing empty 'id' with 'NaN'\n",
    "df_fraud_set_a.dropna(subset=['id'], inplace=True)       # filtering out the 'id' rows with 'NaN'\n",
    "df_fraud_set_a = df_fraud_set_a[['id', 'status_date', 'account_status', 'fraud_status', 'notes']]"
   ]
  },
  {
   "cell_type": "code",
   "execution_count": null,
   "metadata": {
    "pycharm": {
     "is_executing": true,
     "name": "#%%\n"
    }
   },
   "outputs": [],
   "source": [
    "df_fraud_set_a.where[df_fraud_set_a['id'] == '']"
   ]
  },
  {
   "cell_type": "code",
   "execution_count": null,
   "metadata": {
    "pycharm": {
     "name": "#%%\n"
    }
   },
   "outputs": [],
   "source": [
    "# Identified fraud accounts which were flagged by the Rockstars\n",
    "df_fraud_set_b = pd.read_csv(\"data_raw/Fraud_RockStar_Flags.csv\")"
   ]
  },
  {
   "cell_type": "code",
   "execution_count": null,
   "metadata": {
    "pycharm": {
     "is_executing": true,
     "name": "#%%\n"
    }
   },
   "outputs": [],
   "source": [
    "df_fraud_set_b.tail()"
   ]
  },
  {
   "cell_type": "code",
   "execution_count": null,
   "metadata": {
    "pycharm": {
     "name": "#%%\n"
    }
   },
   "outputs": [],
   "source": [
    "# Identified fraud accounts which were flagged by the Rockstars\n",
    "df_fraud_set_b = pd.read_csv(\"data_raw/Fraud_RockStar_Flags.csv\")\n",
    "df_fraud_set_b['id'].replace(' ', np.nan, inplace=True)  # replacing empty 'id' with 'NaN'\n",
    "df_fraud_set_b.dropna(subset=['id'], inplace=True)       # filtering out the 'id' rows with 'NaN'\n",
    "df_fraud_set_b = df_fraud_set_b[['id','status_date', 'account_status', 'fraud_status', 'notes']] "
   ]
  },
  {
   "cell_type": "code",
   "execution_count": null,
   "metadata": {
    "pycharm": {
     "name": "#%%\n"
    }
   },
   "outputs": [],
   "source": [
    "frames = [df_fraud_set_a, df_fraud_set_b]\n",
    "df_fraud = pd.concat(frames)"
   ]
  },
  {
   "cell_type": "code",
   "execution_count": null,
   "metadata": {
    "pycharm": {
     "name": "#%%\n"
    }
   },
   "outputs": [],
   "source": [
    "df_fraud.drop_duplicates(subset='id', keep = 'first', inplace=True)"
   ]
  },
  {
   "cell_type": "code",
   "execution_count": null,
   "metadata": {
    "pycharm": {
     "name": "#%%\n"
    }
   },
   "outputs": [],
   "source": [
    "# Export combined list of the fraud accounts to a csv file\n",
    "df_fraud.to_csv(r\"data_clusters/fraud_accounts_list_v1_1.csv\")"
   ]
  },
  {
   "cell_type": "code",
   "execution_count": null,
   "metadata": {
    "pycharm": {
     "name": "#%%\n"
    }
   },
   "outputs": [],
   "source": [
    "df_fraud_accounts_list_v1_2 = pd.read_csv(\"data/fraud_account_list_v1_2.csv\") "
   ]
  },
  {
   "cell_type": "code",
   "execution_count": null,
   "metadata": {
    "pycharm": {
     "name": "#%%\n"
    }
   },
   "outputs": [],
   "source": [
    "status_date_clean = []\n",
    "\n",
    "for index,row in df_fraud_accounts_list_v1_2.iterrows():\n",
    "    date_str = row['status_date'].split('/')\n",
    "    #print(date_str[0], date_str[1], date_str[2])\n",
    "    date_str_clean = date_str[2] + '-' + date_str[0] + '-' + date_str[1]\n",
    "    #print(date_str_clean)\n",
    "    status_date_clean.append(date_str_clean)\n",
    "\n",
    "df_fraud_accounts_list_v1_2['status_date_v2'] = status_date_clean"
   ]
  },
  {
   "cell_type": "code",
   "execution_count": null,
   "metadata": {
    "pycharm": {
     "name": "#%%\n"
    }
   },
   "outputs": [],
   "source": [
    "df_fraud_accounts_list_v1_2.tail()"
   ]
  },
  {
   "cell_type": "code",
   "execution_count": null,
   "metadata": {
    "pycharm": {
     "name": "#%%\n"
    }
   },
   "outputs": [],
   "source": [
    "df_fraud_accounts_list_v1_3 = df_fraud_accounts_list_v1_2[['id', 'status_date_v2','account_status', 'fraud_status', 'notes']]"
   ]
  },
  {
   "cell_type": "code",
   "execution_count": null,
   "metadata": {
    "pycharm": {
     "name": "#%%\n"
    }
   },
   "outputs": [],
   "source": [
    "df_fraud_accounts_list_v1_3.tail()"
   ]
  },
  {
   "cell_type": "code",
   "execution_count": null,
   "metadata": {
    "pycharm": {
     "name": "#%%\n"
    }
   },
   "outputs": [],
   "source": [
    "# Export combined list of the fraud accounts to a csv file\n",
    "df_fraud_accounts_list_v1_4 = df_fraud_accounts_list_v1_3.to_csv(r\"data/fraud_accounts_list_v1_4.csv\")"
   ]
  }
 ],
 "metadata": {
  "kernelspec": {
   "display_name": "Python 3 (ipykernel)",
   "language": "python",
   "name": "python3"
  },
  "language_info": {
   "codemirror_mode": {
    "name": "ipython",
    "version": 2
   },
   "file_extension": ".py",
   "mimetype": "text/x-python",
   "name": "python",
   "nbconvert_exporter": "python",
   "pygments_lexer": "ipython2",
   "version": "2.7.17"
  }
 },
 "nbformat": 4,
 "nbformat_minor": 2
}
